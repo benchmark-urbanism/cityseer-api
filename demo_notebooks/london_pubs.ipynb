{
 "cells": [
  {
   "cell_type": "markdown",
   "metadata": {
    "collapsed": true,
    "pycharm": {
     "name": "#%% md\n"
    }
   },
   "source": [
    "# Pub accessibility for Inner London\n",
    "\n",
    "## Data and preparation\n",
    "\n",
    "> Pubs (data provided by CAMRA in January 2019)\n",
    "> https://data.london.gov.uk/download/cultural-infrastructure-map/7e6b0f36-da01-4029-99d7-640d89c4a0a4/Pubs.csv\n",
    "> Buildings defined by CAMRA as pubs. Licensed premises must be open to and welcome the general public without requiring membership or residency, allow free entry (1), serve at least one draught beer (2), allow drinking without requiring food to be consumed, have at least one indoor area not laid out for meals, and permit drinks to be purchased in person at a bar (3), without relying on table service.’ (1) Except when entertainment is provided on limited occasions (2) Includes cask or keg beer (3) Includes also a hatch or specific service point’\n",
    "> How data was compiled: Data provided by the Campaign for Real Ale.\n",
    "> Credit for use: The Campaign for Real Ale\n",
    "\n",
    "This examples calculates landuse accessibility to pubs for inner London. For additional information on network preparation, see the corresponding notebook on [graph cleaning](https://colab.research.google.com/github/cityseer/cityseer/blob/master/demo_notebooks/graph_cleaning.ipynb) for more information.\n",
    "\n",
    "This example will make use of OSM data downloaded from the [OSM API](https://wiki.openstreetmap.org/wiki/API) for a 5000m radius around London Soho."
   ]
  },
  {
   "cell_type": "code",
   "execution_count": 1,
   "outputs": [
    {
     "name": "stdout",
     "output_type": "stream",
     "text": [
      "Requirement already satisfied: cityseer in /Users/gareth/dev/benchmark-urbanism/cityseer-api/venv/lib/python3.9/site-packages (1.2.0)\r\n",
      "Requirement already satisfied: numba-progress in /Users/gareth/dev/benchmark-urbanism/cityseer-api/venv/lib/python3.9/site-packages (from cityseer) (0.0.2)\r\n",
      "Requirement already satisfied: numba>=0.53 in /Users/gareth/dev/benchmark-urbanism/cityseer-api/venv/lib/python3.9/site-packages (from cityseer) (0.55.1)\r\n",
      "Requirement already satisfied: networkx>=2.4 in /Users/gareth/dev/benchmark-urbanism/cityseer-api/venv/lib/python3.9/site-packages (from cityseer) (2.6.3)\r\n",
      "Requirement already satisfied: utm in /Users/gareth/dev/benchmark-urbanism/cityseer-api/venv/lib/python3.9/site-packages (from cityseer) (0.7.0)\r\n",
      "Requirement already satisfied: numpy in /Users/gareth/dev/benchmark-urbanism/cityseer-api/venv/lib/python3.9/site-packages (from cityseer) (1.21.5)\r\n",
      "Requirement already satisfied: shapely>=1.7 in /Users/gareth/dev/benchmark-urbanism/cityseer-api/venv/lib/python3.9/site-packages (from cityseer) (1.8.1.post1)\r\n",
      "Requirement already satisfied: sklearn in /Users/gareth/dev/benchmark-urbanism/cityseer-api/venv/lib/python3.9/site-packages (from cityseer) (0.0)\r\n",
      "Requirement already satisfied: tqdm in /Users/gareth/dev/benchmark-urbanism/cityseer-api/venv/lib/python3.9/site-packages (from cityseer) (4.62.3)\r\n",
      "Requirement already satisfied: matplotlib in /Users/gareth/dev/benchmark-urbanism/cityseer-api/venv/lib/python3.9/site-packages (from cityseer) (3.5.1)\r\n",
      "Requirement already satisfied: requests in /Users/gareth/dev/benchmark-urbanism/cityseer-api/venv/lib/python3.9/site-packages (from cityseer) (2.27.1)\r\n",
      "Requirement already satisfied: pytest in /Users/gareth/dev/benchmark-urbanism/cityseer-api/venv/lib/python3.9/site-packages (from cityseer) (7.0.1)\r\n",
      "Requirement already satisfied: setuptools in /Users/gareth/dev/benchmark-urbanism/cityseer-api/venv/lib/python3.9/site-packages (from numba>=0.53->cityseer) (59.3.0)\r\n",
      "Requirement already satisfied: llvmlite<0.39,>=0.38.0rc1 in /Users/gareth/dev/benchmark-urbanism/cityseer-api/venv/lib/python3.9/site-packages (from numba>=0.53->cityseer) (0.38.0)\r\n",
      "Requirement already satisfied: pyparsing>=2.2.1 in /Users/gareth/dev/benchmark-urbanism/cityseer-api/venv/lib/python3.9/site-packages (from matplotlib->cityseer) (3.0.6)\r\n",
      "Requirement already satisfied: kiwisolver>=1.0.1 in /Users/gareth/dev/benchmark-urbanism/cityseer-api/venv/lib/python3.9/site-packages (from matplotlib->cityseer) (1.3.2)\r\n",
      "Requirement already satisfied: packaging>=20.0 in /Users/gareth/dev/benchmark-urbanism/cityseer-api/venv/lib/python3.9/site-packages (from matplotlib->cityseer) (21.3)\r\n",
      "Requirement already satisfied: pillow>=6.2.0 in /Users/gareth/dev/benchmark-urbanism/cityseer-api/venv/lib/python3.9/site-packages (from matplotlib->cityseer) (8.4.0)\r\n",
      "Requirement already satisfied: cycler>=0.10 in /Users/gareth/dev/benchmark-urbanism/cityseer-api/venv/lib/python3.9/site-packages (from matplotlib->cityseer) (0.11.0)\r\n",
      "Requirement already satisfied: python-dateutil>=2.7 in /Users/gareth/dev/benchmark-urbanism/cityseer-api/venv/lib/python3.9/site-packages (from matplotlib->cityseer) (2.8.2)\r\n",
      "Requirement already satisfied: fonttools>=4.22.0 in /Users/gareth/dev/benchmark-urbanism/cityseer-api/venv/lib/python3.9/site-packages (from matplotlib->cityseer) (4.28.2)\r\n",
      "Requirement already satisfied: py>=1.8.2 in /Users/gareth/dev/benchmark-urbanism/cityseer-api/venv/lib/python3.9/site-packages (from pytest->cityseer) (1.11.0)\r\n",
      "Requirement already satisfied: pluggy<2.0,>=0.12 in /Users/gareth/dev/benchmark-urbanism/cityseer-api/venv/lib/python3.9/site-packages (from pytest->cityseer) (1.0.0)\r\n",
      "Requirement already satisfied: tomli>=1.0.0 in /Users/gareth/dev/benchmark-urbanism/cityseer-api/venv/lib/python3.9/site-packages (from pytest->cityseer) (1.2.2)\r\n",
      "Requirement already satisfied: attrs>=19.2.0 in /Users/gareth/dev/benchmark-urbanism/cityseer-api/venv/lib/python3.9/site-packages (from pytest->cityseer) (21.2.0)\r\n",
      "Requirement already satisfied: iniconfig in /Users/gareth/dev/benchmark-urbanism/cityseer-api/venv/lib/python3.9/site-packages (from pytest->cityseer) (1.1.1)\r\n",
      "Requirement already satisfied: charset-normalizer~=2.0.0 in /Users/gareth/dev/benchmark-urbanism/cityseer-api/venv/lib/python3.9/site-packages (from requests->cityseer) (2.0.8)\r\n",
      "Requirement already satisfied: idna<4,>=2.5 in /Users/gareth/dev/benchmark-urbanism/cityseer-api/venv/lib/python3.9/site-packages (from requests->cityseer) (3.3)\r\n",
      "Requirement already satisfied: urllib3<1.27,>=1.21.1 in /Users/gareth/dev/benchmark-urbanism/cityseer-api/venv/lib/python3.9/site-packages (from requests->cityseer) (1.26.7)\r\n",
      "Requirement already satisfied: certifi>=2017.4.17 in /Users/gareth/dev/benchmark-urbanism/cityseer-api/venv/lib/python3.9/site-packages (from requests->cityseer) (2021.10.8)\r\n",
      "Requirement already satisfied: scikit-learn in /Users/gareth/dev/benchmark-urbanism/cityseer-api/venv/lib/python3.9/site-packages (from sklearn->cityseer) (1.0.1)\r\n",
      "Requirement already satisfied: six>=1.5 in /Users/gareth/dev/benchmark-urbanism/cityseer-api/venv/lib/python3.9/site-packages (from python-dateutil>=2.7->matplotlib->cityseer) (1.16.0)\r\n",
      "Requirement already satisfied: scipy>=1.1.0 in /Users/gareth/dev/benchmark-urbanism/cityseer-api/venv/lib/python3.9/site-packages (from scikit-learn->sklearn->cityseer) (1.7.3)\r\n",
      "Requirement already satisfied: threadpoolctl>=2.0.0 in /Users/gareth/dev/benchmark-urbanism/cityseer-api/venv/lib/python3.9/site-packages (from scikit-learn->sklearn->cityseer) (3.0.0)\r\n",
      "Requirement already satisfied: joblib>=0.11 in /Users/gareth/dev/benchmark-urbanism/cityseer-api/venv/lib/python3.9/site-packages (from scikit-learn->sklearn->cityseer) (1.1.0)\r\n",
      "Requirement already satisfied: pyproj in /Users/gareth/dev/benchmark-urbanism/cityseer-api/venv/lib/python3.9/site-packages (3.3.0)\r\n",
      "Requirement already satisfied: certifi in /Users/gareth/dev/benchmark-urbanism/cityseer-api/venv/lib/python3.9/site-packages (from pyproj) (2021.10.8)\r\n"
     ]
    }
   ],
   "source": [
    "%matplotlib inline\n",
    "!pip install cityseer\n",
    "!pip install pyproj"
   ],
   "metadata": {
    "collapsed": false,
    "pycharm": {
     "name": "#%%\n"
    }
   }
  },
  {
   "cell_type": "code",
   "execution_count": 2,
   "outputs": [],
   "source": [
    "from pyproj import CRS, Transformer\n",
    "from shapely import geometry\n",
    "import utm\n",
    "\n",
    "# starting point\n",
    "lng, lat = -0.13396079424572427, 51.51371088849723\n",
    "distance = 5000\n",
    "easting, northing, utm_zone_number, utm_zone_letter = utm.from_latlon(lat, lng)\n",
    "centre = geometry.Point(easting, northing)\n",
    "# CRS transformations\n",
    "crs_utm = CRS.from_dict({'proj': 'utm', 'zone': utm_zone_number, 'south': False})\n",
    "crs_bng = CRS.from_epsg(27700)\n",
    "crs_transformer = Transformer.from_crs(crs_bng, crs_utm, always_xy=True)"
   ],
   "metadata": {
    "collapsed": false,
    "pycharm": {
     "name": "#%%\n"
    }
   }
  },
  {
   "cell_type": "code",
   "execution_count": null,
   "outputs": [],
   "source": [
    "# prepare network from OSM\n",
    "from cityseer.tools import graphs, mock\n",
    "from cityseer.metrics import networks\n",
    "\n",
    "G_utm = mock.make_buffered_osm_graph(lng, lat, distance)\n",
    "\n",
    "G = graphs.nX_simple_geoms(G_utm)\n",
    "G = graphs.nX_remove_filler_nodes(G)\n",
    "G = graphs.nX_remove_dangling_nodes(G,\n",
    "                                    despine=20,\n",
    "                                    remove_disconnected=True)\n",
    "G = graphs.nX_remove_filler_nodes(G)\n",
    "G1 = graphs.nX_consolidate_nodes(G,\n",
    "                                 buffer_dist=10,\n",
    "                                 min_node_group=3)\n",
    "G2 = graphs.nX_split_opposing_geoms(G1,\n",
    "                                    buffer_dist=15)\n",
    "G3 = graphs.nX_consolidate_nodes(G2,\n",
    "                                 buffer_dist=15,\n",
    "                                 crawl=False,\n",
    "                                 min_node_degree=2,\n",
    "                                 cent_min_degree=4)\n",
    "G_decomp = graphs.nX_decompose(G3, 25)\n",
    "N = networks.NetworkLayerFromNX(G_decomp,\n",
    "                                distances=[400])"
   ],
   "metadata": {
    "collapsed": false,
    "pycharm": {
     "name": "#%%\n",
     "is_executing": true
    }
   }
  },
  {
   "cell_type": "code",
   "execution_count": null,
   "outputs": [],
   "source": [
    "# prepare data layer\n",
    "import pandas as pd\n",
    "import numpy as np\n",
    "from cityseer.metrics import layers\n",
    "\n",
    "# load data\n",
    "pubs_data = pd.read_csv('https://data.london.gov.uk/download/cultural-infrastructure-map/7e6b0f36-da01-4029-99d7-640d89c4a0a4/Pubs.csv')\n",
    "pubs_data_filtered = pubs_data.loc[np.logical_and(~np.isnan(pubs_data.easting),\n",
    "                                                  ~np.isnan(pubs_data.northing))]\n",
    "# unpacking to a dictionary for convenience\n",
    "labels = []\n",
    "fd = {}\n",
    "for idx, data in pubs_data_filtered.iterrows():\n",
    "    x, y = crs_transformer.transform(data.easting, data.northing)\n",
    "    loc = geometry.Point(x, y)\n",
    "    if centre.distance(loc) < distance:\n",
    "        labels.append('pub')\n",
    "        fd[idx] = {'x': x, 'y': y}\n",
    "DL = layers.DataLayerFromDict(fd)\n",
    "# assign trees to network\n",
    "DL.assign_to_network(Network_Layer=N, max_dist=300)\n",
    "# in this case, all labels are the same as all points are the same data type\n",
    "DL.compute_accessibilities(landuse_labels=labels,\n",
    "                           accessibility_keys=['pub'])"
   ],
   "metadata": {
    "collapsed": false,
    "pycharm": {
     "name": "#%%\n",
     "is_executing": true
    }
   }
  },
  {
   "cell_type": "code",
   "execution_count": null,
   "outputs": [],
   "source": [
    "# data can be extracted, plotted, or otherwise manipulated directly from the numpy arrays\n",
    "# see the getting started guide if you'd prefer to first convert back to NetworkX\n",
    "import matplotlib.pyplot as plt\n",
    "import numpy as np\n",
    "from sklearn.preprocessing import minmax_scale\n",
    "\n",
    "\n",
    "def simple_plot(xs: np.ndarray,\n",
    "                ys: np.ndarray,\n",
    "                vals: np.ndarray):\n",
    "    \"\"\" \"\"\"\n",
    "    # extents\n",
    "    easting, northing = utm.from_latlon(lat, lng)[:2]\n",
    "    buff = geometry.Point(easting, northing).buffer(3500)\n",
    "    min_x, min_y, max_x, max_y = buff.bounds\n",
    "    # fig\n",
    "    fig, ax = plt.subplots(1, 1, figsize=(8, 8), dpi=200, facecolor='white')\n",
    "    # filter\n",
    "    select = xs > min_x\n",
    "    select = np.logical_and(select, xs < max_x)\n",
    "    select = np.logical_and(select, ys > min_y)\n",
    "    select = np.logical_and(select, ys < max_y)\n",
    "    select_idx = np.where(select)[0]\n",
    "    # remove any extreme outliers\n",
    "    v = np.clip(vals, np.nanpercentile(vals, .01), np.nanpercentile(vals, 99.9))\n",
    "    # shape if wanted\n",
    "    c = v ** 1\n",
    "    c = minmax_scale(c, feature_range=(0, 1))\n",
    "    s = v ** 1\n",
    "    s = minmax_scale(s, feature_range=(0, 1.5))\n",
    "    # plot\n",
    "    ax.scatter(xs[select_idx],\n",
    "               ys[select_idx],\n",
    "               c=c[select_idx],\n",
    "               s=s[select_idx],\n",
    "               linewidths=0,\n",
    "               edgecolors='none',\n",
    "               cmap='Greens')\n",
    "    # limits\n",
    "    ax.set_xlim(left=min_x, right=max_x)\n",
    "    ax.set_ylim(bottom=min_y, top=max_y)\n",
    "    ax.set_xticks([])\n",
    "    ax.set_yticks([])\n",
    "    ax.set_aspect(1)\n",
    "    ax.set_facecolor('white')\n",
    "    plt.show()\n",
    "\n",
    "simple_plot(N.node_x_arr, N.node_y_arr, N.metrics['accessibility']['weighted']['pub'][400])"
   ],
   "metadata": {
    "collapsed": false,
    "pycharm": {
     "name": "#%%\n",
     "is_executing": true
    }
   }
  },
  {
   "cell_type": "code",
   "execution_count": null,
   "outputs": [],
   "source": [],
   "metadata": {
    "collapsed": false,
    "pycharm": {
     "name": "#%%\n"
    }
   }
  }
 ],
 "metadata": {
  "kernelspec": {
   "display_name": "Python 3",
   "language": "python",
   "name": "python3"
  },
  "language_info": {
   "codemirror_mode": {
    "name": "ipython",
    "version": 2
   },
   "file_extension": ".py",
   "mimetype": "text/x-python",
   "name": "python",
   "nbconvert_exporter": "python",
   "pygments_lexer": "ipython2",
   "version": "2.7.6"
  }
 },
 "nbformat": 4,
 "nbformat_minor": 0
}