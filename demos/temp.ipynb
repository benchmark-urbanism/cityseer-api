{
 "cells": [
  {
   "cell_type": "code",
   "execution_count": 10,
   "metadata": {},
   "outputs": [
    {
     "name": "stderr",
     "output_type": "stream",
     "text": [
      "INFO:cityseer.tools.graphs:Generating simple (straight) edge geometries.\n",
      "100%|██████████| 79/79 [00:00<00:00, 170184.91it/s]\n",
      "INFO:cityseer.tools.graphs:Preparing node and edge arrays from networkX graph.\n",
      "100%|██████████| 57/57 [00:00<00:00, 679191.27it/s]\n",
      "100%|██████████| 57/57 [00:00<00:00, 5939.46it/s]\n"
     ]
    },
    {
     "data": {
      "application/vnd.jupyter.widget-view+json": {
       "model_id": "8e015541b033492ba496ff6228eb1c79",
       "version_major": 2,
       "version_minor": 0
      },
      "text/plain": [
       "  0%|          | 0/57 [00:00<?, ?it/s]"
      ]
     },
     "metadata": {},
     "output_type": "display_data"
    },
    {
     "name": "stderr",
     "output_type": "stream",
     "text": [
      "INFO:cityseer.metrics.layers:Computing stats for: mock_stat\n"
     ]
    },
    {
     "data": {
      "application/vnd.jupyter.widget-view+json": {
       "model_id": "0bb521953736413f88779957972fbace",
       "version_major": 2,
       "version_minor": 0
      },
      "text/plain": [
       "  0%|          | 0/57 [00:00<?, ?it/s]"
      ]
     },
     "metadata": {},
     "output_type": "display_data"
    },
    {
     "name": "stdout",
     "output_type": "stream",
     "text": [
      "71.29311697979952\n"
     ]
    }
   ],
   "source": [
    "from cityseer.metrics import networks, layers\n",
    "from cityseer.tools import mock, graphs\n",
    "\n",
    "# prepare a mock graph\n",
    "G = mock.mock_graph()\n",
    "G = graphs.nx_simple_geoms(G)\n",
    "\n",
    "# generate the network layer\n",
    "cc_netw = networks.NetworkLayerFromNX(G, distances=[200, 400, 800, 1600])\n",
    "\n",
    "# prepare a mock data dictionary\n",
    "data_dict = mock.mock_data_dict(G, random_seed=25)\n",
    "# let's prepare some numerical data\n",
    "stats_data = mock.mock_numerical_data(len(data_dict), num_arrs=1, random_seed=25)\n",
    "\n",
    "# generate a data layer\n",
    "L = layers.DataLayerFromDict(data_dict)\n",
    "# assign to the network\n",
    "L.assign_to_network(cc_netw, max_dist=500)\n",
    "# compute some metrics\n",
    "L.compute_stats(stats_keys=\"mock_stat\", stats_data=stats_data)\n",
    "# let's prepare some keys for accessing the computational outputs\n",
    "# distance idx: any of the distances with which the NetworkLayer was initialised\n",
    "distance_idx = 200\n",
    "# a node idx\n",
    "node_idx = 0\n",
    "\n",
    "# the data is available at cc_netw.metrics_state\n",
    "print(cc_netw.metrics_state.stats[\"mock_stat\"][\"mean_weighted\"][distance_idx][node_idx])\n",
    "# prints: 71.29311697979952"
   ]
  },
  {
   "cell_type": "code",
   "execution_count": 11,
   "metadata": {},
   "outputs": [
    {
     "data": {
      "text/plain": [
       "array([[29.828, 90.43 ,  6.618, 92.303, 35.702, 33.943, 59.314, 21.245,\n",
       "        99.464,  7.324, 83.801, 85.245, 68.511, 41.46 , 63.941, 94.375,\n",
       "        16.131, 15.448, 97.207, 40.195, 78.676, 30.851,  6.55 , 53.552,\n",
       "         5.679, 62.956,  2.157, 41.941, 84.617, 36.   , 97.93 , 39.74 ,\n",
       "        94.511, 27.754, 55.041, 26.033,  7.57 , 78.428, 32.098, 87.454,\n",
       "        58.216, 57.579, 64.24 , 47.782, 24.837, 60.4  , 79.115, 40.45 ,\n",
       "        41.131,  4.698]], dtype=float32)"
      ]
     },
     "execution_count": 11,
     "metadata": {},
     "output_type": "execute_result"
    }
   ],
   "source": [
    "stats_data"
   ]
  },
  {
   "cell_type": "code",
   "execution_count": null,
   "metadata": {},
   "outputs": [],
   "source": []
  }
 ],
 "metadata": {
  "kernelspec": {
   "display_name": "Python 3.10.4 64-bit",
   "language": "python",
   "name": "python3"
  },
  "language_info": {
   "codemirror_mode": {
    "name": "ipython",
    "version": 3
   },
   "file_extension": ".py",
   "mimetype": "text/x-python",
   "name": "python",
   "nbconvert_exporter": "python",
   "pygments_lexer": "ipython3",
   "version": "3.10.4"
  },
  "orig_nbformat": 4,
  "vscode": {
   "interpreter": {
    "hash": "b0fa6594d8f4cbf19f97940f81e996739fb7646882a419484c72d19e05852a7e"
   }
  }
 },
 "nbformat": 4,
 "nbformat_minor": 2
}
