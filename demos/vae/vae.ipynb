{
 "cells": [
  {
   "cell_type": "markdown",
   "metadata": {},
   "source": [
    "# VAE model training and selection\n",
    "\n",
    "This notebook shows how the parameter space for B-VAEs can be explored for different values of the Beta and capacitance parameters. The theory is described at length in the author's [PhD](https://discovery.ucl.ac.uk/id/eprint/10134012/) and the accompanying preprint [Untangling urban data signatures](https://arxiv.org/abs/2106.15363).\n",
    "\n",
    "See the accompanying [vae_exploration]() notebook showing how the selected VAE model is subsequently used."
   ]
  },
  {
   "cell_type": "markdown",
   "metadata": {},
   "source": [
    "## Notebook Setup"
   ]
  },
  {
   "cell_type": "code",
   "execution_count": 1,
   "metadata": {},
   "outputs": [
    {
     "name": "stdout",
     "output_type": "stream",
     "text": [
      "Launch directory: /Users/gareth/dev/benchmark-urbanism/cityseer-api/demos/vae\n",
      "Working directory: /Users/gareth/dev/benchmark-urbanism/cityseer-api/demos\n"
     ]
    }
   ],
   "source": [
    "import os\n",
    "from pathlib import Path\n",
    "\n",
    "print(f\"Launch directory: {os.getcwd()}\")\n",
    "\n",
    "if os.getcwd().endswith(\"/demos/vae\"):\n",
    "    os.chdir(\"..\")\n",
    "elif not os.getcwd().endswith(\"/demos\"):\n",
    "    print(\"Please run this notebook from the demos directory\")\n",
    "print(f\"Working directory: {os.getcwd()}\")"
   ]
  },
  {
   "cell_type": "markdown",
   "metadata": {},
   "source": [
    "## Data preprocessing\n",
    "\n",
    "A sample of the data is here provided for reproducibility of the methods. The sample dataset covers inner and north London and derives from a larger dataset which spans England and Wales.\n",
    "\n",
    "Original versions of this work were applied to proprietary data (per the above PhD); however, this version of the dataset is purely based on open sources of data:\n",
    "\n",
    "-  The road network is based on [OpenStreetMap](). This has been selected in this instance over [OS Open Roads](), which lacks pedestrian paths. The downloading, network cleaning, network decomposition, and network centrality calculations are done with the `cityseer` package.\n",
    "- Information on eating and drinking establishments is derived from the [Food Standards Agency](). "
   ]
  },
  {
   "cell_type": "code",
   "execution_count": 2,
   "metadata": {
    "scrolled": false
   },
   "outputs": [
    {
     "name": "stdout",
     "output_type": "stream",
     "text": [
      "/Users/gareth/dev/benchmark-urbanism/cityseer-api/demos/data/df_north_london.feather\n",
      "                             index  city_id              x              y  \\\n",
      "uid                                                                         \n",
      "1-10934|90859±0±33463|10493      0        1  530342.873862  182325.087819   \n",
      "1-330945707±5±357415633          1        1  527035.735672  187544.429602   \n",
      "1-1459408967                     2        1  532164.776922  188193.929012   \n",
      "1-26004973±6295862385            3        1  532001.390841  193891.914603   \n",
      "1-7707806504                     4        1  535259.874968  180594.001376   \n",
      "\n",
      "                             c_segment_density_100  c_segment_density_200  \\\n",
      "uid                                                                         \n",
      "1-10934|90859±0±33463|10493             680.833374            2017.945068   \n",
      "1-330945707±5±357415633                 216.558105             731.756958   \n",
      "1-1459408967                            257.169739             809.194946   \n",
      "1-26004973±6295862385                   392.484161             801.863403   \n",
      "1-7707806504                            179.987671             616.697693   \n",
      "\n",
      "                             c_segment_density_300  c_segment_density_400  \\\n",
      "uid                                                                         \n",
      "1-10934|90859±0±33463|10493            3919.778564            6955.879883   \n",
      "1-330945707±5±357415633                2011.189697            3656.430664   \n",
      "1-1459408967                           1228.035645            1853.284912   \n",
      "1-26004973±6295862385                  1706.017944            2904.960205   \n",
      "1-7707806504                           1756.057373            3241.637939   \n",
      "\n",
      "                             c_segment_density_500  c_segment_density_600  \\\n",
      "uid                                                                         \n",
      "1-10934|90859±0±33463|10493           11113.938477           17052.091797   \n",
      "1-330945707±5±357415633                5850.643555            8340.908203   \n",
      "1-1459408967                           2644.008301            3866.085693   \n",
      "1-26004973±6295862385                  4721.117188            7086.199219   \n",
      "1-7707806504                           5750.277832            8569.234375   \n",
      "\n",
      "                             ...  cens_dw_comm_bldg  cens_dw_mobile  \\\n",
      "uid                          ...                                      \n",
      "1-10934|90859±0±33463|10493  ...           0.012545             0.0   \n",
      "1-330945707±5±357415633      ...           0.002059             0.0   \n",
      "1-1459408967                 ...           0.006658             0.0   \n",
      "1-26004973±6295862385        ...           0.006085             0.0   \n",
      "1-7707806504                 ...           0.005971             0.0   \n",
      "\n",
      "                             cens_hh_empty  cens_hh_occ  cens_ttw_home  \\\n",
      "uid                                                                      \n",
      "1-10934|90859±0±33463|10493       0.048526     0.951474       0.070005   \n",
      "1-330945707±5±357415633           0.150953     0.849047       0.266388   \n",
      "1-1459408967                      0.018285     0.981715       0.053278   \n",
      "1-26004973±6295862385             0.003782     0.996218       0.043040   \n",
      "1-7707806504                      0.111785     0.888215       0.038897   \n",
      "\n",
      "                             cens_ttw_pubtrans  cens_ttw_motor  \\\n",
      "uid                                                              \n",
      "1-10934|90859±0±33463|10493           0.357768        0.110140   \n",
      "1-330945707±5±357415633               0.174424        0.469776   \n",
      "1-1459408967                          0.662057        0.178729   \n",
      "1-26004973±6295862385                 0.412726        0.484263   \n",
      "1-7707806504                          0.500976        0.154637   \n",
      "\n",
      "                             cens_ttw_bicycle  cens_ttw_foot  cens_ttw_other  \n",
      "uid                                                                           \n",
      "1-10934|90859±0±33463|10493          0.065146       0.383542        0.013399  \n",
      "1-330945707±5±357415633              0.018226       0.047986        0.023200  \n",
      "1-1459408967                         0.059705       0.040482        0.005748  \n",
      "1-26004973±6295862385                0.003959       0.051673        0.004340  \n",
      "1-7707806504                         0.075427       0.225010        0.005052  \n",
      "\n",
      "[5 rows x 394 columns]\n",
      "Isolated 25.15% test samples.\n",
      "Generating bandwise data\n"
     ]
    }
   ],
   "source": [
    "import pandas as pd\n",
    "from sklearn.preprocessing import StandardScaler\n",
    "\n",
    "from general_util import theme_setup\n",
    "\n",
    "# load data\n",
    "print((theme_setup.data_path / \"df_north_london.feather\").resolve())\n",
    "df = pd.read_feather((theme_setup.data_path / \"df_north_london.feather\").resolve())\n",
    "df = df.set_index(\"uid\")\n",
    "print(df.head())\n",
    "\n",
    "# test indices\n",
    "test_idxs = theme_setup.train_test_idxs(df, mod=200)\n",
    "\n",
    "# preprocess data\n",
    "X_raw, distances, labels = theme_setup.generate_theme(df, \"all\", bandwise=True, max_dist=None)\n",
    "X_trans = StandardScaler().fit_transform(X_raw)"
   ]
  },
  {
   "cell_type": "code",
   "execution_count": 5,
   "metadata": {
    "scrolled": true
   },
   "outputs": [
    {
     "name": "stderr",
     "output_type": "stream",
     "text": [
      "INFO:vae.vae_util.vae_model:initialising VAE...\n",
      "INFO:vae.vae_util.vae_runner:Epoch: 1\n"
     ]
    },
    {
     "name": "stdout",
     "output_type": "stream",
     "text": [
      "Found existing weights, skipping VAE_d6_b0_c0_s0.\n",
      "Found existing weights, skipping VAE_d6_b1_c0_s0.\n",
      "Found existing weights, skipping VAE_d6_b1_c4_s0.\n",
      "Found existing weights, skipping VAE_d6_b1_c8_s0.\n",
      "Found existing weights, skipping VAE_d6_b1_c12_s0.\n",
      "Found existing weights, skipping VAE_d6_b1_c16_s0.\n",
      "Found existing weights, skipping VAE_d6_b1_c20_s0.\n",
      "Found existing weights, skipping VAE_d6_b2_c0_s0.\n",
      "Found existing weights, skipping VAE_d6_b2_c4_s0.\n",
      "Found existing weights, skipping VAE_d6_b2_c8_s0.\n",
      "Found existing weights, skipping VAE_d6_b2_c12_s0.\n",
      "Found existing weights, skipping VAE_d6_b2_c16_s0.\n",
      "Found existing weights, skipping VAE_d6_b2_c20_s0.\n",
      "Found existing weights, skipping VAE_d6_b4_c0_s0.\n",
      "Found existing weights, skipping VAE_d6_b4_c4_s0.\n",
      "Found existing weights, skipping VAE_d6_b4_c8_s0.\n",
      "Found existing weights, skipping VAE_d6_b4_c12_s0.\n",
      "Found existing weights, skipping VAE_d6_b4_c16_s0.\n",
      "Found existing weights, skipping VAE_d6_b4_c20_s0.\n",
      "Found existing weights, skipping VAE_d6_b8_c0_s0.\n",
      "Found existing weights, skipping VAE_d6_b8_c4_s0.\n",
      "Found existing weights, skipping VAE_d6_b8_c8_s0.\n",
      "Found existing weights, skipping VAE_d6_b8_c12_s0.\n",
      "Found existing weights, skipping VAE_d6_b8_c16_s0.\n",
      "Found existing weights, skipping VAE_d6_b8_c20_s0.\n",
      "Found existing weights, skipping VAE_d6_b16_c0_s0.\n",
      "Found existing weights, skipping VAE_d6_b16_c4_s0.\n",
      "Found existing weights, skipping VAE_d6_b16_c8_s0.\n",
      "Found existing weights, skipping VAE_d6_b16_c12_s0.\n",
      "Found existing weights, skipping VAE_d6_b16_c16_s0.\n",
      "Found existing weights, skipping VAE_d6_b16_c20_s0.\n",
      "Found existing weights, skipping VAE_d6_b32_c0_s0.\n",
      "Found existing weights, skipping VAE_d6_b32_c4_s0.\n",
      "Found existing weights, skipping VAE_d6_b32_c8_s0.\n",
      "Found existing weights, skipping VAE_d6_b32_c12_s0.\n",
      "Found existing weights, skipping VAE_d6_b32_c16_s0.\n",
      "Found existing weights, skipping VAE_d6_b32_c20_s0.\n",
      "Found existing weights, skipping VAE_d6_b64_c0_s0.\n",
      "Found existing weights, skipping VAE_d6_b64_c4_s0.\n",
      "Found existing weights, skipping VAE_d6_b64_c8_s0.\n",
      "Found existing weights, skipping VAE_d6_b64_c12_s0.\n",
      "Found existing weights, skipping VAE_d6_b64_c16_s0.\n",
      "Found existing weights, skipping VAE_d6_b64_c20_s0.\n",
      "Found existing weights, skipping VAE_d6_b0_c0_s1.\n",
      "Found existing weights, skipping VAE_d6_b1_c0_s1.\n",
      "Found existing weights, skipping VAE_d6_b1_c4_s1.\n",
      "Found existing weights, skipping VAE_d6_b1_c8_s1.\n",
      "Found existing weights, skipping VAE_d6_b1_c12_s1.\n",
      "Found existing weights, skipping VAE_d6_b1_c16_s1.\n",
      "Found existing weights, skipping VAE_d6_b1_c20_s1.\n",
      "Found existing weights, skipping VAE_d6_b2_c0_s1.\n",
      "Found existing weights, skipping VAE_d6_b2_c4_s1.\n",
      "Found existing weights, skipping VAE_d6_b2_c8_s1.\n",
      "Found existing weights, skipping VAE_d6_b2_c12_s1.\n",
      "Found existing weights, skipping VAE_d6_b2_c16_s1.\n",
      "Found existing weights, skipping VAE_d6_b2_c20_s1.\n",
      "Found existing weights, skipping VAE_d6_b4_c0_s1.\n",
      "Found existing weights, skipping VAE_d6_b4_c4_s1.\n",
      "Found existing weights, skipping VAE_d6_b4_c8_s1.\n",
      "Found existing weights, skipping VAE_d6_b4_c12_s1.\n",
      "Found existing weights, skipping VAE_d6_b4_c16_s1.\n",
      "Found existing weights, skipping VAE_d6_b4_c20_s1.\n",
      "Found existing weights, skipping VAE_d6_b8_c0_s1.\n",
      "Found existing weights, skipping VAE_d6_b8_c4_s1.\n",
      "Found existing weights, skipping VAE_d6_b8_c8_s1.\n",
      "Found existing weights, skipping VAE_d6_b8_c12_s1.\n",
      "Found existing weights, skipping VAE_d6_b8_c16_s1.\n",
      "Found existing weights, skipping VAE_d6_b8_c20_s1.\n",
      "Found existing weights, skipping VAE_d6_b16_c0_s1.\n",
      "Found existing weights, skipping VAE_d6_b16_c4_s1.\n",
      "Found existing weights, skipping VAE_d6_b16_c8_s1.\n",
      "Found existing weights, skipping VAE_d6_b16_c12_s1.\n",
      "Found existing weights, skipping VAE_d6_b16_c16_s1.\n",
      "Found existing weights, skipping VAE_d6_b16_c20_s1.\n",
      "Found existing weights, skipping VAE_d6_b32_c0_s1.\n",
      "Found existing weights, skipping VAE_d6_b32_c4_s1.\n",
      "Found existing weights, skipping VAE_d6_b32_c8_s1.\n",
      "Found existing weights, skipping VAE_d6_b32_c12_s1.\n",
      "Found existing weights, skipping VAE_d6_b32_c16_s1.\n",
      "Found existing weights, skipping VAE_d6_b32_c20_s1.\n",
      "Found existing weights, skipping VAE_d6_b64_c0_s1.\n",
      "Found existing weights, skipping VAE_d6_b64_c4_s1.\n",
      "Found existing weights, skipping VAE_d6_b64_c8_s1.\n",
      "Found existing weights, skipping VAE_d6_b64_c12_s1.\n",
      "Found existing weights, skipping VAE_d6_b64_c16_s1.\n",
      "Found existing weights, skipping VAE_d6_b64_c20_s1.\n",
      "Found existing weights, skipping VAE_d6_b0_c0_s2.\n",
      "Found existing weights, skipping VAE_d6_b1_c0_s2.\n",
      "Found existing weights, skipping VAE_d6_b1_c4_s2.\n",
      "Found existing weights, skipping VAE_d6_b1_c8_s2.\n",
      "Found existing weights, skipping VAE_d6_b1_c12_s2.\n",
      "Found existing weights, skipping VAE_d6_b1_c16_s2.\n",
      "Found existing weights, skipping VAE_d6_b1_c20_s2.\n",
      "Found existing weights, skipping VAE_d6_b2_c0_s2.\n",
      "Found existing weights, skipping VAE_d6_b2_c4_s2.\n",
      "Found existing weights, skipping VAE_d6_b2_c8_s2.\n",
      "Found existing weights, skipping VAE_d6_b2_c12_s2.\n",
      "Found existing weights, skipping VAE_d6_b2_c16_s2.\n",
      "Found existing weights, skipping VAE_d6_b2_c20_s2.\n",
      "Found existing weights, skipping VAE_d6_b4_c0_s2.\n",
      "Found existing weights, skipping VAE_d6_b4_c4_s2.\n",
      "Found existing weights, skipping VAE_d6_b4_c8_s2.\n",
      "Found existing weights, skipping VAE_d6_b4_c12_s2.\n",
      "Found existing weights, skipping VAE_d6_b4_c16_s2.\n",
      "Found existing weights, skipping VAE_d6_b4_c20_s2.\n",
      "Found existing weights, skipping VAE_d6_b8_c0_s2.\n",
      "Found existing weights, skipping VAE_d6_b8_c4_s2.\n",
      "Found existing weights, skipping VAE_d6_b8_c8_s2.\n",
      "Found existing weights, skipping VAE_d6_b8_c12_s2.\n",
      "Found existing weights, skipping VAE_d6_b8_c16_s2.\n",
      "Found existing weights, skipping VAE_d6_b8_c20_s2.\n",
      "Found existing weights, skipping VAE_d6_b16_c0_s2.\n",
      "Found existing weights, skipping VAE_d6_b16_c4_s2.\n",
      "Found existing weights, skipping VAE_d6_b16_c8_s2.\n",
      "Found existing weights, skipping VAE_d6_b16_c12_s2.\n",
      "Found existing weights, skipping VAE_d6_b16_c16_s2.\n",
      "Found existing weights, skipping VAE_d6_b16_c20_s2.\n",
      "Found existing weights, skipping VAE_d6_b32_c0_s2.\n",
      "Found existing weights, skipping VAE_d6_b32_c4_s2.\n",
      "Found existing weights, skipping VAE_d6_b32_c8_s2.\n",
      "Found existing weights, skipping VAE_d6_b32_c12_s2.\n",
      "Found existing weights, skipping VAE_d6_b32_c16_s2.\n",
      "Found existing weights, skipping VAE_d6_b32_c20_s2.\n",
      "Found existing weights, skipping VAE_d6_b64_c0_s2.\n",
      "Found existing weights, skipping VAE_d6_b64_c4_s2.\n",
      "Found existing weights, skipping VAE_d6_b64_c8_s2.\n",
      "Found existing weights, skipping VAE_d6_b64_c12_s2.\n",
      "Found existing weights, skipping VAE_d6_b64_c16_s2.\n",
      "Found existing weights, skipping VAE_d6_b64_c20_s2.\n",
      "Found existing weights, skipping VAE_d6_b0_c0_s3.\n",
      "Found existing weights, skipping VAE_d6_b1_c0_s3.\n",
      "Found existing weights, skipping VAE_d6_b1_c4_s3.\n",
      "Found existing weights, skipping VAE_d6_b1_c8_s3.\n",
      "Found existing weights, skipping VAE_d6_b1_c12_s3.\n",
      "Found existing weights, skipping VAE_d6_b1_c16_s3.\n",
      "Found existing weights, skipping VAE_d6_b1_c20_s3.\n",
      "Found existing weights, skipping VAE_d6_b2_c0_s3.\n",
      "Found existing weights, skipping VAE_d6_b2_c4_s3.\n",
      "Found existing weights, skipping VAE_d6_b2_c8_s3.\n",
      "Found existing weights, skipping VAE_d6_b2_c12_s3.\n",
      "Found existing weights, skipping VAE_d6_b2_c16_s3.\n",
      "Found existing weights, skipping VAE_d6_b2_c20_s3.\n",
      "Found existing weights, skipping VAE_d6_b4_c0_s3.\n",
      "Found existing weights, skipping VAE_d6_b4_c4_s3.\n",
      "Found existing weights, skipping VAE_d6_b4_c8_s3.\n",
      "Found existing weights, skipping VAE_d6_b4_c12_s3.\n",
      "Found existing weights, skipping VAE_d6_b4_c16_s3.\n",
      "Found existing weights, skipping VAE_d6_b4_c20_s3.\n",
      "Found existing weights, skipping VAE_d6_b8_c0_s3.\n",
      "Found existing weights, skipping VAE_d6_b8_c4_s3.\n",
      "Found existing weights, skipping VAE_d6_b8_c8_s3.\n",
      "Found existing weights, skipping VAE_d6_b8_c12_s3.\n",
      "Found existing weights, skipping VAE_d6_b8_c16_s3.\n",
      "Found existing weights, skipping VAE_d6_b8_c20_s3.\n",
      "Found existing weights, skipping VAE_d6_b16_c0_s3.\n",
      "Found existing weights, skipping VAE_d6_b16_c4_s3.\n",
      "Found existing weights, skipping VAE_d6_b16_c8_s3.\n",
      "Found existing weights, skipping VAE_d6_b16_c12_s3.\n",
      "Found existing weights, skipping VAE_d6_b16_c16_s3.\n",
      "Found existing weights, skipping VAE_d6_b16_c20_s3.\n",
      "Found existing weights, skipping VAE_d6_b32_c0_s3.\n",
      "Found existing weights, skipping VAE_d6_b32_c4_s3.\n",
      "Found existing weights, skipping VAE_d6_b32_c8_s3.\n",
      "Found existing weights, skipping VAE_d6_b32_c12_s3.\n",
      "Found existing weights, skipping VAE_d6_b32_c16_s3.\n",
      "Found existing weights, skipping VAE_d6_b32_c20_s3.\n",
      "Found existing weights, skipping VAE_d6_b64_c0_s3.\n",
      "Found existing weights, skipping VAE_d6_b64_c4_s3.\n",
      "Found existing weights, skipping VAE_d6_b64_c8_s3.\n",
      "Found existing weights, skipping VAE_d6_b64_c12_s3.\n",
      "Found existing weights, skipping VAE_d6_b64_c16_s3.\n",
      "Found existing weights, skipping VAE_d6_b64_c20_s3.\n",
      "Found existing weights, skipping VAE_d6_b0_c0_s4.\n",
      "Found existing weights, skipping VAE_d6_b1_c0_s4.\n",
      "Found existing weights, skipping VAE_d6_b1_c4_s4.\n",
      "Found existing weights, skipping VAE_d6_b1_c8_s4.\n",
      "Found existing weights, skipping VAE_d6_b1_c12_s4.\n",
      "Found existing weights, skipping VAE_d6_b1_c16_s4.\n",
      "Found existing weights, skipping VAE_d6_b1_c20_s4.\n",
      "Found existing weights, skipping VAE_d6_b2_c0_s4.\n",
      "Found existing weights, skipping VAE_d6_b2_c4_s4.\n",
      "Found existing weights, skipping VAE_d6_b2_c8_s4.\n",
      "Found existing weights, skipping VAE_d6_b2_c12_s4.\n",
      "Found existing weights, skipping VAE_d6_b2_c16_s4.\n",
      "Found existing weights, skipping VAE_d6_b2_c20_s4.\n",
      "Found existing weights, skipping VAE_d6_b4_c0_s4.\n",
      "Found existing weights, skipping VAE_d6_b4_c4_s4.\n",
      "Found existing weights, skipping VAE_d6_b4_c8_s4.\n",
      "Found existing weights, skipping VAE_d6_b4_c12_s4.\n",
      "Found existing weights, skipping VAE_d6_b4_c16_s4.\n",
      "Found existing weights, skipping VAE_d6_b4_c20_s4.\n",
      "Found existing weights, skipping VAE_d6_b8_c0_s4.\n",
      "Found existing weights, skipping VAE_d6_b8_c4_s4.\n",
      "Found existing weights, skipping VAE_d6_b8_c8_s4.\n",
      "Found existing weights, skipping VAE_d6_b8_c12_s4.\n",
      "Found existing weights, skipping VAE_d6_b8_c16_s4.\n",
      "Found existing weights, skipping VAE_d6_b8_c20_s4.\n",
      "Found existing weights, skipping VAE_d6_b16_c0_s4.\n",
      "Found existing weights, skipping VAE_d6_b16_c4_s4.\n",
      "Found existing weights, skipping VAE_d6_b16_c8_s4.\n",
      "Found existing weights, skipping VAE_d6_b16_c12_s4.\n",
      "Found existing weights, skipping VAE_d6_b16_c16_s4.\n",
      "Found existing weights, skipping VAE_d6_b16_c20_s4.\n",
      "Found existing weights, skipping VAE_d6_b32_c0_s4.\n",
      "Found existing weights, skipping VAE_d6_b32_c4_s4.\n",
      "Found existing weights, skipping VAE_d6_b32_c8_s4.\n",
      "Found existing weights, skipping VAE_d6_b32_c12_s4.\n",
      "Found existing weights, skipping VAE_d6_b32_c16_s4.\n",
      "Found existing weights, skipping VAE_d6_b32_c20_s4.\n",
      "Found existing weights, skipping VAE_d6_b64_c0_s4.\n",
      "Found existing weights, skipping VAE_d6_b64_c4_s4.\n",
      "Found existing weights, skipping VAE_d6_b64_c8_s4.\n",
      "Found existing weights, skipping VAE_d6_b64_c12_s4.\n",
      "Found existing weights, skipping VAE_d6_b64_c16_s4.\n",
      "Found existing weights, skipping VAE_d6_b64_c20_s4.\n",
      "Found existing weights, skipping VAE_d6_b0_c0_s5.\n",
      "Found existing weights, skipping VAE_d6_b1_c0_s5.\n",
      "Found existing weights, skipping VAE_d6_b1_c4_s5.\n",
      "Found existing weights, skipping VAE_d6_b1_c8_s5.\n",
      "Found existing weights, skipping VAE_d6_b1_c12_s5.\n",
      "Found existing weights, skipping VAE_d6_b1_c16_s5.\n",
      "Found existing weights, skipping VAE_d6_b1_c20_s5.\n",
      "Found existing weights, skipping VAE_d6_b2_c0_s5.\n",
      "Found existing weights, skipping VAE_d6_b2_c4_s5.\n",
      "Found existing weights, skipping VAE_d6_b2_c8_s5.\n",
      "Found existing weights, skipping VAE_d6_b2_c12_s5.\n",
      "Found existing weights, skipping VAE_d6_b2_c16_s5.\n",
      "Found existing weights, skipping VAE_d6_b2_c20_s5.\n",
      "Found existing weights, skipping VAE_d6_b4_c0_s5.\n",
      "Found existing weights, skipping VAE_d6_b4_c4_s5.\n",
      "Found existing weights, skipping VAE_d6_b4_c8_s5.\n",
      "Found existing weights, skipping VAE_d6_b4_c12_s5.\n",
      "Found existing weights, skipping VAE_d6_b4_c16_s5.\n",
      "Found existing weights, skipping VAE_d6_b4_c20_s5.\n",
      "Found existing weights, skipping VAE_d6_b8_c0_s5.\n",
      "Found existing weights, skipping VAE_d6_b8_c4_s5.\n",
      "Found existing weights, skipping VAE_d6_b8_c8_s5.\n",
      "Found existing weights, skipping VAE_d6_b8_c12_s5.\n",
      "Found existing weights, skipping VAE_d6_b8_c16_s5.\n",
      "Found existing weights, skipping VAE_d6_b8_c20_s5.\n",
      "Found existing weights, skipping VAE_d6_b16_c0_s5.\n",
      "Found existing weights, skipping VAE_d6_b16_c4_s5.\n",
      "Found existing weights, skipping VAE_d6_b16_c8_s5.\n",
      "Found existing weights, skipping VAE_d6_b16_c12_s5.\n",
      "Found existing weights, skipping VAE_d6_b16_c16_s5.\n",
      "Found existing weights, skipping VAE_d6_b16_c20_s5.\n",
      "Found existing weights, skipping VAE_d6_b32_c0_s5.\n",
      "Found existing weights, skipping VAE_d6_b32_c4_s5.\n",
      "Found existing weights, skipping VAE_d6_b32_c8_s5.\n",
      "Found existing weights, skipping VAE_d6_b32_c12_s5.\n",
      "Found existing weights, skipping VAE_d6_b32_c16_s5.\n",
      "Found existing weights, skipping VAE_d6_b32_c20_s5.\n",
      "Found existing weights, skipping VAE_d6_b64_c0_s5.\n",
      "Found existing weights, skipping VAE_d6_b64_c4_s5.\n",
      "Found existing weights, skipping VAE_d6_b64_c8_s5.\n",
      "Found existing weights, skipping VAE_d6_b64_c12_s5.\n",
      "Found existing weights, skipping VAE_d6_b64_c16_s5.\n",
      "Found existing weights, skipping VAE_d6_b64_c20_s5.\n",
      "Found existing weights, skipping VAE_d6_b0_c0_s6.\n",
      "Found existing weights, skipping VAE_d6_b1_c0_s6.\n",
      "Found existing weights, skipping VAE_d6_b1_c4_s6.\n",
      "Found existing weights, skipping VAE_d6_b1_c8_s6.\n",
      "Found existing weights, skipping VAE_d6_b1_c12_s6.\n",
      "Found existing weights, skipping VAE_d6_b1_c16_s6.\n",
      "Found existing weights, skipping VAE_d6_b1_c20_s6.\n",
      "Found existing weights, skipping VAE_d6_b2_c0_s6.\n",
      "Found existing weights, skipping VAE_d6_b2_c4_s6.\n",
      "Found existing weights, skipping VAE_d6_b2_c8_s6.\n",
      "Found existing weights, skipping VAE_d6_b2_c12_s6.\n",
      "Found existing weights, skipping VAE_d6_b2_c16_s6.\n",
      "Found existing weights, skipping VAE_d6_b2_c20_s6.\n",
      "Found existing weights, skipping VAE_d6_b4_c0_s6.\n",
      "Found existing weights, skipping VAE_d6_b4_c4_s6.\n",
      "Found existing weights, skipping VAE_d6_b4_c8_s6.\n",
      "Found existing weights, skipping VAE_d6_b4_c12_s6.\n",
      "Found existing weights, skipping VAE_d6_b4_c16_s6.\n",
      "Found existing weights, skipping VAE_d6_b4_c20_s6.\n",
      "Found existing weights, skipping VAE_d6_b8_c0_s6.\n",
      "Found existing weights, skipping VAE_d6_b8_c4_s6.\n",
      "Found existing weights, skipping VAE_d6_b8_c8_s6.\n",
      "Found existing weights, skipping VAE_d6_b8_c12_s6.\n",
      "Found existing weights, skipping VAE_d6_b8_c16_s6.\n",
      "Found existing weights, skipping VAE_d6_b8_c20_s6.\n",
      "Found existing weights, skipping VAE_d6_b16_c0_s6.\n",
      "Found existing weights, skipping VAE_d6_b16_c4_s6.\n",
      "Found existing weights, skipping VAE_d6_b16_c8_s6.\n",
      "Found existing weights, skipping VAE_d6_b16_c12_s6.\n",
      "Found existing weights, skipping VAE_d6_b16_c16_s6.\n",
      "Found existing weights, skipping VAE_d6_b16_c20_s6.\n",
      "Found existing weights, skipping VAE_d6_b32_c0_s6.\n",
      "Found existing weights, skipping VAE_d6_b32_c4_s6.\n",
      "Found existing weights, skipping VAE_d6_b32_c8_s6.\n",
      "Found existing weights, skipping VAE_d6_b32_c12_s6.\n",
      "Found existing weights, skipping VAE_d6_b32_c16_s6.\n",
      "Found existing weights, skipping VAE_d6_b32_c20_s6.\n",
      "Found existing weights, skipping VAE_d6_b64_c0_s6.\n",
      "Found existing weights, skipping VAE_d6_b64_c4_s6.\n",
      "Found existing weights, skipping VAE_d6_b64_c8_s6.\n",
      "Found existing weights, skipping VAE_d6_b64_c12_s6.\n",
      "Found existing weights, skipping VAE_d6_b64_c16_s6.\n",
      "Found existing weights, skipping VAE_d6_b64_c20_s6.\n",
      "Found existing weights, skipping VAE_d6_b0_c0_s7.\n",
      "Found existing weights, skipping VAE_d6_b1_c0_s7.\n",
      "Found existing weights, skipping VAE_d6_b1_c4_s7.\n",
      "Found existing weights, skipping VAE_d6_b1_c8_s7.\n",
      "Found existing weights, skipping VAE_d6_b1_c12_s7.\n",
      "Found existing weights, skipping VAE_d6_b1_c16_s7.\n",
      "Found existing weights, skipping VAE_d6_b1_c20_s7.\n",
      "Found existing weights, skipping VAE_d6_b2_c0_s7.\n",
      "Found existing weights, skipping VAE_d6_b2_c4_s7.\n",
      "Found existing weights, skipping VAE_d6_b2_c8_s7.\n",
      "Found existing weights, skipping VAE_d6_b2_c12_s7.\n",
      "Found existing weights, skipping VAE_d6_b2_c16_s7.\n",
      "Found existing weights, skipping VAE_d6_b2_c20_s7.\n",
      "Found existing weights, skipping VAE_d6_b4_c0_s7.\n",
      "Found existing weights, skipping VAE_d6_b4_c4_s7.\n",
      "Found existing weights, skipping VAE_d6_b4_c8_s7.\n",
      "Found existing weights, skipping VAE_d6_b4_c12_s7.\n",
      "Found existing weights, skipping VAE_d6_b4_c16_s7.\n",
      "Found existing weights, skipping VAE_d6_b4_c20_s7.\n",
      "Found existing weights, skipping VAE_d6_b8_c0_s7.\n",
      "Found existing weights, skipping VAE_d6_b8_c4_s7.\n",
      "Found existing weights, skipping VAE_d6_b8_c8_s7.\n",
      "Found existing weights, skipping VAE_d6_b8_c12_s7.\n",
      "Found existing weights, skipping VAE_d6_b8_c16_s7.\n",
      "Found existing weights, skipping VAE_d6_b8_c20_s7.\n",
      "Found existing weights, skipping VAE_d6_b16_c0_s7.\n",
      "Found existing weights, skipping VAE_d6_b16_c4_s7.\n",
      "Found existing weights, skipping VAE_d6_b16_c8_s7.\n",
      "Found existing weights, skipping VAE_d6_b16_c12_s7.\n",
      "Found existing weights, skipping VAE_d6_b16_c16_s7.\n",
      "Found existing weights, skipping VAE_d6_b16_c20_s7.\n",
      "Found existing weights, skipping VAE_d6_b32_c0_s7.\n",
      "Found existing weights, skipping VAE_d6_b32_c4_s7.\n",
      "Found existing weights, skipping VAE_d6_b32_c8_s7.\n",
      "Found existing weights, skipping VAE_d6_b32_c12_s7.\n",
      "Found existing weights, skipping VAE_d6_b32_c16_s7.\n",
      "Found existing weights, skipping VAE_d6_b32_c20_s7.\n",
      "Found existing weights, skipping VAE_d6_b64_c0_s7.\n",
      "Found existing weights, skipping VAE_d6_b64_c4_s7.\n",
      "Found existing weights, skipping VAE_d6_b64_c8_s7.\n",
      "Found existing weights, skipping VAE_d6_b64_c12_s7.\n",
      "Found existing weights, skipping VAE_d6_b64_c16_s7.\n",
      "Found existing weights, skipping VAE_d6_b64_c20_s7.\n",
      "Found existing weights, skipping VAE_d6_b0_c0_s8.\n",
      "Found existing weights, skipping VAE_d6_b1_c0_s8.\n",
      "Found existing weights, skipping VAE_d6_b1_c4_s8.\n",
      "Found existing weights, skipping VAE_d6_b1_c8_s8.\n",
      "Found existing weights, skipping VAE_d6_b1_c12_s8.\n",
      "Found existing weights, skipping VAE_d6_b1_c16_s8.\n",
      "Found existing weights, skipping VAE_d6_b1_c20_s8.\n",
      "Found existing weights, skipping VAE_d6_b2_c0_s8.\n",
      "Found existing weights, skipping VAE_d6_b2_c4_s8.\n",
      "Found existing weights, skipping VAE_d6_b2_c8_s8.\n",
      "Found existing weights, skipping VAE_d6_b2_c12_s8.\n",
      "Found existing weights, skipping VAE_d6_b2_c16_s8.\n",
      "Found existing weights, skipping VAE_d6_b2_c20_s8.\n",
      "Found existing weights, skipping VAE_d6_b4_c0_s8.\n",
      "Found existing weights, skipping VAE_d6_b4_c4_s8.\n",
      "Found existing weights, skipping VAE_d6_b4_c8_s8.\n",
      "Found existing weights, skipping VAE_d6_b4_c12_s8.\n",
      "Found existing weights, skipping VAE_d6_b4_c16_s8.\n",
      "Found existing weights, skipping VAE_d6_b4_c20_s8.\n",
      "Found existing weights, skipping VAE_d6_b8_c0_s8.\n",
      "Found existing weights, skipping VAE_d6_b8_c4_s8.\n",
      "Found existing weights, skipping VAE_d6_b8_c8_s8.\n",
      "Found existing weights, skipping VAE_d6_b8_c12_s8.\n",
      "Found existing weights, skipping VAE_d6_b8_c16_s8.\n",
      "Found existing weights, skipping VAE_d6_b8_c20_s8.\n",
      "Found existing weights, skipping VAE_d6_b16_c0_s8.\n",
      "Found existing weights, skipping VAE_d6_b16_c4_s8.\n",
      "Found existing weights, skipping VAE_d6_b16_c8_s8.\n",
      "Found existing weights, skipping VAE_d6_b16_c12_s8.\n",
      "Found existing weights, skipping VAE_d6_b16_c16_s8.\n",
      "Found existing weights, skipping VAE_d6_b16_c20_s8.\n",
      "Found existing weights, skipping VAE_d6_b32_c0_s8.\n",
      "Found existing weights, skipping VAE_d6_b32_c4_s8.\n",
      "Found existing weights, skipping VAE_d6_b32_c8_s8.\n",
      "Found existing weights, skipping VAE_d6_b32_c12_s8.\n",
      "Found existing weights, skipping VAE_d6_b32_c16_s8.\n",
      "Found existing weights, skipping VAE_d6_b32_c20_s8.\n",
      "Found existing weights, skipping VAE_d6_b64_c0_s8.\n",
      "Found existing weights, skipping VAE_d6_b64_c4_s8.\n",
      "Found existing weights, skipping VAE_d6_b64_c8_s8.\n",
      "Found existing weights, skipping VAE_d6_b64_c12_s8.\n",
      "Found existing weights, skipping VAE_d6_b64_c16_s8.\n",
      "Found existing weights, skipping VAE_d6_b64_c20_s8.\n",
      "Found existing weights, skipping VAE_d6_b0_c0_s9.\n",
      "Found existing weights, skipping VAE_d6_b1_c0_s9.\n",
      "Found existing weights, skipping VAE_d6_b1_c4_s9.\n",
      "Found existing weights, skipping VAE_d6_b1_c8_s9.\n",
      "Found existing weights, skipping VAE_d6_b1_c12_s9.\n",
      "Found existing weights, skipping VAE_d6_b1_c16_s9.\n",
      "Found existing weights, skipping VAE_d6_b1_c20_s9.\n",
      "Found existing weights, skipping VAE_d6_b2_c0_s9.\n",
      "Found existing weights, skipping VAE_d6_b2_c4_s9.\n",
      "Found existing weights, skipping VAE_d6_b2_c8_s9.\n",
      "Found existing weights, skipping VAE_d6_b2_c12_s9.\n",
      "Found existing weights, skipping VAE_d6_b2_c16_s9.\n",
      "Found existing weights, skipping VAE_d6_b2_c20_s9.\n",
      "Found existing weights, skipping VAE_d6_b4_c0_s9.\n",
      "Found existing weights, skipping VAE_d6_b4_c4_s9.\n",
      "Found existing weights, skipping VAE_d6_b4_c8_s9.\n",
      "Found existing weights, skipping VAE_d6_b4_c12_s9.\n",
      "Found existing weights, skipping VAE_d6_b4_c16_s9.\n",
      "Found existing weights, skipping VAE_d6_b4_c20_s9.\n",
      "Found existing weights, skipping VAE_d6_b8_c0_s9.\n",
      "Found existing weights, skipping VAE_d6_b8_c4_s9.\n",
      "Found existing weights, skipping VAE_d6_b8_c8_s9.\n",
      "Found existing weights, skipping VAE_d6_b8_c12_s9.\n",
      "Found existing weights, skipping VAE_d6_b8_c16_s9.\n",
      "Found existing weights, skipping VAE_d6_b8_c20_s9.\n",
      "Found existing weights, skipping VAE_d6_b16_c0_s9.\n",
      "Found existing weights, skipping VAE_d6_b16_c4_s9.\n",
      "Found existing weights, skipping VAE_d6_b16_c8_s9.\n",
      "Found existing weights, skipping VAE_d6_b16_c12_s9.\n",
      "Found existing weights, skipping VAE_d6_b16_c16_s9.\n",
      "Found existing weights, skipping VAE_d6_b16_c20_s9.\n",
      "Found existing weights, skipping VAE_d6_b32_c0_s9.\n",
      "Found existing weights, skipping VAE_d6_b32_c4_s9.\n",
      "Found existing weights, skipping VAE_d6_b32_c8_s9.\n",
      "Found existing weights, skipping VAE_d6_b32_c12_s9.\n",
      "Found existing weights, skipping VAE_d6_b32_c16_s9.\n",
      "Processing VAE_d6_b32_c20_s9.\n"
     ]
    },
    {
     "name": "stderr",
     "output_type": "stream",
     "text": [
      "INFO:vae.vae_util.vae_model:updated capacity to 0.0\n",
      "2022-04-29 11:21:32.115040: I tensorflow/compiler/mlir/mlir_graph_optimization_pass.cc:176] None of the MLIR Optimization Passes are enabled (registered 2)\n",
      "INFO:vae.vae_util.vae_runner:Step: 1: validation loss: 231.51303100585938\n",
      "INFO:vae.vae_util.vae_runner:Epoch: 2\n",
      "INFO:vae.vae_util.vae_model:updated capacity to 0.8333333134651184\n",
      "INFO:vae.vae_util.vae_runner:Step: 2: validation loss: 197.88406372070312\n",
      "INFO:vae.vae_util.vae_runner:Epoch: 3\n",
      "INFO:vae.vae_util.vae_model:updated capacity to 1.6666666269302368\n",
      "INFO:vae.vae_util.vae_runner:Step: 3: validation loss: 170.66226196289062\n",
      "INFO:vae.vae_util.vae_runner:Epoch: 4\n",
      "INFO:vae.vae_util.vae_model:updated capacity to 2.5\n",
      "INFO:vae.vae_util.vae_runner:Step: 4: validation loss: 156.03561401367188\n",
      "INFO:vae.vae_util.vae_runner:Epoch: 5\n",
      "INFO:vae.vae_util.vae_model:updated capacity to 3.3333332538604736\n",
      "INFO:vae.vae_util.vae_runner:Step: 5: validation loss: 151.46029663085938\n",
      "INFO:vae.vae_util.vae_runner:Epoch: 6\n",
      "INFO:vae.vae_util.vae_model:updated capacity to 4.166666507720947\n",
      "INFO:vae.vae_util.vae_runner:Step: 6: validation loss: 146.57009887695312\n",
      "INFO:vae.vae_util.vae_runner:Epoch: 7\n",
      "INFO:vae.vae_util.vae_model:updated capacity to 5.0\n",
      "INFO:vae.vae_util.vae_runner:Step: 7: validation loss: 144.48619079589844\n",
      "INFO:vae.vae_util.vae_runner:Epoch: 8\n",
      "INFO:vae.vae_util.vae_model:updated capacity to 5.833333492279053\n",
      "INFO:vae.vae_util.vae_runner:Step: 8: validation loss: 144.6423797607422\n",
      "INFO:vae.vae_util.vae_runner:Epoch: 9\n",
      "INFO:vae.vae_util.vae_model:updated capacity to 6.666666507720947\n",
      "INFO:vae.vae_util.vae_runner:Step: 9: validation loss: 143.85455322265625\n",
      "INFO:vae.vae_util.vae_runner:Epoch: 10\n",
      "INFO:vae.vae_util.vae_model:updated capacity to 7.5\n",
      "INFO:vae.vae_util.vae_runner:Step: 10: validation loss: 145.45892333984375\n",
      "INFO:vae.vae_util.vae_runner:Epoch: 11\n",
      "INFO:vae.vae_util.vae_model:updated capacity to 8.333333015441895\n",
      "INFO:vae.vae_util.vae_runner:Step: 11: validation loss: 146.505859375\n",
      "INFO:vae.vae_util.vae_runner:Epoch: 12\n",
      "INFO:vae.vae_util.vae_model:updated capacity to 9.166666984558105\n",
      "INFO:vae.vae_util.vae_runner:Step: 12: validation loss: 143.0208740234375\n",
      "INFO:vae.vae_util.vae_runner:Epoch: 13\n",
      "INFO:vae.vae_util.vae_model:updated capacity to 10.0\n",
      "INFO:vae.vae_util.vae_runner:Step: 13: validation loss: 145.9808349609375\n",
      "INFO:vae.vae_util.vae_runner:Epoch: 14\n",
      "INFO:vae.vae_util.vae_model:updated capacity to 10.833333015441895\n",
      "INFO:vae.vae_util.vae_runner:Step: 14: validation loss: 137.5707550048828\n",
      "INFO:vae.vae_util.vae_runner:Epoch: 15\n",
      "INFO:vae.vae_util.vae_model:updated capacity to 11.666666984558105\n",
      "INFO:vae.vae_util.vae_runner:Step: 15: validation loss: 132.58546447753906\n",
      "INFO:vae.vae_util.vae_runner:Epoch: 16\n",
      "INFO:vae.vae_util.vae_model:updated capacity to 12.5\n",
      "INFO:vae.vae_util.vae_runner:Step: 16: validation loss: 133.08509826660156\n",
      "INFO:vae.vae_util.vae_runner:Epoch: 17\n",
      "INFO:vae.vae_util.vae_model:updated capacity to 13.333333015441895\n",
      "INFO:vae.vae_util.vae_runner:Step: 17: validation loss: 131.49285888671875\n",
      "INFO:vae.vae_util.vae_runner:Epoch: 18\n",
      "INFO:vae.vae_util.vae_model:updated capacity to 14.166666984558105\n",
      "INFO:vae.vae_util.vae_runner:Step: 18: validation loss: 129.82164001464844\n",
      "INFO:vae.vae_util.vae_runner:Epoch: 19\n",
      "INFO:vae.vae_util.vae_model:updated capacity to 15.0\n",
      "INFO:vae.vae_util.vae_runner:Step: 19: validation loss: 132.7686767578125\n",
      "INFO:vae.vae_util.vae_runner:Epoch: 20\n",
      "INFO:vae.vae_util.vae_model:updated capacity to 15.833333015441895\n",
      "INFO:vae.vae_util.vae_runner:Step: 20: validation loss: 136.5619659423828\n",
      "INFO:vae.vae_util.vae_runner:Epoch: 21\n",
      "INFO:vae.vae_util.vae_model:updated capacity to 16.66666603088379\n",
      "INFO:vae.vae_util.vae_runner:Step: 21: validation loss: 132.2499542236328\n",
      "INFO:vae.vae_util.vae_runner:Epoch: 22\n",
      "INFO:vae.vae_util.vae_model:updated capacity to 17.5\n",
      "INFO:vae.vae_util.vae_runner:Step: 22: validation loss: 132.79946899414062\n",
      "INFO:vae.vae_util.vae_runner:Epoch: 23\n",
      "INFO:vae.vae_util.vae_model:updated capacity to 18.33333396911621\n",
      "INFO:vae.vae_util.vae_runner:Step: 23: validation loss: 132.6687469482422\n",
      "INFO:vae.vae_util.vae_runner:Epoch: 24\n",
      "INFO:vae.vae_util.vae_model:updated capacity to 19.16666603088379\n",
      "INFO:vae.vae_util.vae_runner:Step: 24: validation loss: 128.59033203125\n",
      "INFO:vae.vae_util.vae_runner:Epoch: 25\n",
      "INFO:vae.vae_util.vae_model:updated capacity to 20.0\n",
      "INFO:vae.vae_util.vae_runner:Step: 25: validation loss: 124.6693344116211\n",
      "INFO:vae.vae_util.vae_runner:Saving last weights\n",
      "INFO:vae.vae_util.vae_model:initialising VAE...\n"
     ]
    },
    {
     "name": "stdout",
     "output_type": "stream",
     "text": [
      "Processing VAE_d6_b64_c0_s9.\n"
     ]
    },
    {
     "name": "stderr",
     "output_type": "stream",
     "text": [
      "INFO:vae.vae_util.vae_runner:Epoch: 1\n",
      "INFO:vae.vae_util.vae_model:updated capacity to 0.0\n",
      "INFO:vae.vae_util.vae_runner:Step: 1: validation loss: 268.5833435058594\n",
      "INFO:vae.vae_util.vae_runner:Epoch: 2\n",
      "INFO:vae.vae_util.vae_model:updated capacity to 0.0\n",
      "INFO:vae.vae_util.vae_runner:Step: 2: validation loss: 259.0763244628906\n",
      "INFO:vae.vae_util.vae_runner:Epoch: 3\n",
      "INFO:vae.vae_util.vae_model:updated capacity to 0.0\n",
      "INFO:vae.vae_util.vae_runner:Step: 3: validation loss: 258.4208984375\n",
      "INFO:vae.vae_util.vae_runner:Epoch: 4\n",
      "INFO:vae.vae_util.vae_model:updated capacity to 0.0\n",
      "INFO:vae.vae_util.vae_runner:Step: 4: validation loss: 258.8081359863281\n",
      "INFO:vae.vae_util.vae_runner:Epoch: 5\n",
      "INFO:vae.vae_util.vae_model:updated capacity to 0.0\n",
      "INFO:vae.vae_util.vae_runner:Step: 5: validation loss: 258.3542175292969\n",
      "INFO:vae.vae_util.vae_runner:Epoch: 6\n",
      "INFO:vae.vae_util.vae_model:updated capacity to 0.0\n",
      "INFO:vae.vae_util.vae_runner:Step: 6: validation loss: 258.52313232421875\n",
      "INFO:vae.vae_util.vae_runner:Epoch: 7\n",
      "INFO:vae.vae_util.vae_model:updated capacity to 0.0\n",
      "INFO:vae.vae_util.vae_runner:Step: 7: validation loss: 258.33502197265625\n",
      "INFO:vae.vae_util.vae_runner:Epoch: 8\n",
      "INFO:vae.vae_util.vae_model:updated capacity to 0.0\n",
      "INFO:vae.vae_util.vae_runner:Step: 8: validation loss: 257.5220642089844\n",
      "INFO:vae.vae_util.vae_runner:Epoch: 9\n",
      "INFO:vae.vae_util.vae_model:updated capacity to 0.0\n",
      "INFO:vae.vae_util.vae_runner:Step: 9: validation loss: 257.4329528808594\n",
      "INFO:vae.vae_util.vae_runner:Epoch: 10\n",
      "INFO:vae.vae_util.vae_model:updated capacity to 0.0\n",
      "INFO:vae.vae_util.vae_runner:Step: 10: validation loss: 257.4637756347656\n",
      "INFO:vae.vae_util.vae_runner:Epoch: 11\n",
      "INFO:vae.vae_util.vae_model:updated capacity to 0.0\n",
      "INFO:vae.vae_util.vae_runner:Step: 11: validation loss: 257.0570068359375\n",
      "INFO:vae.vae_util.vae_runner:Epoch: 12\n",
      "INFO:vae.vae_util.vae_model:updated capacity to 0.0\n",
      "INFO:vae.vae_util.vae_runner:Step: 12: validation loss: 256.8972473144531\n",
      "INFO:vae.vae_util.vae_runner:Epoch: 13\n",
      "INFO:vae.vae_util.vae_model:updated capacity to 0.0\n",
      "INFO:vae.vae_util.vae_runner:Step: 13: validation loss: 257.101318359375\n",
      "INFO:vae.vae_util.vae_runner:Epoch: 14\n",
      "INFO:vae.vae_util.vae_model:updated capacity to 0.0\n",
      "INFO:vae.vae_util.vae_runner:Step: 14: validation loss: 257.0882263183594\n",
      "INFO:vae.vae_util.vae_runner:Epoch: 15\n",
      "INFO:vae.vae_util.vae_model:updated capacity to 0.0\n",
      "INFO:vae.vae_util.vae_runner:Step: 15: validation loss: 256.9183044433594\n",
      "INFO:vae.vae_util.vae_runner:Epoch: 16\n",
      "INFO:vae.vae_util.vae_model:updated capacity to 0.0\n",
      "INFO:vae.vae_util.vae_runner:Step: 16: validation loss: 256.945068359375\n",
      "INFO:vae.vae_util.vae_runner:Epoch: 17\n",
      "INFO:vae.vae_util.vae_model:updated capacity to 0.0\n",
      "INFO:vae.vae_util.vae_runner:Step: 17: validation loss: 256.79351806640625\n",
      "INFO:vae.vae_util.vae_runner:Epoch: 18\n",
      "INFO:vae.vae_util.vae_model:updated capacity to 0.0\n",
      "INFO:vae.vae_util.vae_runner:Step: 18: validation loss: 257.335693359375\n",
      "INFO:vae.vae_util.vae_runner:Epoch: 19\n",
      "INFO:vae.vae_util.vae_model:updated capacity to 0.0\n",
      "INFO:vae.vae_util.vae_runner:Step: 19: validation loss: 256.5929870605469\n",
      "INFO:vae.vae_util.vae_runner:Epoch: 20\n",
      "INFO:vae.vae_util.vae_model:updated capacity to 0.0\n",
      "INFO:vae.vae_util.vae_runner:Step: 20: validation loss: 256.49945068359375\n",
      "INFO:vae.vae_util.vae_runner:Epoch: 21\n",
      "INFO:vae.vae_util.vae_model:updated capacity to 0.0\n",
      "INFO:vae.vae_util.vae_runner:Step: 21: validation loss: 256.65582275390625\n",
      "INFO:vae.vae_util.vae_runner:Epoch: 22\n",
      "INFO:vae.vae_util.vae_model:updated capacity to 0.0\n",
      "INFO:vae.vae_util.vae_runner:Step: 22: validation loss: 256.4422912597656\n",
      "INFO:vae.vae_util.vae_runner:Epoch: 23\n",
      "INFO:vae.vae_util.vae_model:updated capacity to 0.0\n",
      "INFO:vae.vae_util.vae_runner:Step: 23: validation loss: 256.31201171875\n",
      "INFO:vae.vae_util.vae_runner:Epoch: 24\n",
      "INFO:vae.vae_util.vae_model:updated capacity to 0.0\n",
      "INFO:vae.vae_util.vae_runner:Step: 24: validation loss: 256.5487365722656\n",
      "INFO:vae.vae_util.vae_runner:Epoch: 25\n",
      "INFO:vae.vae_util.vae_model:updated capacity to 0.0\n",
      "INFO:vae.vae_util.vae_runner:Step: 25: validation loss: 256.3731384277344\n",
      "INFO:vae.vae_util.vae_runner:Saving last weights\n"
     ]
    },
    {
     "name": "stdout",
     "output_type": "stream",
     "text": [
      "Found existing weights, skipping VAE_d6_b64_c4_s9.\n",
      "Found existing weights, skipping VAE_d6_b64_c8_s9.\n",
      "Found existing weights, skipping VAE_d6_b64_c12_s9.\n",
      "Found existing weights, skipping VAE_d6_b64_c16_s9.\n",
      "Found existing weights, skipping VAE_d6_b64_c20_s9.\n"
     ]
    }
   ],
   "source": [
    "from IPython.utils import io\n",
    "from vae.vae_util import vae_model, vae_runner\n",
    "\n",
    "# setup params\n",
    "epochs = 25\n",
    "batch = 256\n",
    "latent_dim = 6\n",
    "lr = 1e-3\n",
    "for seed in range(10):\n",
    "    for beta in (0, 1, 2, 4, 8, 16, 32, 64):\n",
    "        for cap in (0, 4, 8, 12, 16, 20):\n",
    "            if beta == 0 and cap > 0:\n",
    "                continue\n",
    "            # generate identifying model key\n",
    "            model_key = f\"VAE_d{latent_dim}_b{beta}_c{cap}_s{seed}\"\n",
    "            dir_path = Path(theme_setup.weights_path / f\"vae/seed_{seed}/{model_key}_e{epochs}_b{batch}_train\")\n",
    "            # skip if weights are already saved\n",
    "            if dir_path.exists():\n",
    "                print(f\"Found existing weights, skipping {model_key}.\")\n",
    "                continue\n",
    "            print(f\"Processing {model_key}.\")\n",
    "            # creates model\n",
    "            vae = vae_model.VAE(\n",
    "                raw_dim=X_trans.shape[1],\n",
    "                latent_dim=latent_dim,\n",
    "                beta=beta,\n",
    "                capacity=cap,\n",
    "                epochs=epochs,\n",
    "                model_key=model_key,\n",
    "                seed=seed,\n",
    "            )\n",
    "            # trains model\n",
    "            trainer = vae_runner.VAE_trainer(\n",
    "                model=vae,\n",
    "                X_samples=X_trans,\n",
    "                labels=labels,\n",
    "                distances=distances,\n",
    "                epochs=epochs,\n",
    "                batch=batch,\n",
    "                best_loss=False,  # KL divergence increases with capacity\n",
    "                lr=lr,\n",
    "                save_path=dir_path,\n",
    "                test_indices=test_idxs,\n",
    "            )\n",
    "            # reduce cell content output from training multiple models\n",
    "            with io.capture_output() as captured:\n",
    "                trainer.train()"
   ]
  },
  {
   "cell_type": "code",
   "execution_count": 6,
   "metadata": {},
   "outputs": [
    {
     "name": "stdout",
     "output_type": "stream",
     "text": [
      "Generating bandwise data\n"
     ]
    },
    {
     "name": "stderr",
     "output_type": "stream",
     "text": [
      "INFO:vae.vae_util.vae_model:initialising VAE...\n"
     ]
    },
    {
     "name": "stdout",
     "output_type": "stream",
     "text": [
      "...collecting seeds from models for beta 0 and capacitance [0]\n"
     ]
    },
    {
     "name": "stderr",
     "output_type": "stream",
     "text": [
      "INFO:vae.vae_util.vae_model:initialising VAE...\n",
      "INFO:vae.vae_util.vae_model:initialising VAE...\n",
      "INFO:vae.vae_util.vae_model:initialising VAE...\n",
      "INFO:vae.vae_util.vae_model:initialising VAE...\n",
      "INFO:vae.vae_util.vae_model:initialising VAE...\n",
      "INFO:vae.vae_util.vae_model:initialising VAE...\n",
      "INFO:vae.vae_util.vae_model:initialising VAE...\n",
      "INFO:vae.vae_util.vae_model:initialising VAE...\n",
      "INFO:vae.vae_util.vae_model:initialising VAE...\n",
      "INFO:vae.vae_util.vae_model:initialising VAE...\n"
     ]
    },
    {
     "name": "stdout",
     "output_type": "stream",
     "text": [
      "...collecting seeds from models for beta 1 and capacitance [0, 4, 8, 12, 16, 20]\n"
     ]
    },
    {
     "name": "stderr",
     "output_type": "stream",
     "text": [
      "INFO:vae.vae_util.vae_model:initialising VAE...\n",
      "INFO:vae.vae_util.vae_model:initialising VAE...\n",
      "INFO:vae.vae_util.vae_model:initialising VAE...\n",
      "INFO:vae.vae_util.vae_model:initialising VAE...\n",
      "INFO:vae.vae_util.vae_model:initialising VAE...\n",
      "INFO:vae.vae_util.vae_model:initialising VAE...\n",
      "INFO:vae.vae_util.vae_model:initialising VAE...\n",
      "INFO:vae.vae_util.vae_model:initialising VAE...\n",
      "INFO:vae.vae_util.vae_model:initialising VAE...\n",
      "INFO:vae.vae_util.vae_model:initialising VAE...\n"
     ]
    },
    {
     "name": "stdout",
     "output_type": "stream",
     "text": [
      "...collecting seeds from models for beta 1 and capacitance [0, 4, 8, 12, 16, 20]\n"
     ]
    },
    {
     "name": "stderr",
     "output_type": "stream",
     "text": [
      "INFO:vae.vae_util.vae_model:initialising VAE...\n",
      "INFO:vae.vae_util.vae_model:initialising VAE...\n",
      "INFO:vae.vae_util.vae_model:initialising VAE...\n",
      "INFO:vae.vae_util.vae_model:initialising VAE...\n",
      "INFO:vae.vae_util.vae_model:initialising VAE...\n",
      "INFO:vae.vae_util.vae_model:initialising VAE...\n",
      "INFO:vae.vae_util.vae_model:initialising VAE...\n",
      "INFO:vae.vae_util.vae_model:initialising VAE...\n",
      "INFO:vae.vae_util.vae_model:initialising VAE...\n",
      "INFO:vae.vae_util.vae_model:initialising VAE...\n"
     ]
    },
    {
     "name": "stdout",
     "output_type": "stream",
     "text": [
      "...collecting seeds from models for beta 1 and capacitance [0, 4, 8, 12, 16, 20]\n"
     ]
    },
    {
     "name": "stderr",
     "output_type": "stream",
     "text": [
      "INFO:vae.vae_util.vae_model:initialising VAE...\n",
      "INFO:vae.vae_util.vae_model:initialising VAE...\n",
      "INFO:vae.vae_util.vae_model:initialising VAE...\n",
      "INFO:vae.vae_util.vae_model:initialising VAE...\n",
      "INFO:vae.vae_util.vae_model:initialising VAE...\n",
      "INFO:vae.vae_util.vae_model:initialising VAE...\n",
      "INFO:vae.vae_util.vae_model:initialising VAE...\n",
      "INFO:vae.vae_util.vae_model:initialising VAE...\n",
      "INFO:vae.vae_util.vae_model:initialising VAE...\n",
      "INFO:vae.vae_util.vae_model:initialising VAE...\n"
     ]
    },
    {
     "name": "stdout",
     "output_type": "stream",
     "text": [
      "...collecting seeds from models for beta 1 and capacitance [0, 4, 8, 12, 16, 20]\n"
     ]
    },
    {
     "name": "stderr",
     "output_type": "stream",
     "text": [
      "INFO:vae.vae_util.vae_model:initialising VAE...\n",
      "INFO:vae.vae_util.vae_model:initialising VAE...\n",
      "INFO:vae.vae_util.vae_model:initialising VAE...\n",
      "INFO:vae.vae_util.vae_model:initialising VAE...\n",
      "INFO:vae.vae_util.vae_model:initialising VAE...\n",
      "INFO:vae.vae_util.vae_model:initialising VAE...\n",
      "INFO:vae.vae_util.vae_model:initialising VAE...\n",
      "INFO:vae.vae_util.vae_model:initialising VAE...\n",
      "INFO:vae.vae_util.vae_model:initialising VAE...\n",
      "INFO:vae.vae_util.vae_model:initialising VAE...\n"
     ]
    },
    {
     "name": "stdout",
     "output_type": "stream",
     "text": [
      "...collecting seeds from models for beta 1 and capacitance [0, 4, 8, 12, 16, 20]\n"
     ]
    },
    {
     "name": "stderr",
     "output_type": "stream",
     "text": [
      "INFO:vae.vae_util.vae_model:initialising VAE...\n",
      "INFO:vae.vae_util.vae_model:initialising VAE...\n",
      "INFO:vae.vae_util.vae_model:initialising VAE...\n",
      "INFO:vae.vae_util.vae_model:initialising VAE...\n",
      "INFO:vae.vae_util.vae_model:initialising VAE...\n",
      "INFO:vae.vae_util.vae_model:initialising VAE...\n",
      "INFO:vae.vae_util.vae_model:initialising VAE...\n",
      "INFO:vae.vae_util.vae_model:initialising VAE...\n",
      "INFO:vae.vae_util.vae_model:initialising VAE...\n",
      "INFO:vae.vae_util.vae_model:initialising VAE...\n"
     ]
    },
    {
     "name": "stdout",
     "output_type": "stream",
     "text": [
      "...collecting seeds from models for beta 1 and capacitance [0, 4, 8, 12, 16, 20]\n"
     ]
    },
    {
     "name": "stderr",
     "output_type": "stream",
     "text": [
      "INFO:vae.vae_util.vae_model:initialising VAE...\n",
      "INFO:vae.vae_util.vae_model:initialising VAE...\n",
      "INFO:vae.vae_util.vae_model:initialising VAE...\n",
      "INFO:vae.vae_util.vae_model:initialising VAE...\n",
      "INFO:vae.vae_util.vae_model:initialising VAE...\n",
      "INFO:vae.vae_util.vae_model:initialising VAE...\n",
      "INFO:vae.vae_util.vae_model:initialising VAE...\n",
      "INFO:vae.vae_util.vae_model:initialising VAE...\n",
      "INFO:vae.vae_util.vae_model:initialising VAE...\n",
      "INFO:vae.vae_util.vae_model:initialising VAE...\n"
     ]
    },
    {
     "name": "stdout",
     "output_type": "stream",
     "text": [
      "...collecting seeds from models for beta 2 and capacitance [0, 4, 8, 12, 16, 20]\n"
     ]
    },
    {
     "name": "stderr",
     "output_type": "stream",
     "text": [
      "INFO:vae.vae_util.vae_model:initialising VAE...\n",
      "INFO:vae.vae_util.vae_model:initialising VAE...\n",
      "INFO:vae.vae_util.vae_model:initialising VAE...\n",
      "INFO:vae.vae_util.vae_model:initialising VAE...\n",
      "INFO:vae.vae_util.vae_model:initialising VAE...\n",
      "INFO:vae.vae_util.vae_model:initialising VAE...\n",
      "INFO:vae.vae_util.vae_model:initialising VAE...\n",
      "INFO:vae.vae_util.vae_model:initialising VAE...\n",
      "INFO:vae.vae_util.vae_model:initialising VAE...\n",
      "INFO:vae.vae_util.vae_model:initialising VAE...\n"
     ]
    },
    {
     "name": "stdout",
     "output_type": "stream",
     "text": [
      "...collecting seeds from models for beta 2 and capacitance [0, 4, 8, 12, 16, 20]\n"
     ]
    },
    {
     "name": "stderr",
     "output_type": "stream",
     "text": [
      "INFO:vae.vae_util.vae_model:initialising VAE...\n",
      "INFO:vae.vae_util.vae_model:initialising VAE...\n",
      "INFO:vae.vae_util.vae_model:initialising VAE...\n",
      "INFO:vae.vae_util.vae_model:initialising VAE...\n",
      "INFO:vae.vae_util.vae_model:initialising VAE...\n",
      "INFO:vae.vae_util.vae_model:initialising VAE...\n",
      "INFO:vae.vae_util.vae_model:initialising VAE...\n",
      "INFO:vae.vae_util.vae_model:initialising VAE...\n",
      "INFO:vae.vae_util.vae_model:initialising VAE...\n",
      "INFO:vae.vae_util.vae_model:initialising VAE...\n"
     ]
    },
    {
     "name": "stdout",
     "output_type": "stream",
     "text": [
      "...collecting seeds from models for beta 2 and capacitance [0, 4, 8, 12, 16, 20]\n"
     ]
    },
    {
     "name": "stderr",
     "output_type": "stream",
     "text": [
      "INFO:vae.vae_util.vae_model:initialising VAE...\n",
      "INFO:vae.vae_util.vae_model:initialising VAE...\n",
      "INFO:vae.vae_util.vae_model:initialising VAE...\n",
      "INFO:vae.vae_util.vae_model:initialising VAE...\n",
      "INFO:vae.vae_util.vae_model:initialising VAE...\n",
      "INFO:vae.vae_util.vae_model:initialising VAE...\n",
      "INFO:vae.vae_util.vae_model:initialising VAE...\n",
      "INFO:vae.vae_util.vae_model:initialising VAE...\n",
      "INFO:vae.vae_util.vae_model:initialising VAE...\n",
      "INFO:vae.vae_util.vae_model:initialising VAE...\n"
     ]
    },
    {
     "name": "stdout",
     "output_type": "stream",
     "text": [
      "...collecting seeds from models for beta 2 and capacitance [0, 4, 8, 12, 16, 20]\n"
     ]
    },
    {
     "name": "stderr",
     "output_type": "stream",
     "text": [
      "INFO:vae.vae_util.vae_model:initialising VAE...\n",
      "INFO:vae.vae_util.vae_model:initialising VAE...\n",
      "INFO:vae.vae_util.vae_model:initialising VAE...\n",
      "INFO:vae.vae_util.vae_model:initialising VAE...\n",
      "INFO:vae.vae_util.vae_model:initialising VAE...\n",
      "INFO:vae.vae_util.vae_model:initialising VAE...\n",
      "INFO:vae.vae_util.vae_model:initialising VAE...\n",
      "INFO:vae.vae_util.vae_model:initialising VAE...\n",
      "INFO:vae.vae_util.vae_model:initialising VAE...\n",
      "INFO:vae.vae_util.vae_model:initialising VAE...\n"
     ]
    },
    {
     "name": "stdout",
     "output_type": "stream",
     "text": [
      "...collecting seeds from models for beta 2 and capacitance [0, 4, 8, 12, 16, 20]\n"
     ]
    },
    {
     "name": "stderr",
     "output_type": "stream",
     "text": [
      "INFO:vae.vae_util.vae_model:initialising VAE...\n",
      "INFO:vae.vae_util.vae_model:initialising VAE...\n",
      "INFO:vae.vae_util.vae_model:initialising VAE...\n",
      "INFO:vae.vae_util.vae_model:initialising VAE...\n",
      "INFO:vae.vae_util.vae_model:initialising VAE...\n",
      "INFO:vae.vae_util.vae_model:initialising VAE...\n",
      "INFO:vae.vae_util.vae_model:initialising VAE...\n",
      "INFO:vae.vae_util.vae_model:initialising VAE...\n",
      "INFO:vae.vae_util.vae_model:initialising VAE...\n",
      "INFO:vae.vae_util.vae_model:initialising VAE...\n"
     ]
    },
    {
     "name": "stdout",
     "output_type": "stream",
     "text": [
      "...collecting seeds from models for beta 2 and capacitance [0, 4, 8, 12, 16, 20]\n"
     ]
    },
    {
     "name": "stderr",
     "output_type": "stream",
     "text": [
      "INFO:vae.vae_util.vae_model:initialising VAE...\n",
      "INFO:vae.vae_util.vae_model:initialising VAE...\n",
      "INFO:vae.vae_util.vae_model:initialising VAE...\n",
      "INFO:vae.vae_util.vae_model:initialising VAE...\n",
      "INFO:vae.vae_util.vae_model:initialising VAE...\n",
      "INFO:vae.vae_util.vae_model:initialising VAE...\n",
      "INFO:vae.vae_util.vae_model:initialising VAE...\n",
      "INFO:vae.vae_util.vae_model:initialising VAE...\n",
      "INFO:vae.vae_util.vae_model:initialising VAE...\n",
      "INFO:vae.vae_util.vae_model:initialising VAE...\n"
     ]
    },
    {
     "name": "stdout",
     "output_type": "stream",
     "text": [
      "...collecting seeds from models for beta 4 and capacitance [0, 4, 8, 12, 16, 20]\n"
     ]
    },
    {
     "name": "stderr",
     "output_type": "stream",
     "text": [
      "INFO:vae.vae_util.vae_model:initialising VAE...\n",
      "INFO:vae.vae_util.vae_model:initialising VAE...\n",
      "INFO:vae.vae_util.vae_model:initialising VAE...\n",
      "INFO:vae.vae_util.vae_model:initialising VAE...\n",
      "INFO:vae.vae_util.vae_model:initialising VAE...\n",
      "INFO:vae.vae_util.vae_model:initialising VAE...\n",
      "INFO:vae.vae_util.vae_model:initialising VAE...\n",
      "INFO:vae.vae_util.vae_model:initialising VAE...\n",
      "INFO:vae.vae_util.vae_model:initialising VAE...\n",
      "INFO:vae.vae_util.vae_model:initialising VAE...\n"
     ]
    },
    {
     "name": "stdout",
     "output_type": "stream",
     "text": [
      "...collecting seeds from models for beta 4 and capacitance [0, 4, 8, 12, 16, 20]\n"
     ]
    },
    {
     "name": "stderr",
     "output_type": "stream",
     "text": [
      "INFO:vae.vae_util.vae_model:initialising VAE...\n",
      "INFO:vae.vae_util.vae_model:initialising VAE...\n",
      "INFO:vae.vae_util.vae_model:initialising VAE...\n",
      "INFO:vae.vae_util.vae_model:initialising VAE...\n",
      "INFO:vae.vae_util.vae_model:initialising VAE...\n",
      "INFO:vae.vae_util.vae_model:initialising VAE...\n",
      "INFO:vae.vae_util.vae_model:initialising VAE...\n",
      "INFO:vae.vae_util.vae_model:initialising VAE...\n",
      "INFO:vae.vae_util.vae_model:initialising VAE...\n",
      "INFO:vae.vae_util.vae_model:initialising VAE...\n"
     ]
    },
    {
     "name": "stdout",
     "output_type": "stream",
     "text": [
      "...collecting seeds from models for beta 4 and capacitance [0, 4, 8, 12, 16, 20]\n"
     ]
    },
    {
     "name": "stderr",
     "output_type": "stream",
     "text": [
      "INFO:vae.vae_util.vae_model:initialising VAE...\n",
      "INFO:vae.vae_util.vae_model:initialising VAE...\n",
      "INFO:vae.vae_util.vae_model:initialising VAE...\n",
      "INFO:vae.vae_util.vae_model:initialising VAE...\n",
      "INFO:vae.vae_util.vae_model:initialising VAE...\n",
      "INFO:vae.vae_util.vae_model:initialising VAE...\n",
      "INFO:vae.vae_util.vae_model:initialising VAE...\n",
      "INFO:vae.vae_util.vae_model:initialising VAE...\n",
      "INFO:vae.vae_util.vae_model:initialising VAE...\n",
      "INFO:vae.vae_util.vae_model:initialising VAE...\n"
     ]
    },
    {
     "name": "stdout",
     "output_type": "stream",
     "text": [
      "...collecting seeds from models for beta 4 and capacitance [0, 4, 8, 12, 16, 20]\n"
     ]
    },
    {
     "name": "stderr",
     "output_type": "stream",
     "text": [
      "INFO:vae.vae_util.vae_model:initialising VAE...\n",
      "INFO:vae.vae_util.vae_model:initialising VAE...\n",
      "INFO:vae.vae_util.vae_model:initialising VAE...\n",
      "INFO:vae.vae_util.vae_model:initialising VAE...\n",
      "INFO:vae.vae_util.vae_model:initialising VAE...\n",
      "INFO:vae.vae_util.vae_model:initialising VAE...\n",
      "INFO:vae.vae_util.vae_model:initialising VAE...\n",
      "INFO:vae.vae_util.vae_model:initialising VAE...\n",
      "INFO:vae.vae_util.vae_model:initialising VAE...\n",
      "INFO:vae.vae_util.vae_model:initialising VAE...\n"
     ]
    },
    {
     "name": "stdout",
     "output_type": "stream",
     "text": [
      "...collecting seeds from models for beta 4 and capacitance [0, 4, 8, 12, 16, 20]\n"
     ]
    },
    {
     "name": "stderr",
     "output_type": "stream",
     "text": [
      "INFO:vae.vae_util.vae_model:initialising VAE...\n",
      "INFO:vae.vae_util.vae_model:initialising VAE...\n",
      "INFO:vae.vae_util.vae_model:initialising VAE...\n",
      "INFO:vae.vae_util.vae_model:initialising VAE...\n",
      "INFO:vae.vae_util.vae_model:initialising VAE...\n",
      "INFO:vae.vae_util.vae_model:initialising VAE...\n",
      "INFO:vae.vae_util.vae_model:initialising VAE...\n",
      "INFO:vae.vae_util.vae_model:initialising VAE...\n",
      "INFO:vae.vae_util.vae_model:initialising VAE...\n",
      "INFO:vae.vae_util.vae_model:initialising VAE...\n"
     ]
    },
    {
     "name": "stdout",
     "output_type": "stream",
     "text": [
      "...collecting seeds from models for beta 4 and capacitance [0, 4, 8, 12, 16, 20]\n"
     ]
    },
    {
     "name": "stderr",
     "output_type": "stream",
     "text": [
      "INFO:vae.vae_util.vae_model:initialising VAE...\n",
      "INFO:vae.vae_util.vae_model:initialising VAE...\n",
      "INFO:vae.vae_util.vae_model:initialising VAE...\n",
      "INFO:vae.vae_util.vae_model:initialising VAE...\n",
      "INFO:vae.vae_util.vae_model:initialising VAE...\n",
      "INFO:vae.vae_util.vae_model:initialising VAE...\n",
      "INFO:vae.vae_util.vae_model:initialising VAE...\n",
      "INFO:vae.vae_util.vae_model:initialising VAE...\n",
      "INFO:vae.vae_util.vae_model:initialising VAE...\n",
      "INFO:vae.vae_util.vae_model:initialising VAE...\n"
     ]
    },
    {
     "name": "stdout",
     "output_type": "stream",
     "text": [
      "...collecting seeds from models for beta 8 and capacitance [0, 4, 8, 12, 16, 20]\n"
     ]
    },
    {
     "name": "stderr",
     "output_type": "stream",
     "text": [
      "INFO:vae.vae_util.vae_model:initialising VAE...\n",
      "INFO:vae.vae_util.vae_model:initialising VAE...\n",
      "INFO:vae.vae_util.vae_model:initialising VAE...\n",
      "INFO:vae.vae_util.vae_model:initialising VAE...\n",
      "INFO:vae.vae_util.vae_model:initialising VAE...\n",
      "INFO:vae.vae_util.vae_model:initialising VAE...\n",
      "INFO:vae.vae_util.vae_model:initialising VAE...\n",
      "INFO:vae.vae_util.vae_model:initialising VAE...\n",
      "INFO:vae.vae_util.vae_model:initialising VAE...\n",
      "INFO:vae.vae_util.vae_model:initialising VAE...\n"
     ]
    },
    {
     "name": "stdout",
     "output_type": "stream",
     "text": [
      "...collecting seeds from models for beta 8 and capacitance [0, 4, 8, 12, 16, 20]\n"
     ]
    },
    {
     "name": "stderr",
     "output_type": "stream",
     "text": [
      "INFO:vae.vae_util.vae_model:initialising VAE...\n",
      "INFO:vae.vae_util.vae_model:initialising VAE...\n",
      "INFO:vae.vae_util.vae_model:initialising VAE...\n",
      "INFO:vae.vae_util.vae_model:initialising VAE...\n",
      "INFO:vae.vae_util.vae_model:initialising VAE...\n",
      "INFO:vae.vae_util.vae_model:initialising VAE...\n",
      "INFO:vae.vae_util.vae_model:initialising VAE...\n",
      "INFO:vae.vae_util.vae_model:initialising VAE...\n",
      "INFO:vae.vae_util.vae_model:initialising VAE...\n",
      "INFO:vae.vae_util.vae_model:initialising VAE...\n"
     ]
    },
    {
     "name": "stdout",
     "output_type": "stream",
     "text": [
      "...collecting seeds from models for beta 8 and capacitance [0, 4, 8, 12, 16, 20]\n"
     ]
    },
    {
     "name": "stderr",
     "output_type": "stream",
     "text": [
      "INFO:vae.vae_util.vae_model:initialising VAE...\n",
      "INFO:vae.vae_util.vae_model:initialising VAE...\n",
      "INFO:vae.vae_util.vae_model:initialising VAE...\n",
      "INFO:vae.vae_util.vae_model:initialising VAE...\n",
      "INFO:vae.vae_util.vae_model:initialising VAE...\n",
      "INFO:vae.vae_util.vae_model:initialising VAE...\n",
      "INFO:vae.vae_util.vae_model:initialising VAE...\n",
      "INFO:vae.vae_util.vae_model:initialising VAE...\n",
      "INFO:vae.vae_util.vae_model:initialising VAE...\n",
      "INFO:vae.vae_util.vae_model:initialising VAE...\n"
     ]
    },
    {
     "name": "stdout",
     "output_type": "stream",
     "text": [
      "...collecting seeds from models for beta 8 and capacitance [0, 4, 8, 12, 16, 20]\n"
     ]
    },
    {
     "name": "stderr",
     "output_type": "stream",
     "text": [
      "INFO:vae.vae_util.vae_model:initialising VAE...\n",
      "INFO:vae.vae_util.vae_model:initialising VAE...\n",
      "INFO:vae.vae_util.vae_model:initialising VAE...\n",
      "INFO:vae.vae_util.vae_model:initialising VAE...\n",
      "INFO:vae.vae_util.vae_model:initialising VAE...\n",
      "INFO:vae.vae_util.vae_model:initialising VAE...\n",
      "INFO:vae.vae_util.vae_model:initialising VAE...\n",
      "INFO:vae.vae_util.vae_model:initialising VAE...\n",
      "INFO:vae.vae_util.vae_model:initialising VAE...\n",
      "INFO:vae.vae_util.vae_model:initialising VAE...\n"
     ]
    },
    {
     "name": "stdout",
     "output_type": "stream",
     "text": [
      "...collecting seeds from models for beta 8 and capacitance [0, 4, 8, 12, 16, 20]\n"
     ]
    },
    {
     "name": "stderr",
     "output_type": "stream",
     "text": [
      "INFO:vae.vae_util.vae_model:initialising VAE...\n",
      "INFO:vae.vae_util.vae_model:initialising VAE...\n",
      "INFO:vae.vae_util.vae_model:initialising VAE...\n",
      "INFO:vae.vae_util.vae_model:initialising VAE...\n",
      "INFO:vae.vae_util.vae_model:initialising VAE...\n",
      "INFO:vae.vae_util.vae_model:initialising VAE...\n",
      "INFO:vae.vae_util.vae_model:initialising VAE...\n",
      "INFO:vae.vae_util.vae_model:initialising VAE...\n",
      "INFO:vae.vae_util.vae_model:initialising VAE...\n",
      "INFO:vae.vae_util.vae_model:initialising VAE...\n"
     ]
    },
    {
     "name": "stdout",
     "output_type": "stream",
     "text": [
      "...collecting seeds from models for beta 8 and capacitance [0, 4, 8, 12, 16, 20]\n"
     ]
    },
    {
     "name": "stderr",
     "output_type": "stream",
     "text": [
      "INFO:vae.vae_util.vae_model:initialising VAE...\n",
      "INFO:vae.vae_util.vae_model:initialising VAE...\n",
      "INFO:vae.vae_util.vae_model:initialising VAE...\n",
      "INFO:vae.vae_util.vae_model:initialising VAE...\n",
      "INFO:vae.vae_util.vae_model:initialising VAE...\n",
      "INFO:vae.vae_util.vae_model:initialising VAE...\n",
      "INFO:vae.vae_util.vae_model:initialising VAE...\n",
      "INFO:vae.vae_util.vae_model:initialising VAE...\n",
      "INFO:vae.vae_util.vae_model:initialising VAE...\n",
      "INFO:vae.vae_util.vae_model:initialising VAE...\n"
     ]
    },
    {
     "name": "stdout",
     "output_type": "stream",
     "text": [
      "...collecting seeds from models for beta 16 and capacitance [0, 4, 8, 12, 16, 20]\n"
     ]
    },
    {
     "name": "stderr",
     "output_type": "stream",
     "text": [
      "INFO:vae.vae_util.vae_model:initialising VAE...\n",
      "INFO:vae.vae_util.vae_model:initialising VAE...\n",
      "INFO:vae.vae_util.vae_model:initialising VAE...\n",
      "INFO:vae.vae_util.vae_model:initialising VAE...\n",
      "INFO:vae.vae_util.vae_model:initialising VAE...\n",
      "INFO:vae.vae_util.vae_model:initialising VAE...\n",
      "INFO:vae.vae_util.vae_model:initialising VAE...\n",
      "INFO:vae.vae_util.vae_model:initialising VAE...\n",
      "INFO:vae.vae_util.vae_model:initialising VAE...\n",
      "INFO:vae.vae_util.vae_model:initialising VAE...\n"
     ]
    },
    {
     "name": "stdout",
     "output_type": "stream",
     "text": [
      "...collecting seeds from models for beta 16 and capacitance [0, 4, 8, 12, 16, 20]\n"
     ]
    },
    {
     "name": "stderr",
     "output_type": "stream",
     "text": [
      "INFO:vae.vae_util.vae_model:initialising VAE...\n",
      "INFO:vae.vae_util.vae_model:initialising VAE...\n",
      "INFO:vae.vae_util.vae_model:initialising VAE...\n",
      "INFO:vae.vae_util.vae_model:initialising VAE...\n",
      "INFO:vae.vae_util.vae_model:initialising VAE...\n",
      "INFO:vae.vae_util.vae_model:initialising VAE...\n",
      "INFO:vae.vae_util.vae_model:initialising VAE...\n",
      "INFO:vae.vae_util.vae_model:initialising VAE...\n",
      "INFO:vae.vae_util.vae_model:initialising VAE...\n",
      "INFO:vae.vae_util.vae_model:initialising VAE...\n"
     ]
    },
    {
     "name": "stdout",
     "output_type": "stream",
     "text": [
      "...collecting seeds from models for beta 16 and capacitance [0, 4, 8, 12, 16, 20]\n"
     ]
    },
    {
     "name": "stderr",
     "output_type": "stream",
     "text": [
      "INFO:vae.vae_util.vae_model:initialising VAE...\n",
      "INFO:vae.vae_util.vae_model:initialising VAE...\n",
      "INFO:vae.vae_util.vae_model:initialising VAE...\n",
      "INFO:vae.vae_util.vae_model:initialising VAE...\n",
      "INFO:vae.vae_util.vae_model:initialising VAE...\n",
      "INFO:vae.vae_util.vae_model:initialising VAE...\n",
      "INFO:vae.vae_util.vae_model:initialising VAE...\n",
      "INFO:vae.vae_util.vae_model:initialising VAE...\n",
      "INFO:vae.vae_util.vae_model:initialising VAE...\n",
      "INFO:vae.vae_util.vae_model:initialising VAE...\n"
     ]
    },
    {
     "name": "stdout",
     "output_type": "stream",
     "text": [
      "...collecting seeds from models for beta 16 and capacitance [0, 4, 8, 12, 16, 20]\n"
     ]
    },
    {
     "name": "stderr",
     "output_type": "stream",
     "text": [
      "INFO:vae.vae_util.vae_model:initialising VAE...\n",
      "INFO:vae.vae_util.vae_model:initialising VAE...\n",
      "INFO:vae.vae_util.vae_model:initialising VAE...\n",
      "INFO:vae.vae_util.vae_model:initialising VAE...\n",
      "INFO:vae.vae_util.vae_model:initialising VAE...\n",
      "INFO:vae.vae_util.vae_model:initialising VAE...\n",
      "INFO:vae.vae_util.vae_model:initialising VAE...\n",
      "INFO:vae.vae_util.vae_model:initialising VAE...\n",
      "INFO:vae.vae_util.vae_model:initialising VAE...\n",
      "INFO:vae.vae_util.vae_model:initialising VAE...\n"
     ]
    },
    {
     "name": "stdout",
     "output_type": "stream",
     "text": [
      "...collecting seeds from models for beta 16 and capacitance [0, 4, 8, 12, 16, 20]\n"
     ]
    },
    {
     "name": "stderr",
     "output_type": "stream",
     "text": [
      "INFO:vae.vae_util.vae_model:initialising VAE...\n",
      "INFO:vae.vae_util.vae_model:initialising VAE...\n",
      "INFO:vae.vae_util.vae_model:initialising VAE...\n",
      "INFO:vae.vae_util.vae_model:initialising VAE...\n",
      "INFO:vae.vae_util.vae_model:initialising VAE...\n",
      "INFO:vae.vae_util.vae_model:initialising VAE...\n",
      "INFO:vae.vae_util.vae_model:initialising VAE...\n",
      "INFO:vae.vae_util.vae_model:initialising VAE...\n",
      "INFO:vae.vae_util.vae_model:initialising VAE...\n",
      "INFO:vae.vae_util.vae_model:initialising VAE...\n"
     ]
    },
    {
     "name": "stdout",
     "output_type": "stream",
     "text": [
      "...collecting seeds from models for beta 16 and capacitance [0, 4, 8, 12, 16, 20]\n"
     ]
    },
    {
     "name": "stderr",
     "output_type": "stream",
     "text": [
      "INFO:vae.vae_util.vae_model:initialising VAE...\n",
      "INFO:vae.vae_util.vae_model:initialising VAE...\n",
      "INFO:vae.vae_util.vae_model:initialising VAE...\n",
      "INFO:vae.vae_util.vae_model:initialising VAE...\n",
      "INFO:vae.vae_util.vae_model:initialising VAE...\n",
      "INFO:vae.vae_util.vae_model:initialising VAE...\n",
      "INFO:vae.vae_util.vae_model:initialising VAE...\n",
      "INFO:vae.vae_util.vae_model:initialising VAE...\n",
      "INFO:vae.vae_util.vae_model:initialising VAE...\n",
      "INFO:vae.vae_util.vae_model:initialising VAE...\n"
     ]
    },
    {
     "name": "stdout",
     "output_type": "stream",
     "text": [
      "...collecting seeds from models for beta 32 and capacitance [0, 4, 8, 12, 16, 20]\n"
     ]
    },
    {
     "name": "stderr",
     "output_type": "stream",
     "text": [
      "INFO:vae.vae_util.vae_model:initialising VAE...\n",
      "INFO:vae.vae_util.vae_model:initialising VAE...\n",
      "INFO:vae.vae_util.vae_model:initialising VAE...\n",
      "INFO:vae.vae_util.vae_model:initialising VAE...\n",
      "INFO:vae.vae_util.vae_model:initialising VAE...\n",
      "INFO:vae.vae_util.vae_model:initialising VAE...\n",
      "INFO:vae.vae_util.vae_model:initialising VAE...\n",
      "INFO:vae.vae_util.vae_model:initialising VAE...\n",
      "INFO:vae.vae_util.vae_model:initialising VAE...\n",
      "INFO:vae.vae_util.vae_model:initialising VAE...\n"
     ]
    },
    {
     "name": "stdout",
     "output_type": "stream",
     "text": [
      "...collecting seeds from models for beta 32 and capacitance [0, 4, 8, 12, 16, 20]\n"
     ]
    },
    {
     "name": "stderr",
     "output_type": "stream",
     "text": [
      "INFO:vae.vae_util.vae_model:initialising VAE...\n",
      "INFO:vae.vae_util.vae_model:initialising VAE...\n",
      "INFO:vae.vae_util.vae_model:initialising VAE...\n",
      "INFO:vae.vae_util.vae_model:initialising VAE...\n",
      "INFO:vae.vae_util.vae_model:initialising VAE...\n",
      "INFO:vae.vae_util.vae_model:initialising VAE...\n",
      "INFO:vae.vae_util.vae_model:initialising VAE...\n",
      "INFO:vae.vae_util.vae_model:initialising VAE...\n",
      "INFO:vae.vae_util.vae_model:initialising VAE...\n",
      "INFO:vae.vae_util.vae_model:initialising VAE...\n"
     ]
    },
    {
     "name": "stdout",
     "output_type": "stream",
     "text": [
      "...collecting seeds from models for beta 32 and capacitance [0, 4, 8, 12, 16, 20]\n"
     ]
    },
    {
     "name": "stderr",
     "output_type": "stream",
     "text": [
      "INFO:vae.vae_util.vae_model:initialising VAE...\n",
      "INFO:vae.vae_util.vae_model:initialising VAE...\n",
      "INFO:vae.vae_util.vae_model:initialising VAE...\n",
      "INFO:vae.vae_util.vae_model:initialising VAE...\n",
      "INFO:vae.vae_util.vae_model:initialising VAE...\n",
      "INFO:vae.vae_util.vae_model:initialising VAE...\n",
      "INFO:vae.vae_util.vae_model:initialising VAE...\n",
      "INFO:vae.vae_util.vae_model:initialising VAE...\n",
      "INFO:vae.vae_util.vae_model:initialising VAE...\n",
      "INFO:vae.vae_util.vae_model:initialising VAE...\n"
     ]
    },
    {
     "name": "stdout",
     "output_type": "stream",
     "text": [
      "...collecting seeds from models for beta 32 and capacitance [0, 4, 8, 12, 16, 20]\n"
     ]
    },
    {
     "name": "stderr",
     "output_type": "stream",
     "text": [
      "INFO:vae.vae_util.vae_model:initialising VAE...\n",
      "INFO:vae.vae_util.vae_model:initialising VAE...\n",
      "INFO:vae.vae_util.vae_model:initialising VAE...\n",
      "INFO:vae.vae_util.vae_model:initialising VAE...\n",
      "INFO:vae.vae_util.vae_model:initialising VAE...\n",
      "INFO:vae.vae_util.vae_model:initialising VAE...\n",
      "INFO:vae.vae_util.vae_model:initialising VAE...\n",
      "INFO:vae.vae_util.vae_model:initialising VAE...\n",
      "INFO:vae.vae_util.vae_model:initialising VAE...\n",
      "INFO:vae.vae_util.vae_model:initialising VAE...\n"
     ]
    },
    {
     "name": "stdout",
     "output_type": "stream",
     "text": [
      "...collecting seeds from models for beta 32 and capacitance [0, 4, 8, 12, 16, 20]\n"
     ]
    },
    {
     "name": "stderr",
     "output_type": "stream",
     "text": [
      "INFO:vae.vae_util.vae_model:initialising VAE...\n",
      "INFO:vae.vae_util.vae_model:initialising VAE...\n",
      "INFO:vae.vae_util.vae_model:initialising VAE...\n",
      "INFO:vae.vae_util.vae_model:initialising VAE...\n",
      "INFO:vae.vae_util.vae_model:initialising VAE...\n",
      "INFO:vae.vae_util.vae_model:initialising VAE...\n",
      "INFO:vae.vae_util.vae_model:initialising VAE...\n",
      "INFO:vae.vae_util.vae_model:initialising VAE...\n",
      "INFO:vae.vae_util.vae_model:initialising VAE...\n",
      "INFO:vae.vae_util.vae_model:initialising VAE...\n"
     ]
    },
    {
     "name": "stdout",
     "output_type": "stream",
     "text": [
      "...collecting seeds from models for beta 32 and capacitance [0, 4, 8, 12, 16, 20]\n"
     ]
    },
    {
     "name": "stderr",
     "output_type": "stream",
     "text": [
      "INFO:vae.vae_util.vae_model:initialising VAE...\n",
      "INFO:vae.vae_util.vae_model:initialising VAE...\n",
      "INFO:vae.vae_util.vae_model:initialising VAE...\n",
      "INFO:vae.vae_util.vae_model:initialising VAE...\n",
      "INFO:vae.vae_util.vae_model:initialising VAE...\n",
      "INFO:vae.vae_util.vae_model:initialising VAE...\n",
      "INFO:vae.vae_util.vae_model:initialising VAE...\n",
      "INFO:vae.vae_util.vae_model:initialising VAE...\n",
      "INFO:vae.vae_util.vae_model:initialising VAE...\n",
      "INFO:vae.vae_util.vae_model:initialising VAE...\n"
     ]
    },
    {
     "name": "stdout",
     "output_type": "stream",
     "text": [
      "...collecting seeds from models for beta 64 and capacitance [0, 4, 8, 12, 16, 20]\n"
     ]
    },
    {
     "name": "stderr",
     "output_type": "stream",
     "text": [
      "INFO:vae.vae_util.vae_model:initialising VAE...\n",
      "INFO:vae.vae_util.vae_model:initialising VAE...\n",
      "INFO:vae.vae_util.vae_model:initialising VAE...\n",
      "INFO:vae.vae_util.vae_model:initialising VAE...\n",
      "INFO:vae.vae_util.vae_model:initialising VAE...\n",
      "INFO:vae.vae_util.vae_model:initialising VAE...\n",
      "INFO:vae.vae_util.vae_model:initialising VAE...\n",
      "INFO:vae.vae_util.vae_model:initialising VAE...\n",
      "INFO:vae.vae_util.vae_model:initialising VAE...\n",
      "INFO:vae.vae_util.vae_model:initialising VAE...\n"
     ]
    },
    {
     "name": "stdout",
     "output_type": "stream",
     "text": [
      "...collecting seeds from models for beta 64 and capacitance [0, 4, 8, 12, 16, 20]\n"
     ]
    },
    {
     "name": "stderr",
     "output_type": "stream",
     "text": [
      "INFO:vae.vae_util.vae_model:initialising VAE...\n",
      "INFO:vae.vae_util.vae_model:initialising VAE...\n",
      "INFO:vae.vae_util.vae_model:initialising VAE...\n",
      "INFO:vae.vae_util.vae_model:initialising VAE...\n",
      "INFO:vae.vae_util.vae_model:initialising VAE...\n",
      "INFO:vae.vae_util.vae_model:initialising VAE...\n",
      "INFO:vae.vae_util.vae_model:initialising VAE...\n",
      "INFO:vae.vae_util.vae_model:initialising VAE...\n",
      "INFO:vae.vae_util.vae_model:initialising VAE...\n",
      "INFO:vae.vae_util.vae_model:initialising VAE...\n"
     ]
    },
    {
     "name": "stdout",
     "output_type": "stream",
     "text": [
      "...collecting seeds from models for beta 64 and capacitance [0, 4, 8, 12, 16, 20]\n"
     ]
    },
    {
     "name": "stderr",
     "output_type": "stream",
     "text": [
      "INFO:vae.vae_util.vae_model:initialising VAE...\n",
      "INFO:vae.vae_util.vae_model:initialising VAE...\n",
      "INFO:vae.vae_util.vae_model:initialising VAE...\n",
      "INFO:vae.vae_util.vae_model:initialising VAE...\n",
      "INFO:vae.vae_util.vae_model:initialising VAE...\n",
      "INFO:vae.vae_util.vae_model:initialising VAE...\n",
      "INFO:vae.vae_util.vae_model:initialising VAE...\n",
      "INFO:vae.vae_util.vae_model:initialising VAE...\n",
      "INFO:vae.vae_util.vae_model:initialising VAE...\n"
     ]
    },
    {
     "ename": "NotFoundError",
     "evalue": "Unsuccessful TensorSliceReader constructor: Failed to find any matching files for /Users/gareth/dev/benchmark-urbanism/cityseer-api/demos/temp/weights/vae/seed_9/VAE_d6_b64_c8_s9_e25_b256_train/weights",
     "output_type": "error",
     "traceback": [
      "\u001b[0;31m---------------------------------------------------------------------------\u001b[0m",
      "\u001b[0;31mRuntimeError\u001b[0m                              Traceback (most recent call last)",
      "File \u001b[0;32m/usr/local/lib/python3.9/site-packages/tensorflow/python/training/py_checkpoint_reader.py:95\u001b[0m, in \u001b[0;36mNewCheckpointReader\u001b[0;34m(filepattern)\u001b[0m\n\u001b[1;32m     <a href='file:///usr/local/lib/python3.9/site-packages/tensorflow/python/training/py_checkpoint_reader.py?line=93'>94</a>\u001b[0m \u001b[39mtry\u001b[39;00m:\n\u001b[0;32m---> <a href='file:///usr/local/lib/python3.9/site-packages/tensorflow/python/training/py_checkpoint_reader.py?line=94'>95</a>\u001b[0m   \u001b[39mreturn\u001b[39;00m CheckpointReader(compat\u001b[39m.\u001b[39;49mas_bytes(filepattern))\n\u001b[1;32m     <a href='file:///usr/local/lib/python3.9/site-packages/tensorflow/python/training/py_checkpoint_reader.py?line=95'>96</a>\u001b[0m \u001b[39m# TODO(b/143319754): Remove the RuntimeError casting logic once we resolve the\u001b[39;00m\n\u001b[1;32m     <a href='file:///usr/local/lib/python3.9/site-packages/tensorflow/python/training/py_checkpoint_reader.py?line=96'>97</a>\u001b[0m \u001b[39m# issue with throwing python exceptions from C++.\u001b[39;00m\n",
      "\u001b[0;31mRuntimeError\u001b[0m: Unsuccessful TensorSliceReader constructor: Failed to find any matching files for /Users/gareth/dev/benchmark-urbanism/cityseer-api/demos/temp/weights/vae/seed_9/VAE_d6_b64_c8_s9_e25_b256_train/weights",
      "\nDuring handling of the above exception, another exception occurred:\n",
      "\u001b[0;31mNotFoundError\u001b[0m                             Traceback (most recent call last)",
      "\u001b[1;32m/Users/gareth/dev/benchmark-urbanism/cityseer-api/demos/vae/vae.ipynb Cell 7'\u001b[0m in \u001b[0;36m<cell line: 3>\u001b[0;34m()\u001b[0m\n\u001b[1;32m      <a href='vscode-notebook-cell:/Users/gareth/dev/benchmark-urbanism/cityseer-api/demos/vae/vae.ipynb#ch0000003?line=0'>1</a>\u001b[0m \u001b[39mfrom\u001b[39;00m \u001b[39mvae\u001b[39;00m\u001b[39m.\u001b[39;00m\u001b[39mvae_util\u001b[39;00m \u001b[39mimport\u001b[39;00m methods\n\u001b[0;32m----> <a href='vscode-notebook-cell:/Users/gareth/dev/benchmark-urbanism/cityseer-api/demos/vae/vae.ipynb#ch0000003?line=2'>3</a>\u001b[0m methods\u001b[39m.\u001b[39;49mprocess_latents_vae()\n",
      "File \u001b[0;32m~/dev/benchmark-urbanism/cityseer-api/demos/vae/vae_util/methods.py:52\u001b[0m, in \u001b[0;36mprocess_latents_vae\u001b[0;34m()\u001b[0m\n\u001b[1;32m     <a href='file:///Users/gareth/dev/benchmark-urbanism/cityseer-api/demos/vae/vae_util/methods.py?line=43'>44</a>\u001b[0m vae \u001b[39m=\u001b[39m vae_model\u001b[39m.\u001b[39mVAE(raw_dim\u001b[39m=\u001b[39mX_trans\u001b[39m.\u001b[39mshape[\u001b[39m1\u001b[39m],\n\u001b[1;32m     <a href='file:///Users/gareth/dev/benchmark-urbanism/cityseer-api/demos/vae/vae_util/methods.py?line=44'>45</a>\u001b[0m                     latent_dim\u001b[39m=\u001b[39mlatent_dim,\n\u001b[1;32m     <a href='file:///Users/gareth/dev/benchmark-urbanism/cityseer-api/demos/vae/vae_util/methods.py?line=45'>46</a>\u001b[0m                     beta\u001b[39m=\u001b[39mbeta,\n\u001b[0;32m   (...)\u001b[0m\n\u001b[1;32m     <a href='file:///Users/gareth/dev/benchmark-urbanism/cityseer-api/demos/vae/vae_util/methods.py?line=48'>49</a>\u001b[0m                     model_key\u001b[39m=\u001b[39mmodel_key,\n\u001b[1;32m     <a href='file:///Users/gareth/dev/benchmark-urbanism/cityseer-api/demos/vae/vae_util/methods.py?line=49'>50</a>\u001b[0m                     seed\u001b[39m=\u001b[39mseed)\n\u001b[1;32m     <a href='file:///Users/gareth/dev/benchmark-urbanism/cityseer-api/demos/vae/vae_util/methods.py?line=50'>51</a>\u001b[0m \u001b[39m# load weights\u001b[39;00m\n\u001b[0;32m---> <a href='file:///Users/gareth/dev/benchmark-urbanism/cityseer-api/demos/vae/vae_util/methods.py?line=51'>52</a>\u001b[0m vae\u001b[39m.\u001b[39;49mload_weights(\u001b[39mstr\u001b[39;49m(dir_path \u001b[39m/\u001b[39;49m \u001b[39m'\u001b[39;49m\u001b[39mweights\u001b[39;49m\u001b[39m'\u001b[39;49m))\u001b[39m.\u001b[39mexpect_partial()\n\u001b[1;32m     <a href='file:///Users/gareth/dev/benchmark-urbanism/cityseer-api/demos/vae/vae_util/methods.py?line=52'>53</a>\u001b[0m \u001b[39m# save the latents\u001b[39;00m\n\u001b[1;32m     <a href='file:///Users/gareth/dev/benchmark-urbanism/cityseer-api/demos/vae/vae_util/methods.py?line=53'>54</a>\u001b[0m Z_mu, Z_log_var, Z \u001b[39m=\u001b[39m vae\u001b[39m.\u001b[39mencode(X_trans, training\u001b[39m=\u001b[39m\u001b[39mFalse\u001b[39;00m)\n",
      "File \u001b[0;32m/usr/local/lib/python3.9/site-packages/tensorflow/python/keras/engine/training.py:2295\u001b[0m, in \u001b[0;36mModel.load_weights\u001b[0;34m(self, filepath, by_name, skip_mismatch, options)\u001b[0m\n\u001b[1;32m   <a href='file:///usr/local/lib/python3.9/site-packages/tensorflow/python/keras/engine/training.py?line=2289'>2290</a>\u001b[0m \u001b[39mif\u001b[39;00m skip_mismatch \u001b[39mand\u001b[39;00m \u001b[39mnot\u001b[39;00m by_name:\n\u001b[1;32m   <a href='file:///usr/local/lib/python3.9/site-packages/tensorflow/python/keras/engine/training.py?line=2290'>2291</a>\u001b[0m   \u001b[39mraise\u001b[39;00m \u001b[39mValueError\u001b[39;00m(\n\u001b[1;32m   <a href='file:///usr/local/lib/python3.9/site-packages/tensorflow/python/keras/engine/training.py?line=2291'>2292</a>\u001b[0m       \u001b[39m'\u001b[39m\u001b[39mWhen calling model.load_weights, skip_mismatch can only be set to \u001b[39m\u001b[39m'\u001b[39m\n\u001b[1;32m   <a href='file:///usr/local/lib/python3.9/site-packages/tensorflow/python/keras/engine/training.py?line=2292'>2293</a>\u001b[0m       \u001b[39m'\u001b[39m\u001b[39mTrue when by_name is True.\u001b[39m\u001b[39m'\u001b[39m)\n\u001b[0;32m-> <a href='file:///usr/local/lib/python3.9/site-packages/tensorflow/python/keras/engine/training.py?line=2294'>2295</a>\u001b[0m filepath, save_format \u001b[39m=\u001b[39m _detect_save_format(filepath)\n\u001b[1;32m   <a href='file:///usr/local/lib/python3.9/site-packages/tensorflow/python/keras/engine/training.py?line=2295'>2296</a>\u001b[0m \u001b[39mif\u001b[39;00m save_format \u001b[39m==\u001b[39m \u001b[39m'\u001b[39m\u001b[39mtf\u001b[39m\u001b[39m'\u001b[39m:\n\u001b[1;32m   <a href='file:///usr/local/lib/python3.9/site-packages/tensorflow/python/keras/engine/training.py?line=2296'>2297</a>\u001b[0m   status \u001b[39m=\u001b[39m \u001b[39mself\u001b[39m\u001b[39m.\u001b[39m_trackable_saver\u001b[39m.\u001b[39mrestore(filepath, options)\n",
      "File \u001b[0;32m/usr/local/lib/python3.9/site-packages/tensorflow/python/keras/engine/training.py:2918\u001b[0m, in \u001b[0;36m_detect_save_format\u001b[0;34m(filepath)\u001b[0m\n\u001b[1;32m   <a href='file:///usr/local/lib/python3.9/site-packages/tensorflow/python/keras/engine/training.py?line=2912'>2913</a>\u001b[0m   \u001b[39mreturn\u001b[39;00m filepath, \u001b[39m'\u001b[39m\u001b[39mh5\u001b[39m\u001b[39m'\u001b[39m\n\u001b[1;32m   <a href='file:///usr/local/lib/python3.9/site-packages/tensorflow/python/keras/engine/training.py?line=2914'>2915</a>\u001b[0m \u001b[39m# Filepath could be a TensorFlow checkpoint file prefix or SavedModel\u001b[39;00m\n\u001b[1;32m   <a href='file:///usr/local/lib/python3.9/site-packages/tensorflow/python/keras/engine/training.py?line=2915'>2916</a>\u001b[0m \u001b[39m# directory. It's possible for filepath to be both a prefix and directory.\u001b[39;00m\n\u001b[1;32m   <a href='file:///usr/local/lib/python3.9/site-packages/tensorflow/python/keras/engine/training.py?line=2916'>2917</a>\u001b[0m \u001b[39m# Prioritize checkpoint over SavedModel.\u001b[39;00m\n\u001b[0;32m-> <a href='file:///usr/local/lib/python3.9/site-packages/tensorflow/python/keras/engine/training.py?line=2917'>2918</a>\u001b[0m \u001b[39mif\u001b[39;00m _is_readable_tf_checkpoint(filepath):\n\u001b[1;32m   <a href='file:///usr/local/lib/python3.9/site-packages/tensorflow/python/keras/engine/training.py?line=2918'>2919</a>\u001b[0m   save_format \u001b[39m=\u001b[39m \u001b[39m'\u001b[39m\u001b[39mtf\u001b[39m\u001b[39m'\u001b[39m\n\u001b[1;32m   <a href='file:///usr/local/lib/python3.9/site-packages/tensorflow/python/keras/engine/training.py?line=2919'>2920</a>\u001b[0m \u001b[39melif\u001b[39;00m sm_loader\u001b[39m.\u001b[39mcontains_saved_model(filepath):\n",
      "File \u001b[0;32m/usr/local/lib/python3.9/site-packages/tensorflow/python/keras/engine/training.py:2939\u001b[0m, in \u001b[0;36m_is_readable_tf_checkpoint\u001b[0;34m(filepath)\u001b[0m\n\u001b[1;32m   <a href='file:///usr/local/lib/python3.9/site-packages/tensorflow/python/keras/engine/training.py?line=2936'>2937</a>\u001b[0m \u001b[39mdef\u001b[39;00m \u001b[39m_is_readable_tf_checkpoint\u001b[39m(filepath):\n\u001b[1;32m   <a href='file:///usr/local/lib/python3.9/site-packages/tensorflow/python/keras/engine/training.py?line=2937'>2938</a>\u001b[0m   \u001b[39mtry\u001b[39;00m:\n\u001b[0;32m-> <a href='file:///usr/local/lib/python3.9/site-packages/tensorflow/python/keras/engine/training.py?line=2938'>2939</a>\u001b[0m     py_checkpoint_reader\u001b[39m.\u001b[39;49mNewCheckpointReader(filepath)\n\u001b[1;32m   <a href='file:///usr/local/lib/python3.9/site-packages/tensorflow/python/keras/engine/training.py?line=2939'>2940</a>\u001b[0m     \u001b[39mreturn\u001b[39;00m \u001b[39mTrue\u001b[39;00m\n\u001b[1;32m   <a href='file:///usr/local/lib/python3.9/site-packages/tensorflow/python/keras/engine/training.py?line=2940'>2941</a>\u001b[0m   \u001b[39mexcept\u001b[39;00m errors_impl\u001b[39m.\u001b[39mDataLossError:\n\u001b[1;32m   <a href='file:///usr/local/lib/python3.9/site-packages/tensorflow/python/keras/engine/training.py?line=2941'>2942</a>\u001b[0m     \u001b[39m# The checkpoint is not readable in TensorFlow format.\u001b[39;00m\n",
      "File \u001b[0;32m/usr/local/lib/python3.9/site-packages/tensorflow/python/training/py_checkpoint_reader.py:99\u001b[0m, in \u001b[0;36mNewCheckpointReader\u001b[0;34m(filepattern)\u001b[0m\n\u001b[1;32m     <a href='file:///usr/local/lib/python3.9/site-packages/tensorflow/python/training/py_checkpoint_reader.py?line=95'>96</a>\u001b[0m \u001b[39m# TODO(b/143319754): Remove the RuntimeError casting logic once we resolve the\u001b[39;00m\n\u001b[1;32m     <a href='file:///usr/local/lib/python3.9/site-packages/tensorflow/python/training/py_checkpoint_reader.py?line=96'>97</a>\u001b[0m \u001b[39m# issue with throwing python exceptions from C++.\u001b[39;00m\n\u001b[1;32m     <a href='file:///usr/local/lib/python3.9/site-packages/tensorflow/python/training/py_checkpoint_reader.py?line=97'>98</a>\u001b[0m \u001b[39mexcept\u001b[39;00m \u001b[39mRuntimeError\u001b[39;00m \u001b[39mas\u001b[39;00m e:\n\u001b[0;32m---> <a href='file:///usr/local/lib/python3.9/site-packages/tensorflow/python/training/py_checkpoint_reader.py?line=98'>99</a>\u001b[0m   error_translator(e)\n",
      "File \u001b[0;32m/usr/local/lib/python3.9/site-packages/tensorflow/python/training/py_checkpoint_reader.py:35\u001b[0m, in \u001b[0;36merror_translator\u001b[0;34m(e)\u001b[0m\n\u001b[1;32m     <a href='file:///usr/local/lib/python3.9/site-packages/tensorflow/python/training/py_checkpoint_reader.py?line=30'>31</a>\u001b[0m error_message \u001b[39m=\u001b[39m \u001b[39mstr\u001b[39m(e)\n\u001b[1;32m     <a href='file:///usr/local/lib/python3.9/site-packages/tensorflow/python/training/py_checkpoint_reader.py?line=31'>32</a>\u001b[0m \u001b[39mif\u001b[39;00m \u001b[39m'\u001b[39m\u001b[39mnot found in checkpoint\u001b[39m\u001b[39m'\u001b[39m \u001b[39min\u001b[39;00m error_message \u001b[39mor\u001b[39;00m (\n\u001b[1;32m     <a href='file:///usr/local/lib/python3.9/site-packages/tensorflow/python/training/py_checkpoint_reader.py?line=32'>33</a>\u001b[0m     \u001b[39m'\u001b[39m\u001b[39mFailed to find any \u001b[39m\u001b[39m'\u001b[39m\n\u001b[1;32m     <a href='file:///usr/local/lib/python3.9/site-packages/tensorflow/python/training/py_checkpoint_reader.py?line=33'>34</a>\u001b[0m     \u001b[39m'\u001b[39m\u001b[39mmatching files for\u001b[39m\u001b[39m'\u001b[39m) \u001b[39min\u001b[39;00m error_message:\n\u001b[0;32m---> <a href='file:///usr/local/lib/python3.9/site-packages/tensorflow/python/training/py_checkpoint_reader.py?line=34'>35</a>\u001b[0m   \u001b[39mraise\u001b[39;00m errors_impl\u001b[39m.\u001b[39mNotFoundError(\u001b[39mNone\u001b[39;00m, \u001b[39mNone\u001b[39;00m, error_message)\n\u001b[1;32m     <a href='file:///usr/local/lib/python3.9/site-packages/tensorflow/python/training/py_checkpoint_reader.py?line=35'>36</a>\u001b[0m \u001b[39melif\u001b[39;00m \u001b[39m'\u001b[39m\u001b[39mSliced checkpoints are not supported\u001b[39m\u001b[39m'\u001b[39m \u001b[39min\u001b[39;00m error_message \u001b[39mor\u001b[39;00m (\n\u001b[1;32m     <a href='file:///usr/local/lib/python3.9/site-packages/tensorflow/python/training/py_checkpoint_reader.py?line=36'>37</a>\u001b[0m     \u001b[39m'\u001b[39m\u001b[39mData type \u001b[39m\u001b[39m'\u001b[39m\n\u001b[1;32m     <a href='file:///usr/local/lib/python3.9/site-packages/tensorflow/python/training/py_checkpoint_reader.py?line=37'>38</a>\u001b[0m     \u001b[39m'\u001b[39m\u001b[39mnot \u001b[39m\u001b[39m'\u001b[39m\n\u001b[1;32m     <a href='file:///usr/local/lib/python3.9/site-packages/tensorflow/python/training/py_checkpoint_reader.py?line=38'>39</a>\u001b[0m     \u001b[39m'\u001b[39m\u001b[39msupported\u001b[39m\u001b[39m'\u001b[39m) \u001b[39min\u001b[39;00m error_message:\n\u001b[1;32m     <a href='file:///usr/local/lib/python3.9/site-packages/tensorflow/python/training/py_checkpoint_reader.py?line=39'>40</a>\u001b[0m   \u001b[39mraise\u001b[39;00m errors_impl\u001b[39m.\u001b[39mUnimplementedError(\u001b[39mNone\u001b[39;00m, \u001b[39mNone\u001b[39;00m, error_message)\n",
      "\u001b[0;31mNotFoundError\u001b[0m: Unsuccessful TensorSliceReader constructor: Failed to find any matching files for /Users/gareth/dev/benchmark-urbanism/cityseer-api/demos/temp/weights/vae/seed_9/VAE_d6_b64_c8_s9_e25_b256_train/weights"
     ]
    }
   ],
   "source": [
    "from vae.vae_util import methods\n",
    "\n",
    "methods.process_latents_vae()"
   ]
  },
  {
   "cell_type": "markdown",
   "metadata": {},
   "source": []
  },
  {
   "cell_type": "code",
   "execution_count": null,
   "metadata": {},
   "outputs": [],
   "source": [
    "import matplotlib.pyplot as plt\n",
    "import numpy as np\n",
    "import pandas as pd\n",
    "\n",
    "\n",
    "\"\"\"\n",
    "Fine grid plots:\n",
    "Each block is beta x capacity\n",
    "\"\"\"\n",
    "epochs = 25\n",
    "seeds = list(range(10))\n",
    "latent_dims = [6]\n",
    "history_data = methods.gather_loss(seeds, epochs, latent_dims)\n",
    "# returns 3d array - beta x caps x seeds\n",
    "# load files if already calculated, otherwise compute, then save\n",
    "udr_path = Path(theme_setup.weights_path / f\"vae/data/udr_scores.npy\")\n",
    "udr_mask_path = Path(theme_setup.weights_path / f\"vae/data/udr_mask_counts.npy\")\n",
    "if not udr_path.exists():\n",
    "    print(\"UDR data does not exist, creating:\")\n",
    "    udr_arr, udr_mask_count_arr = methods.generate_udr_grid(latent_dims[0], epochs, seeds, kl_threshold=0.01)\n",
    "    np.save(str(udr_path), udr_arr)\n",
    "    np.save(str(udr_mask_path), udr_mask_count_arr)\n",
    "else:\n",
    "    print(\"Loading precomputed UDR data:\")\n",
    "    udr_arr = np.load(str(udr_path))\n",
    "    udr_mask_count_arr = np.load(str(udr_mask_path))"
   ]
  },
  {
   "cell_type": "code",
   "execution_count": null,
   "metadata": {},
   "outputs": [],
   "source": [
    "\"\"\"\n",
    "VAE losses\n",
    "\"\"\"\n",
    "util_funcs.plt_setup()\n",
    "fig, axes = plt.subplots(2, 4, figsize=(7, 5.5))\n",
    "theme_sets = [\n",
    "    [\"val_loss\", \"val_rec_loss\", \"udr\", \"mask\"],\n",
    "    [\"val_capacity_term\", \"val_kl\", \"val_kl_beta\", \"val_kl_beta_cap\"],\n",
    "]\n",
    "for ax_row_n, (ax_row, theme_row) in enumerate(zip(axes, theme_sets)):\n",
    "    for ax_col_n, (ax, theme) in enumerate(zip(ax_row, theme_row)):\n",
    "        if theme == \"udr\":\n",
    "            green_cmap = plt.get_cmap(\"Greens\")\n",
    "            # take mean across seeds on dimension 2\n",
    "            udr_arr_mu = np.nanmean(udr_arr, axis=2)\n",
    "            generate_arr_heatmap(ax, udr_arr_mu, cmap=green_cmap, constrain=(0, 1))\n",
    "            ax.set_xlabel(\"UDR score\")\n",
    "        elif theme == \"mask\":\n",
    "            green_cmap = plt.get_cmap(\"Greens\")\n",
    "            # take mean across seeds on dimension 2\n",
    "            udr_mask_count_arr_mu = np.nanmean(udr_mask_count_arr, axis=2)\n",
    "            generate_arr_heatmap(ax, udr_mask_count_arr_mu, cmap=green_cmap, constrain=(0, 1))\n",
    "            ax.set_xlabel(\"Active axes\")\n",
    "        else:\n",
    "            generate_heatmap(\n",
    "                ax,\n",
    "                theme,\n",
    "                epochs,\n",
    "                latent_dims[0],\n",
    "                history_data,\n",
    "                set_row_labels=ax_col_n == 0,\n",
    "                set_col_labels=ax_row_n == 0,\n",
    "            )\n",
    "plt.suptitle(r\"10 seed avg. losses for $\\beta$ and $C$ hyperparameters (\" + f\"{epochs} epochs)\")\n",
    "path = f\"model_scores_fine.pdf\"\n",
    "plt.savefig(plot_path / path, dpi=300)"
   ]
  }
 ],
 "metadata": {
  "interpreter": {
   "hash": "aee8b7b246df8f9039afb4144a1f6fd8d2ca17a180786b69acc140d282b71a49"
  },
  "kernelspec": {
   "display_name": "Python 3 (ipykernel)",
   "language": "python",
   "name": "python3"
  },
  "language_info": {
   "codemirror_mode": {
    "name": "ipython",
    "version": 3
   },
   "file_extension": ".py",
   "mimetype": "text/x-python",
   "name": "python",
   "nbconvert_exporter": "python",
   "pygments_lexer": "ipython3",
   "version": "3.9.12"
  }
 },
 "nbformat": 4,
 "nbformat_minor": 2
}
