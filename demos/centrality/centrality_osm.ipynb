{
  "cells": [
    {
      "cell_type": "markdown",
      "metadata": {
        "collapsed": false,
        "pycharm": {
          "name": "#%% md\n"
        }
      },
      "source": [
        "# Computing centralities from OSM data\n"
      ]
    },
    {
      "cell_type": "markdown",
      "metadata": {},
      "source": [
        "Install and update `cityseer` if necessary.\n"
      ]
    },
    {
      "cell_type": "code",
      "execution_count": 1,
      "metadata": {},
      "outputs": [],
      "source": [
        "# !pip install --upgrade cityseer"
      ]
    },
    {
      "cell_type": "markdown",
      "metadata": {
        "jupyter": {
          "outputs_hidden": true
        }
      },
      "source": [
        "## Data and Extents\n",
        "\n",
        "This example will make use of OSM data downloaded from the [OSM API](https://wiki.openstreetmap.org/wiki/API) for a 5000m radius around London Soho.\n",
        "\n",
        "For additional information on network preparation, see the corresponding discussion on [graph cleaning](https://cityseer.benchmarkurbanism.com/guide#graph-cleaning).\n"
      ]
    },
    {
      "cell_type": "code",
      "execution_count": 2,
      "metadata": {
        "pycharm": {
          "name": "#%%\n"
        }
      },
      "outputs": [
        {
          "name": "stderr",
          "output_type": "stream",
          "text": [
            "INFO:cityseer.tools.io:UTM conversion info: UTM zone number: 30, UTM zone letter: U\n"
          ]
        }
      ],
      "source": [
        "from shapely import geometry\n",
        "\n",
        "from cityseer.tools import graphs, io\n",
        "\n",
        "# download from OSM\n",
        "lng, lat = -0.13396079424572427, 51.51371088849723\n",
        "buffer = 5000\n",
        "plot_buffer = 3500\n",
        "# creates a WGS shapely polygon\n",
        "poly_wgs, poly_utm, _utm_zone_number, _utm_zone_letter = io.buffered_point_poly(lng, lat, buffer)\n",
        "plot_bbox = poly_utm.centroid.buffer(plot_buffer).bounds"
      ]
    },
    {
      "cell_type": "markdown",
      "metadata": {},
      "source": [
        "## Load\n",
        "\n",
        "We can now load the OSM dataset and convert it to a format that can be used by cityseer for downstream calculations.\n"
      ]
    },
    {
      "cell_type": "code",
      "execution_count": 3,
      "metadata": {},
      "outputs": [
        {
          "name": "stderr",
          "output_type": "stream",
          "text": [
            "WARNING:cityseer.tools.io:Merging node 7523542916 into 7523542915 due to identical x, y coords.\n",
            "WARNING:cityseer.tools.io:Merging node 9782307442 into 5380348617 due to identical x, y coords.\n",
            "INFO:cityseer.tools.io:Converting networkX graph from EPSG code 4326 to EPSG code 32630.\n",
            "INFO:cityseer.tools.io:Processing node x, y coordinates.\n",
            "100%|██████████| 152862/152862 [00:00<00:00, 384486.73it/s]\n",
            "INFO:cityseer.tools.io:Processing edge geom coordinates, if present.\n",
            "100%|██████████| 166303/166303 [00:00<00:00, 1003627.80it/s]\n",
            "INFO:cityseer.tools.graphs:Generating interpolated edge geometries.\n",
            "100%|██████████| 166303/166303 [00:04<00:00, 34650.65it/s]\n",
            "INFO:cityseer.tools.graphs:Removing filler nodes.\n",
            "100%|██████████| 152862/152862 [00:19<00:00, 7864.75it/s]\n",
            "INFO:cityseer.tools.graphs:Removing dangling nodes.\n",
            "100%|██████████| 43118/43118 [00:00<00:00, 302099.41it/s]\n",
            "INFO:cityseer.tools.graphs:Removing filler nodes.\n",
            "100%|██████████| 40276/40276 [00:00<00:00, 63502.28it/s]\n",
            "INFO:cityseer.tools.util:Creating nodes STR tree\n",
            "100%|██████████| 38252/38252 [00:00<00:00, 114750.28it/s]\n",
            "INFO:cityseer.tools.graphs:Consolidating nodes.\n",
            "100%|██████████| 38252/38252 [00:16<00:00, 2298.59it/s]\n",
            "INFO:cityseer.tools.graphs:Removing filler nodes.\n",
            "100%|██████████| 25849/25849 [00:00<00:00, 110992.82it/s]\n",
            "INFO:cityseer.tools.graphs:Ironing edges.\n",
            "100%|██████████| 40054/40054 [00:02<00:00, 15978.74it/s]\n",
            "INFO:cityseer.tools.graphs:Merging parallel edges within buffer of 1.\n",
            "100%|██████████| 40054/40054 [00:00<00:00, 79957.51it/s] \n",
            "INFO:cityseer.tools.graphs:Merging parallel edges within buffer of 20.\n",
            "100%|██████████| 39885/39885 [00:02<00:00, 16124.82it/s]\n",
            "INFO:cityseer.tools.util:Creating edges STR tree.\n",
            "100%|██████████| 37299/37299 [00:00<00:00, 638210.83it/s]\n",
            "INFO:cityseer.tools.graphs:Splitting opposing edges.\n",
            "100%|██████████| 25339/25339 [00:04<00:00, 6260.36it/s]\n",
            "INFO:cityseer.tools.graphs:Merging parallel edges within buffer of 20.\n",
            "100%|██████████| 39007/39007 [00:00<00:00, 179971.68it/s]\n",
            "INFO:cityseer.tools.util:Creating nodes STR tree\n",
            "100%|██████████| 27047/27047 [00:00<00:00, 113153.22it/s]\n",
            "INFO:cityseer.tools.graphs:Consolidating nodes.\n",
            "100%|██████████| 27047/27047 [00:11<00:00, 2287.30it/s]\n",
            "INFO:cityseer.tools.graphs:Removing filler nodes.\n",
            "100%|██████████| 25316/25316 [00:00<00:00, 96611.51it/s]\n",
            "INFO:cityseer.tools.graphs:Ironing edges.\n",
            "100%|██████████| 37262/37262 [00:01<00:00, 26646.30it/s]\n",
            "INFO:cityseer.tools.graphs:Merging parallel edges within buffer of 1.\n",
            "100%|██████████| 37262/37262 [00:00<00:00, 107758.70it/s]\n",
            "INFO:cityseer.tools.graphs:Merging parallel edges within buffer of 20.\n",
            "100%|██████████| 37106/37106 [00:01<00:00, 27046.00it/s] \n",
            "INFO:cityseer.tools.graphs:Decomposing graph to maximum edge lengths of 25.\n",
            "100%|██████████| 36019/36019 [00:16<00:00, 2129.62it/s]\n",
            "INFO:cityseer.tools.io:Preparing node and edge arrays from networkX graph.\n",
            "100%|██████████| 94508/94508 [00:00<00:00, 122357.52it/s]\n",
            "100%|██████████| 94508/94508 [00:13<00:00, 7091.91it/s]\n"
          ]
        }
      ],
      "source": [
        "# generate OSM graph from polygon\n",
        "G_utm = io.osm_graph_from_poly(poly_wgs, simplify=True, remove_parallel=True, iron_edges=False)\n",
        "# decompose for higher resolution analysis\n",
        "G_decomp = graphs.nx_decompose(G_utm, 25)\n",
        "# prepare the data structures\n",
        "nodes_gdf, _edges_gdf, network_structure = io.network_structure_from_nx(G_decomp, crs=32629)"
      ]
    },
    {
      "cell_type": "code",
      "execution_count": 4,
      "metadata": {},
      "outputs": [
        {
          "name": "stderr",
          "output_type": "stream",
          "text": [
            "WARNING:cityseer.tools.io:Merging node 7523542916 into 7523542915 due to identical x, y coords.\n",
            "WARNING:cityseer.tools.io:Merging node 9782307442 into 5380348617 due to identical x, y coords.\n",
            "INFO:cityseer.tools.io:Converting networkX graph from EPSG code 4326 to EPSG code 32630.\n",
            "INFO:cityseer.tools.io:Processing node x, y coordinates.\n",
            "100%|██████████| 152862/152862 [00:00<00:00, 431499.29it/s]\n",
            "INFO:cityseer.tools.io:Processing edge geom coordinates, if present.\n",
            "100%|██████████| 166303/166303 [00:00<00:00, 965670.90it/s]\n",
            "INFO:cityseer.tools.graphs:Generating interpolated edge geometries.\n",
            "100%|██████████| 166303/166303 [00:05<00:00, 29905.84it/s]\n",
            "INFO:cityseer.tools.graphs:Removing filler nodes.\n",
            "100%|██████████| 152862/152862 [00:21<00:00, 6967.67it/s]\n",
            "INFO:cityseer.tools.graphs:Removing dangling nodes.\n",
            "100%|██████████| 43118/43118 [00:00<00:00, 274132.28it/s]\n",
            "INFO:cityseer.tools.graphs:Removing filler nodes.\n",
            "100%|██████████| 40276/40276 [00:00<00:00, 64221.50it/s]\n",
            "INFO:cityseer.tools.graphs:Decomposing graph to maximum edge lengths of 25.\n",
            "100%|██████████| 53462/53462 [00:25<00:00, 2107.47it/s]\n",
            "INFO:cityseer.tools.graphs:Generating node weights based on locally dissolved edges using a buffer of 20m.\n",
            "INFO:cityseer.tools.util:Creating edges STR tree.\n",
            "100%|██████████| 125308/125308 [00:00<00:00, 458459.54it/s]\n",
            "100%|██████████| 125308/125308 [01:17<00:00, 1611.03it/s]\n",
            "100%|██████████| 110098/110098 [00:04<00:00, 25340.77it/s]\n",
            "INFO:cityseer.tools.io:Preparing node and edge arrays from networkX graph.\n",
            "100%|██████████| 110098/110098 [00:01<00:00, 108043.04it/s]\n",
            "100%|██████████| 110098/110098 [00:26<00:00, 4169.73it/s]\n"
          ]
        }
      ],
      "source": [
        "# generate OSM graph from polygon\n",
        "G_utm_messy = io.osm_graph_from_poly(poly_wgs, simplify=False)\n",
        "G_utm_messy = graphs.nx_simple_geoms(G_utm_messy)\n",
        "G_utm_messy = graphs.nx_remove_filler_nodes(G_utm_messy)\n",
        "G_utm_messy = graphs.nx_remove_dangling_nodes(G_utm_messy, despine=15)\n",
        "# decompose for higher resolution analysis\n",
        "G_decomp_messy = graphs.nx_decompose(G_utm_messy, 25)\n",
        "# generate dissolved weights\n",
        "G_dissolved_wts = graphs.nx_locally_dissolve_edges(G_decomp_messy, 20)\n",
        "# prepare the data structures\n",
        "nodes_gdf_messy, _edges_gdf_messy, network_structure_messy = io.network_structure_from_nx(G_dissolved_wts, crs=32629)"
      ]
    },
    {
      "cell_type": "markdown",
      "metadata": {},
      "source": [
        "## Calculate centralities\n",
        "\n",
        "The centrality methods can now be computed.\n"
      ]
    },
    {
      "cell_type": "code",
      "execution_count": 5,
      "metadata": {},
      "outputs": [
        {
          "name": "stderr",
          "output_type": "stream",
          "text": [
            "  2%|▏         | 1555/94508 [00:12<12:52, 120.30it/s]"
          ]
        }
      ],
      "source": [
        "from cityseer.metrics import networks\n",
        "\n",
        "distances = [250, 500, 2000]\n",
        "# each of the below invocations will take around 5-6 minutes each depending on the available resources\n",
        "# if computing wider area centralities, e.g. 20km, then use less decomposition to speed up the computation\n",
        "nodes_gdf = networks.node_centrality_shortest(\n",
        "    network_structure=network_structure,\n",
        "    nodes_gdf=nodes_gdf,\n",
        "    distances=distances,\n",
        ")\n",
        "# messy version with jitter and dissolved weights\n",
        "nodes_gdf_messy = networks.node_centrality_shortest(\n",
        "    network_structure=network_structure_messy,\n",
        "    nodes_gdf=nodes_gdf_messy,\n",
        "    distances=distances,\n",
        "    jitter_scale=20,\n",
        ")"
      ]
    },
    {
      "cell_type": "markdown",
      "metadata": {},
      "source": [
        "## Plots\n",
        "\n",
        "Let's plot a selection of distance thresholds for each of the computed measures.\n"
      ]
    },
    {
      "cell_type": "code",
      "execution_count": null,
      "metadata": {
        "collapsed": false,
        "pycharm": {
          "name": "#%%\n"
        }
      },
      "outputs": [],
      "source": [
        "import matplotlib.pyplot as plt\n",
        "from cityseer import rustalgos\n",
        "from cityseer.tools import plot\n",
        "\n",
        "bg_colour = \"#111\"\n",
        "distances = [250, 500, 2000]\n",
        "betas = rustalgos.betas_from_distances(distances)\n",
        "avg_dists = rustalgos.avg_distances_for_betas(betas)\n",
        "for d, b, avg_d in zip(distances, betas, avg_dists):\n",
        "    print(\n",
        "        f\"\"\"\n",
        "    \"Gravity\" index / spatial impedance weighted (closeness-like) centrality:\n",
        "    Avg walking tolerance: {avg_d:.2f}m\n",
        "    Beta: {b:.3f} (spatial impedance factor)\n",
        "    Max walking tolerance: {d:.1f}m\n",
        "    \"\"\"\n",
        "    )\n",
        "    fig, axes = plt.subplots(1, 2, figsize=(10, 5), dpi=200, facecolor=bg_colour)\n",
        "    plot.plot_scatter(\n",
        "        axes[0],\n",
        "        network_structure.node_xs,\n",
        "        network_structure.node_ys,\n",
        "        nodes_gdf[f\"cc_metric_node_beta_{d}\"],\n",
        "        bbox_extents=plot_bbox,\n",
        "        cmap_key=\"magma\",\n",
        "        face_colour=bg_colour,\n",
        "    )\n",
        "    plot.plot_scatter(\n",
        "        axes[1],\n",
        "        network_structure_messy.node_xs,\n",
        "        network_structure_messy.node_ys,\n",
        "        nodes_gdf_messy[f\"cc_metric_node_beta_{d}\"],\n",
        "        bbox_extents=plot_bbox,\n",
        "        cmap_key=\"magma\",\n",
        "        face_colour=bg_colour,\n",
        "    )\n",
        "    plt.show()\n",
        "\n",
        "for d, b, avg_d in zip(distances, betas, avg_dists):\n",
        "    print(\n",
        "        f\"\"\"\n",
        "    Spatial impedance weighted betweenness centrality:\n",
        "    Avg walking tolerance: {avg_d:.2f}m\n",
        "    Beta: {b:.3f} (spatial impedance factor)\n",
        "    Max walking tolerance: {d:.1f}m\n",
        "    \"\"\"\n",
        "    )\n",
        "    fig, axes = plt.subplots(1, 2, figsize=(10, 5), dpi=200, facecolor=bg_colour)\n",
        "    plot.plot_scatter(\n",
        "        axes[0],\n",
        "        network_structure.node_xs,\n",
        "        network_structure.node_ys,\n",
        "        nodes_gdf[f\"cc_metric_node_betweenness_{d}\"],\n",
        "        bbox_extents=plot_bbox,\n",
        "        cmap_key=\"magma\",\n",
        "        s_max=2,\n",
        "        face_colour=bg_colour,\n",
        "    )\n",
        "    plot.plot_scatter(\n",
        "        axes[1],\n",
        "        network_structure_messy.node_xs,\n",
        "        network_structure_messy.node_ys,\n",
        "        nodes_gdf_messy[f\"cc_metric_node_betweenness_{d}\"],\n",
        "        bbox_extents=plot_bbox,\n",
        "        cmap_key=\"magma\",\n",
        "        s_max=2,\n",
        "        face_colour=bg_colour,\n",
        "    )\n",
        "    plt.show()"
      ]
    }
  ],
  "metadata": {
    "kernelspec": {
      "display_name": "Python 3.9.13 ('.venv': venv)",
      "language": "python",
      "name": "python3"
    },
    "language_info": {
      "codemirror_mode": {
        "name": "ipython",
        "version": 3
      },
      "file_extension": ".py",
      "mimetype": "text/x-python",
      "name": "python",
      "nbconvert_exporter": "python",
      "pygments_lexer": "ipython3",
      "version": "3.11.6"
    },
    "vscode": {
      "interpreter": {
        "hash": "4f98144d13f37af76b105dd8b0b0bc479decc1b19acf8c8b674f5710223be2e7"
      }
    }
  },
  "nbformat": 4,
  "nbformat_minor": 4
}
