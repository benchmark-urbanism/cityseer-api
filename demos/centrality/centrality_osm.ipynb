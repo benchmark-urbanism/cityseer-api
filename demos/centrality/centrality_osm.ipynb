{
  "cells": [
    {
      "cell_type": "markdown",
      "metadata": {
        "collapsed": false,
        "pycharm": {
          "name": "#%% md\n"
        }
      },
      "source": [
        "# Computing centralities from OSM data\n"
      ]
    },
    {
      "cell_type": "markdown",
      "metadata": {},
      "source": [
        "Install and update `cityseer` if necessary.\n"
      ]
    },
    {
      "cell_type": "code",
      "execution_count": null,
      "metadata": {},
      "outputs": [],
      "source": [
        "# !pip install --upgrade cityseer"
      ]
    },
    {
      "cell_type": "markdown",
      "metadata": {
        "jupyter": {
          "outputs_hidden": true
        }
      },
      "source": [
        "## Data and Extents\n",
        "\n",
        "This example will make use of OSM data downloaded from the [OSM API](https://wiki.openstreetmap.org/wiki/API) for a 5000m radius around London Soho.\n",
        "\n",
        "For additional information on network preparation, see the corresponding discussion on [graph cleaning](https://cityseer.benchmarkurbanism.com/guide#graph-cleaning).\n"
      ]
    },
    {
      "cell_type": "code",
      "execution_count": null,
      "metadata": {
        "pycharm": {
          "name": "#%%\n"
        }
      },
      "outputs": [],
      "source": [
        "from shapely import geometry\n",
        "\n",
        "from cityseer.tools import graphs, io\n",
        "\n",
        "# download from OSM\n",
        "lng, lat = -0.13396079424572427, 51.51371088849723\n",
        "buffer = 5000\n",
        "# creates a WGS shapely polygon\n",
        "poly_wgs, poly_utm, _utm_zone_number, _utm_zone_letter = io.buffered_point_poly(lng, lat, buffer)"
      ]
    },
    {
      "cell_type": "markdown",
      "metadata": {},
      "source": [
        "## Load\n",
        "\n",
        "We can now load the OSM dataset and compare three strategies:\n",
        "\n",
        "1. Algorithmically cleaning the network\n",
        "2. Using a messy uncleaned network\n",
        "3. Using a messy network but with corrections through edge \"dissolving\" and \"jitter\".\n"
      ]
    },
    {
      "cell_type": "code",
      "execution_count": null,
      "metadata": {},
      "outputs": [],
      "source": [
        "# generate OSM graph from polygon\n",
        "G_utm = io.osm_graph_from_poly(poly_wgs, simplify=True, remove_parallel=True, iron_edges=False)\n",
        "# decompose for higher resolution analysis\n",
        "G_decomp = graphs.nx_decompose(G_utm, 25)\n",
        "# prepare the data structures\n",
        "nodes_gdf, _edges_gdf, network_structure = io.network_structure_from_nx(G_decomp, crs=32629)\n",
        "# generate OSM graph from polygon\n",
        "G_utm_messy = io.osm_graph_from_poly(poly_wgs, simplify=False)\n",
        "G_utm_messy = graphs.nx_simple_geoms(G_utm_messy)\n",
        "G_utm_messy = graphs.nx_remove_filler_nodes(G_utm_messy)\n",
        "G_utm_messy = graphs.nx_remove_dangling_nodes(G_utm_messy, despine=15)\n",
        "# decompose for higher resolution analysis\n",
        "G_decomp_messy = graphs.nx_decompose(G_utm_messy, 25)\n",
        "nodes_gdf_messy, _edges_gdf_messy, network_structure_messy = io.network_structure_from_nx(G_decomp_messy, crs=32629)\n",
        "# generate dissolved weights\n",
        "G_dissolved_wts = graphs.nx_weight_by_dissolved_edges(G_decomp_messy, 20)\n",
        "nodes_gdf_dissolved, _edges_gdf_dissolved, network_structure_dissolved = io.network_structure_from_nx(\n",
        "    G_dissolved_wts, crs=32629\n",
        ")"
      ]
    },
    {
      "cell_type": "markdown",
      "metadata": {},
      "source": [
        "## Calculate centralities\n",
        "\n",
        "The centrality methods can now be computed.\n"
      ]
    },
    {
      "cell_type": "code",
      "execution_count": null,
      "metadata": {},
      "outputs": [],
      "source": [
        "from cityseer.metrics import networks\n",
        "\n",
        "distances = [250, 500, 2000]\n",
        "# each of the below invocations will take around 5-6 minutes each depending on the available resources\n",
        "# if computing wider area centralities, e.g. 20km, then use less decomposition to speed up the computation\n",
        "nodes_gdf = networks.node_centrality_shortest(\n",
        "    network_structure=network_structure,\n",
        "    nodes_gdf=nodes_gdf,\n",
        "    distances=distances,\n",
        ")\n",
        "# messy version\n",
        "nodes_gdf_messy = networks.node_centrality_shortest(\n",
        "    network_structure=network_structure_messy,\n",
        "    nodes_gdf=nodes_gdf_messy,\n",
        "    distances=distances,\n",
        ")\n",
        "# messy version with dissolved edge weights and shortest path jitter\n",
        "nodes_gdf_dissolved = networks.node_centrality_shortest(\n",
        "    network_structure=network_structure_dissolved,\n",
        "    nodes_gdf=nodes_gdf_dissolved,\n",
        "    distances=distances,\n",
        "    jitter_scale=20,\n",
        ")"
      ]
    },
    {
      "cell_type": "markdown",
      "metadata": {},
      "source": [
        "## Plots\n",
        "\n",
        "Let's plot a selection of distance thresholds for each of the computed measures to compare the different approaches.\n"
      ]
    },
    {
      "cell_type": "code",
      "execution_count": null,
      "metadata": {
        "collapsed": false,
        "pycharm": {
          "name": "#%%\n"
        }
      },
      "outputs": [],
      "source": [
        "import matplotlib.pyplot as plt\n",
        "from cityseer import rustalgos\n",
        "from cityseer.tools import plot\n",
        "\n",
        "bg_colour = \"#111\"\n",
        "distances = [250, 500, 2000]\n",
        "betas = rustalgos.betas_from_distances(distances)\n",
        "avg_dists = rustalgos.avg_distances_for_betas(betas)\n",
        "plot_bbox = poly_utm.centroid.buffer(1500).bounds\n",
        "font_size = 7\n",
        "for d, b, avg_d in zip(distances, betas, avg_dists):\n",
        "    print(\n",
        "        f\"\"\"\n",
        "    \"Gravity\" index (spatial impedance weighted closeness-like centrality):\n",
        "    Avg walking tolerance: {avg_d:.2f}m\n",
        "    Beta: {b:.3f} (spatial impedance factor)\n",
        "    Max walking tolerance: {d:.1f}m\n",
        "    \"\"\"\n",
        "    )\n",
        "    fig, axes = plt.subplots(1, 3, figsize=(8, 7), dpi=200, facecolor=bg_colour)\n",
        "    plot.plot_scatter(\n",
        "        axes[0],\n",
        "        network_structure.node_xs,\n",
        "        network_structure.node_ys,\n",
        "        nodes_gdf[f\"cc_metric_node_beta_{d}\"],\n",
        "        bbox_extents=plot_bbox,\n",
        "        cmap_key=\"magma\",\n",
        "        face_colour=bg_colour,\n",
        "    )\n",
        "    axes[0].set_title(\"Algorithmically cleaned network\", fontsize=font_size)\n",
        "    plot.plot_scatter(\n",
        "        axes[1],\n",
        "        network_structure_messy.node_xs,\n",
        "        network_structure_messy.node_ys,\n",
        "        nodes_gdf_messy[f\"cc_metric_node_beta_{d}\"],\n",
        "        bbox_extents=plot_bbox,\n",
        "        cmap_key=\"magma\",\n",
        "        face_colour=bg_colour,\n",
        "    )\n",
        "    axes[1].set_title(\"Messy uncorrected network\", fontsize=font_size)\n",
        "    plot.plot_scatter(\n",
        "        axes[2],\n",
        "        network_structure_dissolved.node_xs,\n",
        "        network_structure_dissolved.node_ys,\n",
        "        nodes_gdf_dissolved[f\"cc_metric_node_beta_{d}\"],\n",
        "        bbox_extents=plot_bbox,\n",
        "        cmap_key=\"magma\",\n",
        "        face_colour=bg_colour,\n",
        "    )\n",
        "    axes[2].set_title(\"Messy w. dissolved weightings and jitter\", fontsize=font_size)\n",
        "    plt.show()\n",
        "\n",
        "for d, b, avg_d in zip(distances, betas, avg_dists):\n",
        "    print(\n",
        "        f\"\"\"\n",
        "    Spatial impedance weighted betweenness centrality:\n",
        "    Avg walking tolerance: {avg_d:.2f}m\n",
        "    Beta: {b:.3f} (spatial impedance factor)\n",
        "    Max walking tolerance: {d:.1f}m\n",
        "    \"\"\"\n",
        "    )\n",
        "    fig, axes = plt.subplots(1, 3, figsize=(8, 7), dpi=200, facecolor=bg_colour)\n",
        "    plot.plot_scatter(\n",
        "        axes[0],\n",
        "        network_structure.node_xs,\n",
        "        network_structure.node_ys,\n",
        "        nodes_gdf[f\"cc_metric_node_betweenness_{d}\"],\n",
        "        bbox_extents=plot_bbox,\n",
        "        cmap_key=\"magma\",\n",
        "        s_max=2,\n",
        "        face_colour=bg_colour,\n",
        "    )\n",
        "    axes[0].set_title(\"Algorithmically cleaned network\", fontsize=font_size)\n",
        "    plot.plot_scatter(\n",
        "        axes[1],\n",
        "        network_structure_messy.node_xs,\n",
        "        network_structure_messy.node_ys,\n",
        "        nodes_gdf_messy[f\"cc_metric_node_betweenness_{d}\"],\n",
        "        bbox_extents=plot_bbox,\n",
        "        cmap_key=\"magma\",\n",
        "        s_max=2,\n",
        "        face_colour=bg_colour,\n",
        "    )\n",
        "    axes[1].set_title(\"Messy uncorrected network\", fontsize=font_size)\n",
        "    plot.plot_scatter(\n",
        "        axes[2],\n",
        "        network_structure_dissolved.node_xs,\n",
        "        network_structure_dissolved.node_ys,\n",
        "        nodes_gdf_dissolved[f\"cc_metric_node_betweenness_{d}\"],\n",
        "        bbox_extents=plot_bbox,\n",
        "        cmap_key=\"magma\",\n",
        "        s_max=2,\n",
        "        face_colour=bg_colour,\n",
        "    )\n",
        "    axes[2].set_title(\"Messy w. dissolved weightings and jitter\", fontsize=font_size)\n",
        "    plt.show()"
      ]
    }
  ],
  "metadata": {
    "kernelspec": {
      "display_name": "Python 3.9.13 ('.venv': venv)",
      "language": "python",
      "name": "python3"
    },
    "language_info": {
      "codemirror_mode": {
        "name": "ipython",
        "version": 3
      },
      "file_extension": ".py",
      "mimetype": "text/x-python",
      "name": "python",
      "nbconvert_exporter": "python",
      "pygments_lexer": "ipython3",
      "version": "3.11.6"
    },
    "vscode": {
      "interpreter": {
        "hash": "4f98144d13f37af76b105dd8b0b0bc479decc1b19acf8c8b674f5710223be2e7"
      }
    }
  },
  "nbformat": 4,
  "nbformat_minor": 4
}
