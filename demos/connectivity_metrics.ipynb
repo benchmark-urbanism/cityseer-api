{
 "cells": [
  {
   "cell_type": "markdown",
   "metadata": {},
   "source": [
    "# Continuity WIP"
   ]
  },
  {
   "cell_type": "markdown",
   "metadata": {},
   "source": [
    "## Prepare data"
   ]
  },
  {
   "cell_type": "code",
   "execution_count": null,
   "metadata": {},
   "outputs": [],
   "source": [
    "from shapely import geometry\n",
    "import utm\n",
    "\n",
    "from cityseer.tools import graphs, plot, mock\n",
    "\n",
    "# Download data within a buffer around London Soho:\n",
    "# lng, lat = -0.13039709427587876, 51.516434828344366  # london\n",
    "# lng, lat = 18.425702641104582, -33.9204746754594  # cape town\n",
    "lng, lat = 29.01011384485918, 41.021325648742206  # istanbul\n",
    "buffer = 5000\n",
    "query = \"\"\"\n",
    "[out:json][timeout:25];\n",
    "(\n",
    "    way[\"highway\"]\n",
    "    [\"area\"!=\"yes\"]\n",
    "    [\"highway\"!~\"footway|pedestrian|steps|bus_guideway|escape|raceway|proposed|planned|abandoned|platform|construction\"]\n",
    "    (poly:\"{geom_osm}\");\n",
    ");\n",
    "out body;\n",
    ">;\n",
    "out qt;\n",
    "\"\"\"\n",
    "G_utm = mock.make_buffered_osm_graph(lng, lat, buffer, with_data=True, custom_request=query)\n",
    "\n",
    "# select extents for plotting\n",
    "easting, northing = utm.from_latlon(lat, lng)[:2]\n",
    "buff = geometry.Point(easting, northing).buffer(buffer * 0.7)\n",
    "min_x, min_y, max_x, max_y = buff.bounds\n",
    "\n",
    "\n",
    "# reusable plot function\n",
    "def simple_plot(_G, plot_geoms=True):\n",
    "    # plot using the selected extents\n",
    "    plot.plot_nx(\n",
    "        _G,\n",
    "        labels=False,\n",
    "        plot_geoms=plot_geoms,\n",
    "        node_size=2,\n",
    "        edge_width=2,\n",
    "        x_lim=(min_x, max_x),\n",
    "        y_lim=(min_y, max_y),\n",
    "        figsize=(6, 6),\n",
    "        dpi=200,\n",
    "    )\n",
    "\n",
    "\n",
    "# plot of raw data from OSM\n",
    "simple_plot(G_utm, plot_geoms=False)"
   ]
  },
  {
   "cell_type": "markdown",
   "metadata": {},
   "source": [
    "## Clean graph"
   ]
  },
  {
   "cell_type": "markdown",
   "metadata": {},
   "source": [
    "# Cleaning\n",
    "\n",
    "For this form of analysis, only basic cleaning is recommended:\n",
    "- not consolidating nodes because this risks accidentally dropping highway / ref / name attributes\n",
    "- not like closeness or betweenness methods, where topological distortions are arguably a bigger issue"
   ]
  },
  {
   "cell_type": "code",
   "execution_count": null,
   "metadata": {},
   "outputs": [],
   "source": [
    "G = graphs.nx_simple_geoms(G_utm)\n",
    "G = graphs.nx_remove_filler_nodes(G)\n",
    "G = graphs.nx_remove_dangling_nodes(G, despine=20, remove_disconnected=True)\n",
    "G = graphs.nx_remove_filler_nodes(G)\n",
    "simple_plot(G)"
   ]
  },
  {
   "cell_type": "markdown",
   "metadata": {},
   "source": [
    "## create method"
   ]
  },
  {
   "cell_type": "code",
   "execution_count": null,
   "metadata": {},
   "outputs": [],
   "source": [
    "import networkx as nx\n",
    "from tqdm import tqdm\n",
    "from cityseer.tools.graphs import NodeKey, EdgeData\n",
    "\n",
    "\n",
    "def route_continuity(nx_multigraph: nx.MultiGraph, method: str):\n",
    "    \"\"\" \"\"\"\n",
    "\n",
    "    def _clean_vals(vals: list[str]) -> set[str]:\n",
    "        clean_vals: list[str] = []\n",
    "        for val in vals:\n",
    "            # highways category has residential, service, etc.\n",
    "            if val not in [None, \"residential\", \"service\", \"footway\"]:\n",
    "                clean_vals.append(val)\n",
    "        return set(clean_vals)\n",
    "\n",
    "    def _intersect_vals(vals_a: list[str], vals_b: list[str]) -> bool:\n",
    "        clean_vals_a = _clean_vals(vals_a)\n",
    "        clean_vals_b = _clean_vals(vals_b)\n",
    "        itx = clean_vals_a.intersection(clean_vals_b)\n",
    "        return len(itx) > 0\n",
    "\n",
    "    def _recurse_edges(\n",
    "        _nx_multigraph: nx.MultiGraph,\n",
    "        _target_key: str,\n",
    "        _target_vals: list[str],\n",
    "        _a_nd_key: NodeKey,\n",
    "        _b_nd_key: NodeKey,\n",
    "        _edge_idx: int,\n",
    "        agg_edge_lengths: list[float],\n",
    "        visited_edges: list[str] = [],\n",
    "    ):\n",
    "        edge_nodes = tuple(sorted([str(_a_nd_key), str(_b_nd_key)]))\n",
    "        edge_key = f\"{edge_nodes[0]}_{edge_nodes[1]}_{_edge_idx}\"\n",
    "        if edge_key in visited_edges:\n",
    "            return\n",
    "        else:\n",
    "            visited_edges.append(edge_key)\n",
    "        nested_edge_data: EdgeData = _nx_multigraph[_a_nd_key][_b_nd_key][_edge_idx]\n",
    "        if _target_key not in nested_edge_data:\n",
    "            return\n",
    "        nested_target_vals: list[str] = nested_edge_data[_target_key]\n",
    "        if not _intersect_vals(_target_vals, nested_target_vals):\n",
    "            return\n",
    "        agg_edge_lengths.append(nested_edge_data[\"geom\"].length)\n",
    "        # find all neighbouring edge pairs\n",
    "        a_nb_pairs: list[tuple[NodeKey, NodeKey]] = [\n",
    "            (_a_nd_key, ann) for ann in nx.neighbors(_nx_multigraph, _a_nd_key) if ann != _b_nd_key  # type: ignore\n",
    "        ]\n",
    "        b_nb_pairs: list[tuple[NodeKey, NodeKey]] = [\n",
    "            (_b_nd_key, bnn) for bnn in nx.neighbors(_nx_multigraph, _b_nd_key) if bnn != _a_nd_key  # type: ignore\n",
    "        ]\n",
    "        for nested_a_nd_key, nested_b_nd_key in a_nb_pairs + b_nb_pairs:\n",
    "            nested_edge_idx: int\n",
    "            for nested_edge_idx in _nx_multigraph[nested_a_nd_key][nested_b_nd_key].keys():\n",
    "                _recurse_edges(\n",
    "                    _nx_multigraph,\n",
    "                    _target_key,\n",
    "                    _target_vals,\n",
    "                    nested_a_nd_key,\n",
    "                    nested_b_nd_key,\n",
    "                    nested_edge_idx,\n",
    "                    agg_edge_lengths,\n",
    "                    visited_edges,\n",
    "                )\n",
    "\n",
    "    if method in [\"names\", \"refs\", \"highways\"]:\n",
    "        target_key: str = method\n",
    "    else:\n",
    "        raise ValueError(f\"Method of {method} is not recognised.\")\n",
    "    # iter edges\n",
    "    for a_nd_key, b_nd_key, edge_idx, edge_data in tqdm(nx_multigraph.edges(keys=True, data=True)):  # type: ignore\n",
    "        if target_key not in edge_data:\n",
    "            nx_multigraph[a_nd_key][b_nd_key][edge_idx][f\"{target_key}_agg\"] = None\n",
    "        target_vals = edge_data[target_key]\n",
    "        agg_edge_lengths: list[float] = []\n",
    "        visited_edges: list[str] = []\n",
    "        _recurse_edges(\n",
    "            nx_multigraph, target_key, target_vals, a_nd_key, b_nd_key, edge_idx, agg_edge_lengths, visited_edges\n",
    "        )\n",
    "        # length sum\n",
    "        agg_len = sum(agg_edge_lengths)\n",
    "        if f\"{target_key}_agg\" in nx_multigraph[a_nd_key][b_nd_key][edge_idx]:\n",
    "            current_agg_len = nx_multigraph[a_nd_key][b_nd_key][edge_idx][f\"{target_key}_agg_length\"]\n",
    "            if agg_len > current_agg_len:\n",
    "                nx_multigraph[a_nd_key][b_nd_key][edge_idx][f\"{target_key}_agg_length\"] = agg_len\n",
    "        else:\n",
    "            nx_multigraph[a_nd_key][b_nd_key][edge_idx][f\"{target_key}_agg_length\"] = agg_len\n",
    "        # counts\n",
    "        agg_count = len(agg_edge_lengths)\n",
    "        if f\"{target_key}_agg_count\" in nx_multigraph[a_nd_key][b_nd_key][edge_idx]:\n",
    "            current_agg_count = nx_multigraph[a_nd_key][b_nd_key][edge_idx][f\"{target_key}_agg_count\"]\n",
    "            if agg_count > current_agg_count:\n",
    "                nx_multigraph[a_nd_key][b_nd_key][edge_idx][f\"{target_key}_agg_count\"] = agg_count\n",
    "        else:\n",
    "            nx_multigraph[a_nd_key][b_nd_key][edge_idx][f\"{target_key}_agg_count\"] = agg_count"
   ]
  },
  {
   "cell_type": "markdown",
   "metadata": {},
   "source": [
    "## run\n",
    "\n",
    "1 - Street Names\n",
    "2 - Refs - e.g. highway numbers\n",
    "3 - OSM Highway classifications"
   ]
  },
  {
   "cell_type": "code",
   "execution_count": null,
   "metadata": {},
   "outputs": [],
   "source": [
    "G_agg = G.copy()\n",
    "route_continuity(G_agg, method=\"names\")\n",
    "route_continuity(G_agg, method=\"refs\")\n",
    "route_continuity(G_agg, method=\"highways\")"
   ]
  },
  {
   "cell_type": "markdown",
   "metadata": {},
   "source": [
    "## plot method"
   ]
  },
  {
   "cell_type": "code",
   "execution_count": null,
   "metadata": {},
   "outputs": [],
   "source": [
    "from cityseer.tools import plot\n",
    "import numpy as np\n",
    "import numpy.typing as npt\n",
    "import networkx as nx\n",
    "import matplotlib.pyplot as plt\n",
    "\n",
    "\n",
    "def plot_aggs(edge_metrics_key: str):\n",
    "    _fig, ax = plt.subplots(1, 1, dpi=200, figsize=(10, 10))\n",
    "    # extract data for shaping\n",
    "    edge_vals: list[str] = []\n",
    "    edge_geoms: list[geometry.LineString] = []\n",
    "    for _, _, edge_data in G_agg.edges(data=True):\n",
    "        edge_vals.append(edge_data[edge_metrics_key])\n",
    "        edge_geoms.append(edge_data[\"geom\"])\n",
    "    edge_vals_arr: npt.NDArray[np.float_] = np.array(edge_vals)\n",
    "    edge_vals_arr = np.clip(edge_vals_arr, np.percentile(edge_vals_arr, 1), np.percentile(edge_vals_arr, 99))\n",
    "    # plot using geoms\n",
    "    for edge_val, edge_geom in zip(edge_vals, edge_geoms):\n",
    "        xs = [c[0] for c in edge_geom.coords]\n",
    "        ys = [c[1] for c in edge_geom.coords]\n",
    "        # normalise val\n",
    "        norm_val = (edge_val - edge_vals_arr.min()) / (edge_vals_arr.max() - edge_vals_arr.min())\n",
    "        val_shape = norm_val * 0.95 + 0.05\n",
    "        ax.plot(xs, ys, linewidth=val_shape, color=\"#ef1a33\")\n",
    "    ax.axis(\"off\")\n",
    "    plt.xlim(min_x, max_x)\n",
    "    plt.ylim(min_y, max_y)"
   ]
  },
  {
   "cell_type": "markdown",
   "metadata": {},
   "source": [
    "# Plot street name continuity\n",
    "\n",
    "A - by count\n",
    "B - by length"
   ]
  },
  {
   "cell_type": "code",
   "execution_count": null,
   "metadata": {},
   "outputs": [],
   "source": [
    "plot_aggs(\"names_agg_count\")\n",
    "plot_aggs(\"names_agg_length\")"
   ]
  },
  {
   "cell_type": "markdown",
   "metadata": {},
   "source": [
    "# Plot street ref continuity\n",
    "\n",
    "A - by count\n",
    "B - by length"
   ]
  },
  {
   "cell_type": "code",
   "execution_count": null,
   "metadata": {},
   "outputs": [],
   "source": [
    "plot_aggs(\"refs_agg_count\")\n",
    "plot_aggs(\"refs_agg_length\")"
   ]
  },
  {
   "cell_type": "markdown",
   "metadata": {},
   "source": [
    "# Plot street highway continuity\n",
    "\n",
    "A - by count\n",
    "B - by length"
   ]
  },
  {
   "cell_type": "code",
   "execution_count": null,
   "metadata": {},
   "outputs": [],
   "source": [
    "plot_aggs(\"highways_agg_count\")\n",
    "plot_aggs(\"highways_agg_length\")"
   ]
  },
  {
   "cell_type": "code",
   "execution_count": null,
   "metadata": {},
   "outputs": [],
   "source": []
  }
 ],
 "metadata": {
  "kernelspec": {
   "display_name": "Python 3.9.13 64-bit",
   "language": "python",
   "name": "python3"
  },
  "language_info": {
   "codemirror_mode": {
    "name": "ipython",
    "version": 3
   },
   "file_extension": ".py",
   "mimetype": "text/x-python",
   "name": "python",
   "nbconvert_exporter": "python",
   "pygments_lexer": "ipython3",
   "version": "3.9.13"
  },
  "vscode": {
   "interpreter": {
    "hash": "aee8b7b246df8f9039afb4144a1f6fd8d2ca17a180786b69acc140d282b71a49"
   }
  }
 },
 "nbformat": 4,
 "nbformat_minor": 4
}
