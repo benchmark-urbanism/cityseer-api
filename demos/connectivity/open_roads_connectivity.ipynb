{
 "cells": [
  {
   "cell_type": "markdown",
   "metadata": {},
   "source": [
    "https://osdatahub.os.uk/downloads/open/OpenRoads"
   ]
  },
  {
   "cell_type": "code",
   "execution_count": null,
   "metadata": {},
   "outputs": [],
   "source": []
  }
 ],
 "metadata": {
  "kernelspec": {
   "display_name": "Python 3.9.13 ('.venv': venv)",
   "language": "python",
   "name": "python3"
  },
  "language_info": {
   "name": "python",
   "version": "3.9.13"
  },
  "orig_nbformat": 4,
  "vscode": {
   "interpreter": {
    "hash": "4f98144d13f37af76b105dd8b0b0bc479decc1b19acf8c8b674f5710223be2e7"
   }
  }
 },
 "nbformat": 4,
 "nbformat_minor": 2
}
