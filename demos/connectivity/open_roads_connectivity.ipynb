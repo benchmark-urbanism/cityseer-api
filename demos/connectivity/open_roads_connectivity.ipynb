{
 "cells": [
  {
   "cell_type": "markdown",
   "metadata": {},
   "source": [
    "https://osdatahub.os.uk/downloads/open/OpenRoads\n",
    "https://osdatahub.os.uk/downloads/open/OpenZoomstack"
   ]
  },
  {
   "cell_type": "code",
   "execution_count": 26,
   "metadata": {},
   "outputs": [
    {
     "name": "stdout",
     "output_type": "stream",
     "text": [
      "data path /Users/gareth/dev/benchmark-urbanism/cityseer-api/demos/connectivity/../../temp/os_open_roads/oproad_gb.gpkg\n",
      "['RoadLink', 'RoadNode', 'MotorwayJunction']\n"
     ]
    },
    {
     "ename": "",
     "evalue": "",
     "output_type": "error",
     "traceback": [
      "\u001b[1;31mFailed to interrupt the Kernel. \n",
      "No debugger available, can not send 'disconnect'. \n",
      "View Jupyter <a href='command:jupyter.viewOutput'>log</a> for further details."
     ]
    }
   ],
   "source": [
    "from __future__ import annotations\n",
    "\n",
    "from typing import Any\n",
    "\n",
    "from shapely import geometry\n",
    "import fiona\n",
    "from pathlib import Path\n",
    "import networkx as nx\n",
    "\n",
    "repo_path = Path.cwd()\n",
    "if str(repo_path).endswith('connectivity'):\n",
    "  repo_path = Path.cwd() / '../..'\n",
    "if not str(repo_path.resolve()).endswith('cityseer-api'):\n",
    "  raise ValueError('Please check your notebook working directory relative to your project and data paths.')\n",
    "\n",
    "open_roads_path = Path(repo_path / 'temp/os_open_roads/oproad_gb.gpkg')\n",
    "print('data path', open_roads_path)\n",
    "\n",
    "# layer keys are Roadlink, RoadNode, MotorwayJunction\n",
    "layer_keys: list[str] = []\n",
    "layer_name: str\n",
    "for layer_key, layer_name in enumerate(  # type: ignore\n",
    "        fiona.listlayers(open_roads_path)  # type: ignore\n",
    "    ):\n",
    "  layer_keys.append(layer_name)\n",
    "print(layer_keys)\n",
    "\n",
    "G = nx.MultiGraph()\n",
    "\n",
    "# create graph for\n",
    "london_bbox = (494158, 152851, 562352, 206244)\n",
    "london_plot_bbox = (528012, 177840, 537081, 184940)\n",
    "# stratford_bbox = (416856, 252546, 423920, 258076)\n",
    "# stratford_plot_bbox = (416856, 252546, 423920, 258076)\n",
    "\n",
    "# ['RoadLink', 'RoadNode', 'MotorwayJunction']\n",
    "with fiona.open(open_roads_path, layer='RoadNode') as nodes:  # type: ignore\n",
    "  for node_id, node_data in nodes.items(bbox=london_bbox):  # type: ignore\n",
    "    x: float\n",
    "    y: float\n",
    "    x, y = node_data['geometry']['coordinates']\n",
    "    G.add_node(node_id, x=x, y=y)  # type: ignore\n",
    "\n",
    "with fiona.open(open_roads_path, layer='RoadLink') as edges:  # type: ignore\n",
    "  for edge_id, edge_data in edges.items(bbox=london_bbox):  # type: ignore\n",
    "    # x, y = edge_data['geometry']['coordinates']\n",
    "    props: dict[str, Any] = edge_data['properties']\n",
    "    start_nd: str = props['startNode']\n",
    "    end_nd: str = props['endNode']\n",
    "    names: set[str] = set()\n",
    "    for name_key in ['name1', 'name2']:\n",
    "      name: str | None = props[name_key]\n",
    "      if name is not None:\n",
    "        names.add(name)\n",
    "    refs: set[str] = set()\n",
    "    for ref_key in ['roadClassificationNumber']:\n",
    "      ref: str | None = props[ref_key]\n",
    "      if ref is not None:\n",
    "        refs.add(ref)\n",
    "    highways: set[str] = set()\n",
    "    for highway_key in ['roadFunction', 'roadClassification']:  # 'formOfWay'\n",
    "      highway = props[highway_key]\n",
    "      if highway is not None:\n",
    "        highways.add(highway)\n",
    "    if props['trunkRoad']:\n",
    "      highways.add('IsTrunk')\n",
    "    if props['primaryRoute']:\n",
    "      highways.add('IsPrimary')\n",
    "    # filter highways\n",
    "    highways.difference_update({'Not Classified', 'Unclassified', 'Unknown', 'Restricted Local Access Road'})\n",
    "    geom = geometry.LineString(edge_data['geometry']['coordinates'])  # type: ignore\n",
    "    # do not add edges to clipped extents\n",
    "    if start_nd not in G or end_nd not in G:\n",
    "      continue\n",
    "    G.add_edge(start_nd, end_nd, names=list(names), refs=list(refs), highways=list(highways), geom=geom)\n",
    "\n",
    "G_agg: nx.MultiGraph = G.copy()"
   ]
  },
  {
   "cell_type": "code",
   "execution_count": 25,
   "metadata": {},
   "outputs": [
    {
     "name": "stdout",
     "output_type": "stream",
     "text": [
      "245478\n",
      "0\n"
     ]
    }
   ],
   "source": []
  },
  {
   "cell_type": "code",
   "execution_count": 16,
   "metadata": {},
   "outputs": [],
   "source": [
    "import networkx as nx\n",
    "from tqdm import tqdm\n",
    "from cityseer.tools.graphs import NodeKey, EdgeData\n",
    "\n",
    "london_plot_bbox = (528012, 177840, 537081, 184940)\n",
    "def route_continuity(nx_multigraph: nx.MultiGraph, method: str):\n",
    "    \"\"\" \"\"\"\n",
    "\n",
    "    def _clean_vals(vals: list[str]) -> set[str]:\n",
    "        clean_vals: list[str] = []\n",
    "        for val in vals:\n",
    "            # highways category has residential, service, etc.\n",
    "            if val not in [None, \"residential\", \"service\", \"footway\"]:\n",
    "                clean_vals.append(val)\n",
    "        return set(clean_vals)\n",
    "\n",
    "    def _intersect_vals(vals_a: list[str], vals_b: list[str]) -> bool:\n",
    "        clean_vals_a = _clean_vals(vals_a)\n",
    "        clean_vals_b = _clean_vals(vals_b)\n",
    "        itx = clean_vals_a.intersection(clean_vals_b)\n",
    "        return len(itx) > 0\n",
    "\n",
    "    def _recurse_edges(\n",
    "        _nx_multigraph: nx.MultiGraph,\n",
    "        _target_key: str,\n",
    "        _target_vals: list[str],\n",
    "        _a_nd_key: NodeKey,\n",
    "        _b_nd_key: NodeKey,\n",
    "        _edge_idx: int,\n",
    "        agg_edge_lengths: list[float],\n",
    "        visited_edges: list[str] = [],\n",
    "    ):\n",
    "        edge_nodes = tuple(sorted([str(_a_nd_key), str(_b_nd_key)]))\n",
    "        edge_key = f\"{edge_nodes[0]}_{edge_nodes[1]}_{_edge_idx}\"\n",
    "        if edge_key in visited_edges:\n",
    "            return\n",
    "        else:\n",
    "            visited_edges.append(edge_key)\n",
    "        nested_edge_data: EdgeData = _nx_multigraph[_a_nd_key][_b_nd_key][_edge_idx]\n",
    "        if _target_key not in nested_edge_data:\n",
    "            return\n",
    "        nested_target_vals: list[str] = nested_edge_data[_target_key]\n",
    "        if not _intersect_vals(_target_vals, nested_target_vals):\n",
    "            return\n",
    "        agg_edge_lengths.append(nested_edge_data[\"geom\"].length)\n",
    "        # find all neighbouring edge pairs\n",
    "        a_nb_pairs: list[tuple[NodeKey, NodeKey]] = [\n",
    "            (_a_nd_key, ann) for ann in nx.neighbors(_nx_multigraph, _a_nd_key) if ann != _b_nd_key  # type: ignore\n",
    "        ]\n",
    "        b_nb_pairs: list[tuple[NodeKey, NodeKey]] = [\n",
    "            (_b_nd_key, bnn) for bnn in nx.neighbors(_nx_multigraph, _b_nd_key) if bnn != _a_nd_key  # type: ignore\n",
    "        ]\n",
    "        for nested_a_nd_key, nested_b_nd_key in a_nb_pairs + b_nb_pairs:\n",
    "            nested_edge_idx: int\n",
    "            for nested_edge_idx in _nx_multigraph[nested_a_nd_key][nested_b_nd_key].keys():\n",
    "                _recurse_edges(\n",
    "                    _nx_multigraph,\n",
    "                    _target_key,\n",
    "                    _target_vals,\n",
    "                    nested_a_nd_key,\n",
    "                    nested_b_nd_key,\n",
    "                    nested_edge_idx,\n",
    "                    agg_edge_lengths,\n",
    "                    visited_edges,\n",
    "                )\n",
    "\n",
    "    if method in [\"names\", \"refs\", \"highways\"]:\n",
    "        target_key: str = method\n",
    "    else:\n",
    "        raise ValueError(f\"Method of {method} is not recognised.\")\n",
    "    # iter edges\n",
    "    for a_nd_key, b_nd_key, edge_idx, edge_data in tqdm(nx_multigraph.edges(keys=True, data=True)):  # type: ignore\n",
    "        if target_key not in edge_data:\n",
    "            nx_multigraph[a_nd_key][b_nd_key][edge_idx][f\"{target_key}_agg\"] = None\n",
    "        target_vals = edge_data[target_key]\n",
    "        agg_edge_lengths: list[float] = []\n",
    "        visited_edges: list[str] = []\n",
    "        _recurse_edges(\n",
    "            nx_multigraph, target_key, target_vals, a_nd_key, b_nd_key, edge_idx, agg_edge_lengths, visited_edges\n",
    "        )\n",
    "        # length sum\n",
    "        agg_len = sum(agg_edge_lengths)\n",
    "        if f\"{target_key}_agg\" in nx_multigraph[a_nd_key][b_nd_key][edge_idx]:\n",
    "            current_agg_len = nx_multigraph[a_nd_key][b_nd_key][edge_idx][f\"{target_key}_agg_length\"]\n",
    "            if agg_len > current_agg_len:\n",
    "                nx_multigraph[a_nd_key][b_nd_key][edge_idx][f\"{target_key}_agg_length\"] = agg_len\n",
    "        else:\n",
    "            nx_multigraph[a_nd_key][b_nd_key][edge_idx][f\"{target_key}_agg_length\"] = agg_len\n",
    "        # counts\n",
    "        agg_count = len(agg_edge_lengths)\n",
    "        if f\"{target_key}_agg_count\" in nx_multigraph[a_nd_key][b_nd_key][edge_idx]:\n",
    "            current_agg_count = nx_multigraph[a_nd_key][b_nd_key][edge_idx][f\"{target_key}_agg_count\"]\n",
    "            if agg_count > current_agg_count:\n",
    "                nx_multigraph[a_nd_key][b_nd_key][edge_idx][f\"{target_key}_agg_count\"] = agg_count\n",
    "        else:\n",
    "            nx_multigraph[a_nd_key][b_nd_key][edge_idx][f\"{target_key}_agg_count\"] = agg_count\n",
    "\n"
   ]
  },
  {
   "cell_type": "code",
   "execution_count": 19,
   "metadata": {},
   "outputs": [],
   "source": [
    "from cityseer.tools import plot\n",
    "import numpy as np\n",
    "import numpy.typing as npt\n",
    "import networkx as nx\n",
    "import matplotlib.pyplot as plt\n",
    "\n",
    "\n",
    "def plot_aggs(nx_multigraph: nx.MultiGraph, edge_metrics_key: str, plot_bounds: tuple[int, int, int, int]):\n",
    "    _fig, ax = plt.subplots(1, 1, dpi=200, figsize=(10, 10))\n",
    "    min_x, min_y, max_x, max_y = plot_bounds\n",
    "    # extract data for shaping\n",
    "    edge_vals: list[str] = []\n",
    "    edge_geoms: list[geometry.LineString] = []\n",
    "    for start_nd_key, end_nd_key, edge_data in nx_multigraph.edges(data=True):\n",
    "        start_x, start_y = nx_multigraph.nodes[start_nd_key]['x'], nx_multigraph.nodes[start_nd_key]['y']\n",
    "        if max_x < start_x < min_x or max_y < start_y < min_y:\n",
    "            continue\n",
    "        end_x, end_y = nx_multigraph.nodes[end_nd_key]['x'], nx_multigraph.nodes[end_nd_key]['y']\n",
    "        if max_x < end_x < min_x or max_y < end_y < min_y:\n",
    "            continue\n",
    "        edge_vals.append(edge_data[edge_metrics_key])\n",
    "        edge_geoms.append(edge_data[\"geom\"])\n",
    "    edge_vals_arr: npt.NDArray[np.float_] = np.array(edge_vals)\n",
    "    edge_vals_arr = np.clip(edge_vals_arr, np.percentile(edge_vals_arr, 1), np.percentile(edge_vals_arr, 99))\n",
    "    # plot using geoms\n",
    "    for edge_val, edge_geom in zip(edge_vals, edge_geoms):\n",
    "        xs = [c[0] for c in edge_geom.coords]\n",
    "        ys = [c[1] for c in edge_geom.coords]\n",
    "        # normalise val\n",
    "        norm_val = (edge_val - edge_vals_arr.min()) / (edge_vals_arr.max() - edge_vals_arr.min())\n",
    "        val_shape = norm_val * 0.95 + 0.05\n",
    "        ax.plot(xs, ys, linewidth=val_shape, color=\"#ef1a33\")\n",
    "    ax.axis(\"off\")\n",
    "    plt.xlim(min_x, max_x)\n",
    "    plt.ylim(min_y, max_y)\n"
   ]
  },
  {
   "cell_type": "code",
   "execution_count": 23,
   "metadata": {},
   "outputs": [
    {
     "name": "stderr",
     "output_type": "stream",
     "text": [
      "0it [00:00, ?it/s]\n"
     ]
    }
   ],
   "source": [
    "route_continuity(G_agg, method=\"names\")\n",
    "# plot_aggs(G_agg, \"names_agg_count\", london_plot_bbox)\n",
    "# plot_aggs(G_agg, \"names_agg_length\", london_plot_bbox)"
   ]
  },
  {
   "cell_type": "code",
   "execution_count": null,
   "metadata": {},
   "outputs": [],
   "source": [
    "route_continuity(G_agg, method=\"refs\")\n",
    "plot_aggs(\"refs_agg_count\")\n",
    "plot_aggs(\"refs_agg_length\")"
   ]
  },
  {
   "cell_type": "code",
   "execution_count": null,
   "metadata": {},
   "outputs": [],
   "source": [
    "route_continuity(G_agg, method=\"highways\")\n",
    "plot_aggs(\"highways_agg_count\")\n",
    "plot_aggs(\"highways_agg_length\")"
   ]
  },
  {
   "cell_type": "code",
   "execution_count": 57,
   "metadata": {},
   "outputs": [
    {
     "ename": "KeyboardInterrupt",
     "evalue": "",
     "output_type": "error",
     "traceback": [
      "\u001b[0;31m---------------------------------------------------------------------------\u001b[0m",
      "\u001b[0;31mKeyboardInterrupt\u001b[0m                         Traceback (most recent call last)",
      "\u001b[0;32m/var/folders/bs/sq3p18cs4dn1ws4kpmfyk_3c0000gn/T/ipykernel_46636/4259445527.py\u001b[0m in \u001b[0;36m<cell line: 1>\u001b[0;34m()\u001b[0m\n\u001b[0;32m----> 1\u001b[0;31m \u001b[0mplot_aggs\u001b[0m\u001b[0;34m(\u001b[0m\u001b[0;34m\"names_agg_count\"\u001b[0m\u001b[0;34m)\u001b[0m\u001b[0;34m\u001b[0m\u001b[0;34m\u001b[0m\u001b[0m\n\u001b[0m\u001b[1;32m      2\u001b[0m \u001b[0mplot_aggs\u001b[0m\u001b[0;34m(\u001b[0m\u001b[0;34m\"names_agg_length\"\u001b[0m\u001b[0;34m)\u001b[0m\u001b[0;34m\u001b[0m\u001b[0;34m\u001b[0m\u001b[0m\n",
      "\u001b[0;32m/var/folders/bs/sq3p18cs4dn1ws4kpmfyk_3c0000gn/T/ipykernel_46636/3290691159.py\u001b[0m in \u001b[0;36mplot_aggs\u001b[0;34m(edge_metrics_key)\u001b[0m\n\u001b[1;32m     23\u001b[0m         \u001b[0mnorm_val\u001b[0m \u001b[0;34m=\u001b[0m \u001b[0;34m(\u001b[0m\u001b[0medge_val\u001b[0m \u001b[0;34m-\u001b[0m \u001b[0medge_vals_arr\u001b[0m\u001b[0;34m.\u001b[0m\u001b[0mmin\u001b[0m\u001b[0;34m(\u001b[0m\u001b[0;34m)\u001b[0m\u001b[0;34m)\u001b[0m \u001b[0;34m/\u001b[0m \u001b[0;34m(\u001b[0m\u001b[0medge_vals_arr\u001b[0m\u001b[0;34m.\u001b[0m\u001b[0mmax\u001b[0m\u001b[0;34m(\u001b[0m\u001b[0;34m)\u001b[0m \u001b[0;34m-\u001b[0m \u001b[0medge_vals_arr\u001b[0m\u001b[0;34m.\u001b[0m\u001b[0mmin\u001b[0m\u001b[0;34m(\u001b[0m\u001b[0;34m)\u001b[0m\u001b[0;34m)\u001b[0m\u001b[0;34m\u001b[0m\u001b[0;34m\u001b[0m\u001b[0m\n\u001b[1;32m     24\u001b[0m         \u001b[0mval_shape\u001b[0m \u001b[0;34m=\u001b[0m \u001b[0mnorm_val\u001b[0m \u001b[0;34m*\u001b[0m \u001b[0;36m0.95\u001b[0m \u001b[0;34m+\u001b[0m \u001b[0;36m0.05\u001b[0m\u001b[0;34m\u001b[0m\u001b[0;34m\u001b[0m\u001b[0m\n\u001b[0;32m---> 25\u001b[0;31m         \u001b[0max\u001b[0m\u001b[0;34m.\u001b[0m\u001b[0mplot\u001b[0m\u001b[0;34m(\u001b[0m\u001b[0mxs\u001b[0m\u001b[0;34m,\u001b[0m \u001b[0mys\u001b[0m\u001b[0;34m,\u001b[0m \u001b[0mlinewidth\u001b[0m\u001b[0;34m=\u001b[0m\u001b[0mval_shape\u001b[0m\u001b[0;34m,\u001b[0m \u001b[0mcolor\u001b[0m\u001b[0;34m=\u001b[0m\u001b[0;34m\"#ef1a33\"\u001b[0m\u001b[0;34m)\u001b[0m\u001b[0;34m\u001b[0m\u001b[0;34m\u001b[0m\u001b[0m\n\u001b[0m\u001b[1;32m     26\u001b[0m     \u001b[0max\u001b[0m\u001b[0;34m.\u001b[0m\u001b[0maxis\u001b[0m\u001b[0;34m(\u001b[0m\u001b[0;34m\"off\"\u001b[0m\u001b[0;34m)\u001b[0m\u001b[0;34m\u001b[0m\u001b[0;34m\u001b[0m\u001b[0m\n\u001b[1;32m     27\u001b[0m     \u001b[0mplt\u001b[0m\u001b[0;34m.\u001b[0m\u001b[0mxlim\u001b[0m\u001b[0;34m(\u001b[0m\u001b[0mmin_x\u001b[0m\u001b[0;34m,\u001b[0m \u001b[0mmax_x\u001b[0m\u001b[0;34m)\u001b[0m\u001b[0;34m\u001b[0m\u001b[0;34m\u001b[0m\u001b[0m\n",
      "\u001b[0;32m~/dev/benchmark-urbanism/cityseer-api/.venv/lib/python3.9/site-packages/matplotlib/axes/_axes.py\u001b[0m in \u001b[0;36mplot\u001b[0;34m(self, scalex, scaley, data, *args, **kwargs)\u001b[0m\n\u001b[1;32m   1630\u001b[0m         \"\"\"\n\u001b[1;32m   1631\u001b[0m         \u001b[0mkwargs\u001b[0m \u001b[0;34m=\u001b[0m \u001b[0mcbook\u001b[0m\u001b[0;34m.\u001b[0m\u001b[0mnormalize_kwargs\u001b[0m\u001b[0;34m(\u001b[0m\u001b[0mkwargs\u001b[0m\u001b[0;34m,\u001b[0m \u001b[0mmlines\u001b[0m\u001b[0;34m.\u001b[0m\u001b[0mLine2D\u001b[0m\u001b[0;34m)\u001b[0m\u001b[0;34m\u001b[0m\u001b[0;34m\u001b[0m\u001b[0m\n\u001b[0;32m-> 1632\u001b[0;31m         \u001b[0mlines\u001b[0m \u001b[0;34m=\u001b[0m \u001b[0;34m[\u001b[0m\u001b[0;34m*\u001b[0m\u001b[0mself\u001b[0m\u001b[0;34m.\u001b[0m\u001b[0m_get_lines\u001b[0m\u001b[0;34m(\u001b[0m\u001b[0;34m*\u001b[0m\u001b[0margs\u001b[0m\u001b[0;34m,\u001b[0m \u001b[0mdata\u001b[0m\u001b[0;34m=\u001b[0m\u001b[0mdata\u001b[0m\u001b[0;34m,\u001b[0m \u001b[0;34m**\u001b[0m\u001b[0mkwargs\u001b[0m\u001b[0;34m)\u001b[0m\u001b[0;34m]\u001b[0m\u001b[0;34m\u001b[0m\u001b[0;34m\u001b[0m\u001b[0m\n\u001b[0m\u001b[1;32m   1633\u001b[0m         \u001b[0;32mfor\u001b[0m \u001b[0mline\u001b[0m \u001b[0;32min\u001b[0m \u001b[0mlines\u001b[0m\u001b[0;34m:\u001b[0m\u001b[0;34m\u001b[0m\u001b[0;34m\u001b[0m\u001b[0m\n\u001b[1;32m   1634\u001b[0m             \u001b[0mself\u001b[0m\u001b[0;34m.\u001b[0m\u001b[0madd_line\u001b[0m\u001b[0;34m(\u001b[0m\u001b[0mline\u001b[0m\u001b[0;34m)\u001b[0m\u001b[0;34m\u001b[0m\u001b[0;34m\u001b[0m\u001b[0m\n",
      "\u001b[0;32m~/dev/benchmark-urbanism/cityseer-api/.venv/lib/python3.9/site-packages/matplotlib/axes/_base.py\u001b[0m in \u001b[0;36m__call__\u001b[0;34m(self, data, *args, **kwargs)\u001b[0m\n\u001b[1;32m    310\u001b[0m                 \u001b[0mthis\u001b[0m \u001b[0;34m+=\u001b[0m \u001b[0margs\u001b[0m\u001b[0;34m[\u001b[0m\u001b[0;36m0\u001b[0m\u001b[0;34m]\u001b[0m\u001b[0;34m,\u001b[0m\u001b[0;34m\u001b[0m\u001b[0;34m\u001b[0m\u001b[0m\n\u001b[1;32m    311\u001b[0m                 \u001b[0margs\u001b[0m \u001b[0;34m=\u001b[0m \u001b[0margs\u001b[0m\u001b[0;34m[\u001b[0m\u001b[0;36m1\u001b[0m\u001b[0;34m:\u001b[0m\u001b[0;34m]\u001b[0m\u001b[0;34m\u001b[0m\u001b[0;34m\u001b[0m\u001b[0m\n\u001b[0;32m--> 312\u001b[0;31m             \u001b[0;32myield\u001b[0m \u001b[0;32mfrom\u001b[0m \u001b[0mself\u001b[0m\u001b[0;34m.\u001b[0m\u001b[0m_plot_args\u001b[0m\u001b[0;34m(\u001b[0m\u001b[0mthis\u001b[0m\u001b[0;34m,\u001b[0m \u001b[0mkwargs\u001b[0m\u001b[0;34m)\u001b[0m\u001b[0;34m\u001b[0m\u001b[0;34m\u001b[0m\u001b[0m\n\u001b[0m\u001b[1;32m    313\u001b[0m \u001b[0;34m\u001b[0m\u001b[0m\n\u001b[1;32m    314\u001b[0m     \u001b[0;32mdef\u001b[0m \u001b[0mget_next_color\u001b[0m\u001b[0;34m(\u001b[0m\u001b[0mself\u001b[0m\u001b[0;34m)\u001b[0m\u001b[0;34m:\u001b[0m\u001b[0;34m\u001b[0m\u001b[0;34m\u001b[0m\u001b[0m\n",
      "\u001b[0;32m~/dev/benchmark-urbanism/cityseer-api/.venv/lib/python3.9/site-packages/matplotlib/axes/_base.py\u001b[0m in \u001b[0;36m_plot_args\u001b[0;34m(self, tup, kwargs, return_kwargs)\u001b[0m\n\u001b[1;32m    536\u001b[0m             \u001b[0;32mreturn\u001b[0m \u001b[0mlist\u001b[0m\u001b[0;34m(\u001b[0m\u001b[0mresult\u001b[0m\u001b[0;34m)\u001b[0m\u001b[0;34m\u001b[0m\u001b[0;34m\u001b[0m\u001b[0m\n\u001b[1;32m    537\u001b[0m         \u001b[0;32melse\u001b[0m\u001b[0;34m:\u001b[0m\u001b[0;34m\u001b[0m\u001b[0;34m\u001b[0m\u001b[0m\n\u001b[0;32m--> 538\u001b[0;31m             \u001b[0;32mreturn\u001b[0m \u001b[0;34m[\u001b[0m\u001b[0ml\u001b[0m\u001b[0;34m[\u001b[0m\u001b[0;36m0\u001b[0m\u001b[0;34m]\u001b[0m \u001b[0;32mfor\u001b[0m \u001b[0ml\u001b[0m \u001b[0;32min\u001b[0m \u001b[0mresult\u001b[0m\u001b[0;34m]\u001b[0m\u001b[0;34m\u001b[0m\u001b[0;34m\u001b[0m\u001b[0m\n\u001b[0m\u001b[1;32m    539\u001b[0m \u001b[0;34m\u001b[0m\u001b[0m\n\u001b[1;32m    540\u001b[0m \u001b[0;34m\u001b[0m\u001b[0m\n",
      "\u001b[0;32m~/dev/benchmark-urbanism/cityseer-api/.venv/lib/python3.9/site-packages/matplotlib/axes/_base.py\u001b[0m in \u001b[0;36m<listcomp>\u001b[0;34m(.0)\u001b[0m\n\u001b[1;32m    536\u001b[0m             \u001b[0;32mreturn\u001b[0m \u001b[0mlist\u001b[0m\u001b[0;34m(\u001b[0m\u001b[0mresult\u001b[0m\u001b[0;34m)\u001b[0m\u001b[0;34m\u001b[0m\u001b[0;34m\u001b[0m\u001b[0m\n\u001b[1;32m    537\u001b[0m         \u001b[0;32melse\u001b[0m\u001b[0;34m:\u001b[0m\u001b[0;34m\u001b[0m\u001b[0;34m\u001b[0m\u001b[0m\n\u001b[0;32m--> 538\u001b[0;31m             \u001b[0;32mreturn\u001b[0m \u001b[0;34m[\u001b[0m\u001b[0ml\u001b[0m\u001b[0;34m[\u001b[0m\u001b[0;36m0\u001b[0m\u001b[0;34m]\u001b[0m \u001b[0;32mfor\u001b[0m \u001b[0ml\u001b[0m \u001b[0;32min\u001b[0m \u001b[0mresult\u001b[0m\u001b[0;34m]\u001b[0m\u001b[0;34m\u001b[0m\u001b[0;34m\u001b[0m\u001b[0m\n\u001b[0m\u001b[1;32m    539\u001b[0m \u001b[0;34m\u001b[0m\u001b[0m\n\u001b[1;32m    540\u001b[0m \u001b[0;34m\u001b[0m\u001b[0m\n",
      "\u001b[0;32m~/dev/benchmark-urbanism/cityseer-api/.venv/lib/python3.9/site-packages/matplotlib/axes/_base.py\u001b[0m in \u001b[0;36m<genexpr>\u001b[0;34m(.0)\u001b[0m\n\u001b[1;32m    529\u001b[0m             \u001b[0mlabels\u001b[0m \u001b[0;34m=\u001b[0m \u001b[0;34m[\u001b[0m\u001b[0mlabel\u001b[0m\u001b[0;34m]\u001b[0m \u001b[0;34m*\u001b[0m \u001b[0mn_datasets\u001b[0m\u001b[0;34m\u001b[0m\u001b[0;34m\u001b[0m\u001b[0m\n\u001b[1;32m    530\u001b[0m \u001b[0;34m\u001b[0m\u001b[0m\n\u001b[0;32m--> 531\u001b[0;31m         result = (make_artist(x[:, j % ncx], y[:, j % ncy], kw,\n\u001b[0m\u001b[1;32m    532\u001b[0m                               {**kwargs, 'label': label})\n\u001b[1;32m    533\u001b[0m                   for j, label in enumerate(labels))\n",
      "\u001b[0;32m~/dev/benchmark-urbanism/cityseer-api/.venv/lib/python3.9/site-packages/matplotlib/axes/_base.py\u001b[0m in \u001b[0;36m_makeline\u001b[0;34m(self, x, y, kw, kwargs)\u001b[0m\n\u001b[1;32m    349\u001b[0m         \u001b[0mdefault_dict\u001b[0m \u001b[0;34m=\u001b[0m \u001b[0mself\u001b[0m\u001b[0;34m.\u001b[0m\u001b[0m_getdefaults\u001b[0m\u001b[0;34m(\u001b[0m\u001b[0mset\u001b[0m\u001b[0;34m(\u001b[0m\u001b[0;34m)\u001b[0m\u001b[0;34m,\u001b[0m \u001b[0mkw\u001b[0m\u001b[0;34m)\u001b[0m\u001b[0;34m\u001b[0m\u001b[0;34m\u001b[0m\u001b[0m\n\u001b[1;32m    350\u001b[0m         \u001b[0mself\u001b[0m\u001b[0;34m.\u001b[0m\u001b[0m_setdefaults\u001b[0m\u001b[0;34m(\u001b[0m\u001b[0mdefault_dict\u001b[0m\u001b[0;34m,\u001b[0m \u001b[0mkw\u001b[0m\u001b[0;34m)\u001b[0m\u001b[0;34m\u001b[0m\u001b[0;34m\u001b[0m\u001b[0m\n\u001b[0;32m--> 351\u001b[0;31m         \u001b[0mseg\u001b[0m \u001b[0;34m=\u001b[0m \u001b[0mmlines\u001b[0m\u001b[0;34m.\u001b[0m\u001b[0mLine2D\u001b[0m\u001b[0;34m(\u001b[0m\u001b[0mx\u001b[0m\u001b[0;34m,\u001b[0m \u001b[0my\u001b[0m\u001b[0;34m,\u001b[0m \u001b[0;34m**\u001b[0m\u001b[0mkw\u001b[0m\u001b[0;34m)\u001b[0m\u001b[0;34m\u001b[0m\u001b[0;34m\u001b[0m\u001b[0m\n\u001b[0m\u001b[1;32m    352\u001b[0m         \u001b[0;32mreturn\u001b[0m \u001b[0mseg\u001b[0m\u001b[0;34m,\u001b[0m \u001b[0mkw\u001b[0m\u001b[0;34m\u001b[0m\u001b[0;34m\u001b[0m\u001b[0m\n\u001b[1;32m    353\u001b[0m \u001b[0;34m\u001b[0m\u001b[0m\n",
      "\u001b[0;32m~/dev/benchmark-urbanism/cityseer-api/.venv/lib/python3.9/site-packages/matplotlib/lines.py\u001b[0m in \u001b[0;36m__init__\u001b[0;34m(self, xdata, ydata, linewidth, linestyle, color, marker, markersize, markeredgewidth, markeredgecolor, markerfacecolor, markerfacecoloralt, fillstyle, antialiased, dash_capstyle, solid_capstyle, dash_joinstyle, solid_joinstyle, pickradius, drawstyle, markevery, **kwargs)\u001b[0m\n\u001b[1;32m    391\u001b[0m         \u001b[0;31m# update kwargs before updating data to give the caller a\u001b[0m\u001b[0;34m\u001b[0m\u001b[0;34m\u001b[0m\u001b[0m\n\u001b[1;32m    392\u001b[0m         \u001b[0;31m# chance to init axes (and hence unit support)\u001b[0m\u001b[0;34m\u001b[0m\u001b[0;34m\u001b[0m\u001b[0m\n\u001b[0;32m--> 393\u001b[0;31m         \u001b[0mself\u001b[0m\u001b[0;34m.\u001b[0m\u001b[0mupdate\u001b[0m\u001b[0;34m(\u001b[0m\u001b[0mkwargs\u001b[0m\u001b[0;34m)\u001b[0m\u001b[0;34m\u001b[0m\u001b[0;34m\u001b[0m\u001b[0m\n\u001b[0m\u001b[1;32m    394\u001b[0m         \u001b[0mself\u001b[0m\u001b[0;34m.\u001b[0m\u001b[0mpickradius\u001b[0m \u001b[0;34m=\u001b[0m \u001b[0mpickradius\u001b[0m\u001b[0;34m\u001b[0m\u001b[0;34m\u001b[0m\u001b[0m\n\u001b[1;32m    395\u001b[0m         \u001b[0mself\u001b[0m\u001b[0;34m.\u001b[0m\u001b[0mind_offset\u001b[0m \u001b[0;34m=\u001b[0m \u001b[0;36m0\u001b[0m\u001b[0;34m\u001b[0m\u001b[0;34m\u001b[0m\u001b[0m\n",
      "\u001b[0;32m~/dev/benchmark-urbanism/cityseer-api/.venv/lib/python3.9/site-packages/matplotlib/artist.py\u001b[0m in \u001b[0;36mupdate\u001b[0;34m(self, props)\u001b[0m\n\u001b[1;32m   1053\u001b[0m         \"\"\"\n\u001b[1;32m   1054\u001b[0m         \u001b[0mret\u001b[0m \u001b[0;34m=\u001b[0m \u001b[0;34m[\u001b[0m\u001b[0;34m]\u001b[0m\u001b[0;34m\u001b[0m\u001b[0;34m\u001b[0m\u001b[0m\n\u001b[0;32m-> 1055\u001b[0;31m         \u001b[0;32mwith\u001b[0m \u001b[0mcbook\u001b[0m\u001b[0;34m.\u001b[0m\u001b[0m_setattr_cm\u001b[0m\u001b[0;34m(\u001b[0m\u001b[0mself\u001b[0m\u001b[0;34m,\u001b[0m \u001b[0meventson\u001b[0m\u001b[0;34m=\u001b[0m\u001b[0;32mFalse\u001b[0m\u001b[0;34m)\u001b[0m\u001b[0;34m:\u001b[0m\u001b[0;34m\u001b[0m\u001b[0;34m\u001b[0m\u001b[0m\n\u001b[0m\u001b[1;32m   1056\u001b[0m             \u001b[0;32mfor\u001b[0m \u001b[0mk\u001b[0m\u001b[0;34m,\u001b[0m \u001b[0mv\u001b[0m \u001b[0;32min\u001b[0m \u001b[0mprops\u001b[0m\u001b[0;34m.\u001b[0m\u001b[0mitems\u001b[0m\u001b[0;34m(\u001b[0m\u001b[0;34m)\u001b[0m\u001b[0;34m:\u001b[0m\u001b[0;34m\u001b[0m\u001b[0;34m\u001b[0m\u001b[0m\n\u001b[1;32m   1057\u001b[0m                 \u001b[0;31m# Allow attributes we want to be able to update through\u001b[0m\u001b[0;34m\u001b[0m\u001b[0;34m\u001b[0m\u001b[0m\n",
      "\u001b[0;32m/usr/local/Cellar/python@3.9/3.9.13_1/Frameworks/Python.framework/Versions/3.9/lib/python3.9/contextlib.py\u001b[0m in \u001b[0;36m__enter__\u001b[0;34m(self)\u001b[0m\n\u001b[1;32m    112\u001b[0m     \u001b[0;34m\"\"\"Helper for @contextmanager decorator.\"\"\"\u001b[0m\u001b[0;34m\u001b[0m\u001b[0;34m\u001b[0m\u001b[0m\n\u001b[1;32m    113\u001b[0m \u001b[0;34m\u001b[0m\u001b[0m\n\u001b[0;32m--> 114\u001b[0;31m     \u001b[0;32mdef\u001b[0m \u001b[0m__enter__\u001b[0m\u001b[0;34m(\u001b[0m\u001b[0mself\u001b[0m\u001b[0;34m)\u001b[0m\u001b[0;34m:\u001b[0m\u001b[0;34m\u001b[0m\u001b[0;34m\u001b[0m\u001b[0m\n\u001b[0m\u001b[1;32m    115\u001b[0m         \u001b[0;31m# do not keep args and kwds alive unnecessarily\u001b[0m\u001b[0;34m\u001b[0m\u001b[0;34m\u001b[0m\u001b[0m\n\u001b[1;32m    116\u001b[0m         \u001b[0;31m# they are only needed for recreation, which is not possible anymore\u001b[0m\u001b[0;34m\u001b[0m\u001b[0;34m\u001b[0m\u001b[0m\n",
      "\u001b[0;31mKeyboardInterrupt\u001b[0m: "
     ]
    }
   ],
   "source": []
  }
 ],
 "metadata": {
  "kernelspec": {
   "display_name": "Python 3.9.13 ('.venv': venv)",
   "language": "python",
   "name": "python3"
  },
  "language_info": {
   "codemirror_mode": {
    "name": "ipython",
    "version": 3
   },
   "file_extension": ".py",
   "mimetype": "text/x-python",
   "name": "python",
   "nbconvert_exporter": "python",
   "pygments_lexer": "ipython3",
   "version": "3.9.13"
  },
  "orig_nbformat": 4,
  "vscode": {
   "interpreter": {
    "hash": "4f98144d13f37af76b105dd8b0b0bc479decc1b19acf8c8b674f5710223be2e7"
   }
  }
 },
 "nbformat": 4,
 "nbformat_minor": 2
}
