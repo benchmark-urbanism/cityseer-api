{
 "cells": [
  {
   "cell_type": "markdown",
   "metadata": {
    "collapsed": false,
    "pycharm": {
     "name": "#%% md\n"
    }
   },
   "source": [
    "# Centrality computation example for inner London"
   ]
  },
  {
   "cell_type": "code",
   "execution_count": 1,
   "metadata": {},
   "outputs": [
    {
     "name": "stdout",
     "output_type": "stream",
     "text": [
      "Requirement already satisfied: cityseer in /Users/gareth/dev/cityseer-api/__pypackages__/3.10/lib (2.0.0b1)\n",
      "Requirement already satisfied: networkx>=2.7.1 in /Users/gareth/dev/cityseer-api/__pypackages__/3.10/lib (from cityseer) (2.8.4)\n",
      "Requirement already satisfied: tqdm>=4.63.1 in /opt/homebrew/lib/python3.10/site-packages (from cityseer) (4.64.0)\n",
      "Requirement already satisfied: pyproj>=3.3.0 in /Users/gareth/dev/cityseer-api/__pypackages__/3.10/lib (from cityseer) (3.3.1)\n",
      "Requirement already satisfied: shapely>=1.8.2 in /opt/homebrew/lib/python3.10/site-packages (from cityseer) (1.8.2)\n",
      "Requirement already satisfied: requests>=2.27.1 in /Users/gareth/dev/cityseer-api/__pypackages__/3.10/lib (from cityseer) (2.28.0)\n",
      "Requirement already satisfied: numba>=0.55.2 in /opt/homebrew/lib/python3.10/site-packages (from cityseer) (0.55.2)\n",
      "Requirement already satisfied: utm>=0.7.0 in /opt/homebrew/lib/python3.10/site-packages (from cityseer) (0.7.0)\n",
      "Requirement already satisfied: numba-progress>=0.0.3 in /opt/homebrew/lib/python3.10/site-packages (from cityseer) (0.0.3)\n",
      "Requirement already satisfied: scikit-learn>=1.0.2 in /opt/homebrew/lib/python3.10/site-packages (from cityseer) (1.1.1)\n",
      "Requirement already satisfied: matplotlib>=3.5.1 in /Users/gareth/dev/cityseer-api/__pypackages__/3.10/lib (from cityseer) (3.5.2)\n",
      "Requirement already satisfied: numpy>=1.22.4 in /opt/homebrew/lib/python3.10/site-packages (from cityseer) (1.22.4)\n",
      "Requirement already satisfied: fonttools>=4.22.0 in /Users/gareth/dev/cityseer-api/__pypackages__/3.10/lib (from matplotlib>=3.5.1->cityseer) (4.33.3)\n",
      "Requirement already satisfied: cycler>=0.10 in /Users/gareth/dev/cityseer-api/__pypackages__/3.10/lib (from matplotlib>=3.5.1->cityseer) (0.11.0)\n",
      "Requirement already satisfied: kiwisolver>=1.0.1 in /Users/gareth/dev/cityseer-api/__pypackages__/3.10/lib (from matplotlib>=3.5.1->cityseer) (1.4.2)\n",
      "Requirement already satisfied: pyparsing>=2.2.1 in /opt/homebrew/lib/python3.10/site-packages (from matplotlib>=3.5.1->cityseer) (3.0.9)\n",
      "Requirement already satisfied: pillow>=6.2.0 in /Users/gareth/dev/cityseer-api/__pypackages__/3.10/lib (from matplotlib>=3.5.1->cityseer) (9.1.1)\n",
      "Requirement already satisfied: python-dateutil>=2.7 in /opt/homebrew/lib/python3.10/site-packages (from matplotlib>=3.5.1->cityseer) (2.8.2)\n",
      "Requirement already satisfied: packaging>=20.0 in /opt/homebrew/lib/python3.10/site-packages (from matplotlib>=3.5.1->cityseer) (21.3)\n",
      "Requirement already satisfied: setuptools in /opt/homebrew/lib/python3.10/site-packages (from numba>=0.55.2->cityseer) (60.10.0)\n",
      "Requirement already satisfied: llvmlite<0.39,>=0.38.0rc1 in /opt/homebrew/lib/python3.10/site-packages (from numba>=0.55.2->cityseer) (0.38.1)\n",
      "Requirement already satisfied: certifi in /Users/gareth/dev/cityseer-api/__pypackages__/3.10/lib (from pyproj>=3.3.0->cityseer) (2022.5.18.1)\n",
      "Requirement already satisfied: charset-normalizer~=2.0.0 in /Users/gareth/dev/cityseer-api/__pypackages__/3.10/lib (from requests>=2.27.1->cityseer) (2.0.12)\n",
      "Requirement already satisfied: urllib3<1.27,>=1.21.1 in /opt/homebrew/lib/python3.10/site-packages (from requests>=2.27.1->cityseer) (1.26.9)\n",
      "Requirement already satisfied: idna<4,>=2.5 in /Users/gareth/dev/cityseer-api/__pypackages__/3.10/lib (from requests>=2.27.1->cityseer) (3.3)\n",
      "Requirement already satisfied: threadpoolctl>=2.0.0 in /opt/homebrew/lib/python3.10/site-packages (from scikit-learn>=1.0.2->cityseer) (3.1.0)\n",
      "Requirement already satisfied: scipy>=1.3.2 in /opt/homebrew/lib/python3.10/site-packages (from scikit-learn>=1.0.2->cityseer) (1.8.1)\n",
      "Requirement already satisfied: joblib>=1.0.0 in /opt/homebrew/lib/python3.10/site-packages (from scikit-learn>=1.0.2->cityseer) (1.1.0)\n",
      "Requirement already satisfied: six>=1.5 in /opt/homebrew/lib/python3.10/site-packages (from python-dateutil>=2.7->matplotlib>=3.5.1->cityseer) (1.16.0)\n",
      "Note: you may need to restart the kernel to use updated packages.\n"
     ]
    }
   ],
   "source": [
    "%matplotlib inline\n",
    "%pip install cityseer"
   ]
  },
  {
   "cell_type": "markdown",
   "metadata": {
    "jupyter": {
     "outputs_hidden": true
    }
   },
   "source": [
    "## Data and graph cleaning\n",
    "\n",
    "This example will make use of OSM data downloaded from the [OSM API](https://wiki.openstreetmap.org/wiki/API) for a 5000m radius around London Soho.\n",
    "\n",
    "For additional information on network preparation, see the corresponding notebook on [graph cleaning](https://colab.research.google.com/github/cityseer/cityseer/blob/master/demos/graph_cleaning.ipynb)."
   ]
  },
  {
   "cell_type": "code",
   "execution_count": 2,
   "metadata": {
    "pycharm": {
     "name": "#%%\n"
    }
   },
   "outputs": [
    {
     "name": "stderr",
     "output_type": "stream",
     "text": [
      "INFO:cityseer.tools.graphs:Converting networkX graph from WGS to UTM.\n",
      "INFO:cityseer.tools.graphs:Processing node x, y coordinates.\n",
      "100%|██████████| 142110/142110 [00:03<00:00, 43819.92it/s]\n",
      "INFO:cityseer.tools.graphs:Processing edge geom coordinates, if present.\n",
      "100%|██████████| 159914/159914 [00:00<00:00, 1953077.80it/s]\n"
     ]
    },
    {
     "data": {
      "text/plain": [
       "<Figure size 432x288 with 0 Axes>"
      ]
     },
     "metadata": {},
     "output_type": "display_data"
    }
   ],
   "source": [
    "import utm\n",
    "from shapely import geometry\n",
    "\n",
    "from cityseer.tools import graphs, mock\n",
    "\n",
    "# download from OSM - see docs if you want examples for how to use osmNx for this step\n",
    "lng, lat = -0.13396079424572427, 51.51371088849723\n",
    "G_utm = mock.make_buffered_osm_graph(lng, lat, 5000)"
   ]
  },
  {
   "cell_type": "code",
   "execution_count": 3,
   "metadata": {},
   "outputs": [
    {
     "name": "stderr",
     "output_type": "stream",
     "text": [
      "INFO:cityseer.tools.graphs:Generating simple (straight) edge geometries.\n",
      "100%|██████████| 159914/159914 [00:00<00:00, 175136.90it/s]\n",
      "INFO:cityseer.tools.graphs:Removing filler nodes.\n",
      "100%|██████████| 142110/142110 [00:06<00:00, 21335.83it/s]\n",
      "INFO:cityseer.tools.graphs:Removing dangling nodes.\n",
      "100%|██████████| 45773/45773 [00:00<00:00, 806101.11it/s]\n",
      "INFO:cityseer.tools.graphs:Removing filler nodes.\n",
      "100%|██████████| 41493/41493 [00:00<00:00, 134080.64it/s]\n",
      "INFO:cityseer.tools.graphs:Consolidating nodes.\n",
      "/Users/gareth/dev/cityseer-api/cityseer/tools/graphs.py:870: ShapelyDeprecationWarning: Setting custom attributes on geometry objects is deprecated, and will raise an AttributeError in Shapely 2.0\n",
      "  point_geom.nd_key = nd_key\n",
      "/Users/gareth/dev/cityseer-api/cityseer/tools/graphs.py:871: ShapelyDeprecationWarning: Setting custom attributes on geometry objects is deprecated, and will raise an AttributeError in Shapely 2.0\n",
      "  point_geom.degree = nx.degree(nx_multigraph, nd_key)\n",
      "100%|██████████| 38746/38746 [00:02<00:00, 18087.65it/s]\n",
      "INFO:cityseer.tools.graphs:Removing filler nodes.\n",
      "100%|██████████| 31746/31746 [00:00<00:00, 756272.58it/s]\n",
      "100%|██████████| 48645/48645 [00:00<00:00, 118739.26it/s]\n",
      "INFO:cityseer.tools.graphs:Splitting opposing edges.\n",
      "/Users/gareth/dev/cityseer-api/cityseer/tools/graphs.py:889: ShapelyDeprecationWarning: Setting custom attributes on geometry objects is deprecated, and will raise an AttributeError in Shapely 2.0\n",
      "  linestring.start_nd_key = start_nd_key\n",
      "/Users/gareth/dev/cityseer-api/cityseer/tools/graphs.py:890: ShapelyDeprecationWarning: Setting custom attributes on geometry objects is deprecated, and will raise an AttributeError in Shapely 2.0\n",
      "  linestring.end_nd_key = end_nd_key\n",
      "/Users/gareth/dev/cityseer-api/cityseer/tools/graphs.py:891: ShapelyDeprecationWarning: Setting custom attributes on geometry objects is deprecated, and will raise an AttributeError in Shapely 2.0\n",
      "  linestring.edge_idx = edge_idx\n",
      "100%|██████████| 31653/31653 [00:02<00:00, 13903.18it/s]\n",
      "100%|██████████| 50304/50304 [00:00<00:00, 437612.04it/s]\n",
      "INFO:cityseer.tools.graphs:Consolidating nodes.\n",
      "100%|██████████| 35759/35759 [00:02<00:00, 12846.39it/s]\n",
      "INFO:cityseer.tools.graphs:Removing filler nodes.\n",
      "100%|██████████| 25088/25088 [00:00<00:00, 206887.48it/s]\n",
      "100%|██████████| 40162/40162 [00:00<00:00, 47457.05it/s]\n"
     ]
    }
   ],
   "source": [
    "# simplify - this is not necessary if using \"clean\" graph sources - e.g. OS Open Roads\n",
    "G = graphs.nx_simple_geoms(G_utm)\n",
    "G = graphs.nx_remove_filler_nodes(G)\n",
    "G = graphs.nx_remove_dangling_nodes(G, despine=20, remove_disconnected=True)\n",
    "G = graphs.nx_remove_filler_nodes(G)\n",
    "G1 = graphs.nx_consolidate_nodes(G, buffer_dist=10, min_node_group=3)\n",
    "G2 = graphs.nx_split_opposing_geoms(G1, buffer_dist=15)\n",
    "G3 = graphs.nx_consolidate_nodes(G2, buffer_dist=15, crawl=False, min_node_degree=2, cent_min_degree=4)"
   ]
  },
  {
   "cell_type": "code",
   "execution_count": 4,
   "metadata": {
    "collapsed": false,
    "pycharm": {
     "name": "#%%\n"
    }
   },
   "outputs": [
    {
     "name": "stderr",
     "output_type": "stream",
     "text": [
      "INFO:cityseer.tools.graphs:Decomposing graph to maximum edge lengths of 25.\n",
      "100%|██████████| 35477/35477 [00:07<00:00, 4545.98it/s]\n",
      "INFO:cityseer.tools.graphs:Preparing node and edge arrays from networkX graph.\n",
      "100%|██████████| 90445/90445 [00:00<00:00, 1011022.46it/s]\n",
      "100%|██████████| 90445/90445 [00:07<00:00, 11432.87it/s]\n",
      "INFO:cityseer.metrics.networks:Computing node_beta, node_betweenness centrality measures using shortest (non-angular) path heuristic.\n"
     ]
    },
    {
     "data": {
      "application/vnd.jupyter.widget-view+json": {
       "model_id": "b6f0d6a0b03e47459748dcded70a43e9",
       "version_major": 2,
       "version_minor": 0
      },
      "text/plain": [
       "  0%|          | 0/90445 [00:00<?, ?it/s]"
      ]
     },
     "metadata": {},
     "output_type": "display_data"
    },
    {
     "name": "stderr",
     "output_type": "stream",
     "text": [
      "/Users/gareth/dev/cityseer-api/cityseer/algos/centrality.py:321: NumbaWarning: Cannot cache compiled function \"shortest_path_tree\" as it uses dynamic globals (such as ctypes pointers and large global arrays)\n",
      "  tree_map = shortest_path_tree(\n",
      "/Users/gareth/dev/cityseer-api/cityseer/algos/centrality.py:321: NumbaTypeSafetyWarning: unsafe cast from uint64 to int64. Precision may be lost.\n",
      "  tree_map = shortest_path_tree(\n",
      "/Users/gareth/dev/cityseer-api/cityseer/algos/centrality.py:321: NumbaWarning: Cannot cache compiled function \"shortest_path_tree\" as it uses dynamic globals (such as ctypes pointers and large global arrays)\n",
      "  tree_map = shortest_path_tree(\n",
      "OMP: Info #273: omp_set_nested routine deprecated, please use omp_set_max_active_levels instead.\n",
      "/Users/gareth/dev/cityseer-api/cityseer/algos/centrality.py:237: NumbaWarning: Cannot cache compiled function \"local_node_centrality\" as it uses dynamic globals (such as ctypes pointers and large global arrays)\n",
      "  @njit(cache=True, fastmath=config.FASTMATH, nogil=True, parallel=False)\n"
     ]
    },
    {
     "ename": "",
     "evalue": "",
     "output_type": "error",
     "traceback": [
      "\u001b[1;31mFailed to interrupt the Kernel. \n",
      "The Jupyter notebook server failed to launch in time. \n",
      "View Jupyter <a href='command:jupyter.viewOutput'>log</a> for further details."
     ]
    }
   ],
   "source": [
    "from cityseer.metrics import networks\n",
    "\n",
    "# decompose for higher resolution analysis\n",
    "G_decomp = graphs.nx_decompose(G3, 25)\n",
    "# create a cityseer network layer\n",
    "N = networks.NetworkLayerFromNX(G_decomp, distances=[250, 500, 2000])\n",
    "# calculate centralities\n",
    "# it is quicker to run this analysis on a machine with multiple cores due to the area and resolution of the analysis\n",
    "# e.g. 8 core 4.2GHz machine ~ 10 minutes\n",
    "# if you want to compute wider area centralities, e.g. 20km, then use less decomposition to speed up the computation\n",
    "N.node_centrality(measures=[\"node_beta\", \"node_betweenness\"])"
   ]
  },
  {
   "cell_type": "code",
   "execution_count": null,
   "metadata": {
    "collapsed": false,
    "pycharm": {
     "name": "#%%\n"
    }
   },
   "outputs": [],
   "source": [
    "# data can be extracted, plotted, or otherwise manipulated directly from the numpy arrays\n",
    "# see the getting started guide if you'd prefer to first convert back to NetworkX\n",
    "import matplotlib.pyplot as plt\n",
    "import numpy as np\n",
    "from sklearn.preprocessing import minmax_scale\n",
    "\n",
    "\n",
    "def simple_plot(xs: np.ndarray, ys: np.ndarray, vals: np.ndarray):\n",
    "    \"\"\" \"\"\"\n",
    "    # extents\n",
    "    easting, northing = utm.from_latlon(lat, lng)[:2]\n",
    "    buff = geometry.Point(easting, northing).buffer(3500)\n",
    "    min_x, min_y, max_x, max_y = buff.bounds\n",
    "    # fig\n",
    "    fig, ax = plt.subplots(1, 1, figsize=(8, 8), dpi=200, facecolor=\"white\")\n",
    "    # filter\n",
    "    select = xs > min_x\n",
    "    select = np.logical_and(select, xs < max_x)\n",
    "    select = np.logical_and(select, ys > min_y)\n",
    "    select = np.logical_and(select, ys < max_y)\n",
    "    select_idx = np.where(select)[0]\n",
    "    # remove any extreme outliers\n",
    "    v = np.clip(vals, np.nanpercentile(vals, 0.01), np.nanpercentile(vals, 99.9))\n",
    "    # shape if wanted\n",
    "    c = v**1\n",
    "    c = minmax_scale(c, feature_range=(0, 1))\n",
    "    s = v**1.5\n",
    "    s = minmax_scale(s, feature_range=(0, 1.5))\n",
    "    # plot\n",
    "    ax.scatter(\n",
    "        xs[select_idx], ys[select_idx], c=c[select_idx], s=s[select_idx], linewidths=0, edgecolors=\"none\", cmap=\"Reds\"\n",
    "    )\n",
    "    # limits\n",
    "    ax.set_xlim(left=min_x, right=max_x)\n",
    "    ax.set_ylim(bottom=min_y, top=max_y)\n",
    "    ax.set_xticks([])\n",
    "    ax.set_yticks([])\n",
    "    ax.set_aspect(1)\n",
    "    ax.set_facecolor(\"white\")\n",
    "    plt.show()"
   ]
  },
  {
   "cell_type": "code",
   "execution_count": null,
   "metadata": {
    "collapsed": false,
    "pycharm": {
     "name": "#%%\n"
    }
   },
   "outputs": [],
   "source": [
    "for d in [250, 500, 2000]:\n",
    "    b = networks.beta_from_distance(d)[0]\n",
    "    avg_d = networks.avg_distance_for_beta(b)[0]\n",
    "    print(\n",
    "        f\"\"\"\n",
    "    \"Gravity\" index / spatial impedance weighted (closeness-like) centrality:\n",
    "    Avg walking tolerance: {avg_d:.2f}m\n",
    "    Beta: {b} (spatial impedance factor)\n",
    "    Max walking tolerance: {d}m\n",
    "    \"\"\"\n",
    "    )\n",
    "    simple_plot(N.node_x_arr, N.node_y_arr, N.metrics[\"centrality\"][\"node_beta\"][d])\n",
    "\n",
    "for d in [250, 500, 2000]:\n",
    "    print(\n",
    "        f\"\"\"\n",
    "    Spatial impedance weighted betweenness centrality:\n",
    "    Avg walking tolerance: {avg_d:.2f}m\n",
    "    Beta: {b} (spatial impedance factor)\n",
    "    Max walking tolerance: {d}m\n",
    "    \"\"\"\n",
    "    )\n",
    "    simple_plot(N.node_x_arr, N.node_y_arr, N.metrics[\"centrality\"][\"node_betweenness\"][d])"
   ]
  },
  {
   "cell_type": "code",
   "execution_count": null,
   "metadata": {
    "collapsed": false,
    "pycharm": {
     "name": "#%%\n"
    }
   },
   "outputs": [],
   "source": []
  }
 ],
 "metadata": {
  "kernelspec": {
   "display_name": "Python 3.10.4 64-bit",
   "language": "python",
   "name": "python3"
  },
  "language_info": {
   "codemirror_mode": {
    "name": "ipython",
    "version": 3
   },
   "file_extension": ".py",
   "mimetype": "text/x-python",
   "name": "python",
   "nbconvert_exporter": "python",
   "pygments_lexer": "ipython3",
   "version": "3.10.4"
  },
  "vscode": {
   "interpreter": {
    "hash": "b0fa6594d8f4cbf19f97940f81e996739fb7646882a419484c72d19e05852a7e"
   }
  }
 },
 "nbformat": 4,
 "nbformat_minor": 4
}
