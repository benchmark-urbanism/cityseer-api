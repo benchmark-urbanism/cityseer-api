{
 "cells": [
  {
   "cell_type": "markdown",
   "metadata": {},
   "source": [
    "# Pub accessibility for Inner London"
   ]
  },
  {
   "cell_type": "markdown",
   "metadata": {},
   "source": [
    "`matplotlib` magic command (only necessary for `jupyter` notebooks). \n",
    "\n",
    "Install and update `cityseer` if necessary."
   ]
  },
  {
   "cell_type": "code",
   "execution_count": 1,
   "metadata": {},
   "outputs": [
    {
     "name": "stdout",
     "output_type": "stream",
     "text": [
      "Requirement already satisfied: cityseer in /opt/homebrew/lib/python3.10/site-packages (2.0.0)\n",
      "Requirement already satisfied: numba>=0.55.2 in /opt/homebrew/lib/python3.10/site-packages (from cityseer) (0.55.2)\n",
      "Requirement already satisfied: numpy>=1.22.4 in /opt/homebrew/lib/python3.10/site-packages (from cityseer) (1.22.4)\n",
      "Requirement already satisfied: requests>=2.27.1 in /opt/homebrew/lib/python3.10/site-packages (from cityseer) (2.28.0)\n",
      "Requirement already satisfied: networkx>=2.7.1 in /opt/homebrew/lib/python3.10/site-packages (from cityseer) (2.8.4)\n",
      "Requirement already satisfied: pyproj>=3.3.0 in /opt/homebrew/lib/python3.10/site-packages (from cityseer) (3.3.1)\n",
      "Requirement already satisfied: utm>=0.7.0 in /opt/homebrew/lib/python3.10/site-packages (from cityseer) (0.7.0)\n",
      "Requirement already satisfied: scikit-learn>=1.0.2 in /opt/homebrew/lib/python3.10/site-packages (from cityseer) (1.1.1)\n",
      "Requirement already satisfied: tqdm>=4.63.1 in /opt/homebrew/lib/python3.10/site-packages (from cityseer) (4.64.0)\n",
      "Requirement already satisfied: numba-progress>=0.0.3 in /opt/homebrew/lib/python3.10/site-packages (from cityseer) (0.0.3)\n",
      "Requirement already satisfied: shapely>=1.8.2 in /opt/homebrew/lib/python3.10/site-packages (from cityseer) (1.8.2)\n",
      "Requirement already satisfied: matplotlib>=3.5.1 in /opt/homebrew/lib/python3.10/site-packages (from cityseer) (3.5.2)\n",
      "Requirement already satisfied: pyparsing>=2.2.1 in /opt/homebrew/lib/python3.10/site-packages (from matplotlib>=3.5.1->cityseer) (3.0.9)\n",
      "Requirement already satisfied: fonttools>=4.22.0 in /opt/homebrew/lib/python3.10/site-packages (from matplotlib>=3.5.1->cityseer) (4.33.3)\n",
      "Requirement already satisfied: pillow>=6.2.0 in /opt/homebrew/lib/python3.10/site-packages (from matplotlib>=3.5.1->cityseer) (9.1.1)\n",
      "Requirement already satisfied: packaging>=20.0 in /opt/homebrew/lib/python3.10/site-packages (from matplotlib>=3.5.1->cityseer) (21.3)\n",
      "Requirement already satisfied: kiwisolver>=1.0.1 in /opt/homebrew/lib/python3.10/site-packages (from matplotlib>=3.5.1->cityseer) (1.4.3)\n",
      "Requirement already satisfied: python-dateutil>=2.7 in /opt/homebrew/lib/python3.10/site-packages (from matplotlib>=3.5.1->cityseer) (2.8.2)\n",
      "Requirement already satisfied: cycler>=0.10 in /opt/homebrew/lib/python3.10/site-packages (from matplotlib>=3.5.1->cityseer) (0.11.0)\n",
      "Requirement already satisfied: llvmlite<0.39,>=0.38.0rc1 in /opt/homebrew/lib/python3.10/site-packages (from numba>=0.55.2->cityseer) (0.38.1)\n",
      "Requirement already satisfied: setuptools in /opt/homebrew/lib/python3.10/site-packages (from numba>=0.55.2->cityseer) (60.10.0)\n",
      "Requirement already satisfied: certifi in /opt/homebrew/lib/python3.10/site-packages (from pyproj>=3.3.0->cityseer) (2022.6.15)\n",
      "Requirement already satisfied: urllib3<1.27,>=1.21.1 in /opt/homebrew/lib/python3.10/site-packages (from requests>=2.27.1->cityseer) (1.26.9)\n",
      "Requirement already satisfied: idna<4,>=2.5 in /opt/homebrew/lib/python3.10/site-packages (from requests>=2.27.1->cityseer) (3.3)\n",
      "Requirement already satisfied: charset-normalizer~=2.0.0 in /opt/homebrew/lib/python3.10/site-packages (from requests>=2.27.1->cityseer) (2.0.12)\n",
      "Requirement already satisfied: scipy>=1.3.2 in /opt/homebrew/lib/python3.10/site-packages (from scikit-learn>=1.0.2->cityseer) (1.8.1)\n",
      "Requirement already satisfied: threadpoolctl>=2.0.0 in /opt/homebrew/lib/python3.10/site-packages (from scikit-learn>=1.0.2->cityseer) (3.1.0)\n",
      "Requirement already satisfied: joblib>=1.0.0 in /opt/homebrew/lib/python3.10/site-packages (from scikit-learn>=1.0.2->cityseer) (1.1.0)\n",
      "Requirement already satisfied: six>=1.5 in /opt/homebrew/lib/python3.10/site-packages (from python-dateutil>=2.7->matplotlib>=3.5.1->cityseer) (1.16.0)\n"
     ]
    }
   ],
   "source": [
    "%matplotlib inline\n",
    "!pip install --upgrade cityseer"
   ]
  },
  {
   "cell_type": "markdown",
   "metadata": {
    "collapsed": true,
    "pycharm": {
     "name": "#%% md\n"
    }
   },
   "source": [
    "## Data and preparation\n",
    "\n",
    "> Pubs (data provided by CAMRA in January 2019)\n",
    "> https://data.london.gov.uk/download/cultural-infrastructure-map/7e6b0f36-da01-4029-99d7-640d89c4a0a4/Pubs.csv\n",
    "> Buildings defined by CAMRA as pubs. Licensed premises must be open to and welcome the general public without requiring membership or residency, allow free entry (1), serve at least one draught beer (2), allow drinking without requiring food to be consumed, have at least one indoor area not laid out for meals, and permit drinks to be purchased in person at a bar (3), without relying on table service.’ (1) Except when entertainment is provided on limited occasions (2) Includes cask or keg beer (3) Includes also a hatch or specific service point’\n",
    "> How data was compiled: Data provided by the Campaign for Real Ale.\n",
    "> Credit for use: The Campaign for Real Ale\n",
    "\n",
    "This examples calculates landuse accessibility to pubs for inner London.\n",
    "\n",
    "For additional information on network preparation, see the corresponding notebook on [graph cleaning](https://colab.research.google.com/github/cityseer/cityseer/blob/master/demos/graph_cleaning.ipynb).\n",
    "\n",
    "This example will make use of OSM data downloaded from the [OSM API](https://wiki.openstreetmap.org/wiki/API) for a 5000m radius around London Soho."
   ]
  },
  {
   "cell_type": "code",
   "execution_count": 2,
   "metadata": {
    "collapsed": false,
    "pycharm": {
     "name": "#%%\n"
    }
   },
   "outputs": [
    {
     "name": "stderr",
     "output_type": "stream",
     "text": [
      "/Users/gareth/dev/cityseer-api/__pypackages__/3.9/lib/geopandas/_compat.py:112: UserWarning: The Shapely GEOS version (3.10.2-CAPI-1.16.0) is incompatible with the GEOS version PyGEOS was compiled with (3.10.1-CAPI-1.16.0). Conversions between both will be slow.\n",
      "  warnings.warn(\n"
     ]
    },
    {
     "ename": "KeyboardInterrupt",
     "evalue": "",
     "output_type": "error",
     "traceback": [
      "\u001b[0;31m---------------------------------------------------------------------------\u001b[0m",
      "\u001b[0;31mKeyboardInterrupt\u001b[0m                         Traceback (most recent call last)",
      "\u001b[1;32m/Users/gareth/dev/cityseer-api/demos/london_pubs.ipynb Cell 5'\u001b[0m in \u001b[0;36m<cell line: 2>\u001b[0;34m()\u001b[0m\n\u001b[1;32m      <a href='vscode-notebook-cell:/Users/gareth/dev/cityseer-api/demos/london_pubs.ipynb#ch0000005?line=0'>1</a>\u001b[0m \u001b[39m# prepare network from OSM\u001b[39;00m\n\u001b[0;32m----> <a href='vscode-notebook-cell:/Users/gareth/dev/cityseer-api/demos/london_pubs.ipynb#ch0000005?line=1'>2</a>\u001b[0m \u001b[39mfrom\u001b[39;00m \u001b[39mcityseer\u001b[39;00m\u001b[39m.\u001b[39;00m\u001b[39mtools\u001b[39;00m \u001b[39mimport\u001b[39;00m graphs, mock\n\u001b[1;32m      <a href='vscode-notebook-cell:/Users/gareth/dev/cityseer-api/demos/london_pubs.ipynb#ch0000005?line=3'>4</a>\u001b[0m \u001b[39m# starting point\u001b[39;00m\n\u001b[1;32m      <a href='vscode-notebook-cell:/Users/gareth/dev/cityseer-api/demos/london_pubs.ipynb#ch0000005?line=4'>5</a>\u001b[0m lng, lat \u001b[39m=\u001b[39m \u001b[39m-\u001b[39m\u001b[39m0.13396079424572427\u001b[39m, \u001b[39m51.51371088849723\u001b[39m\n",
      "File \u001b[0;32m~/dev/cityseer-api/cityseer/__init__.py:1\u001b[0m, in \u001b[0;36m<module>\u001b[0;34m\u001b[0m\n\u001b[0;32m----> 1\u001b[0m \u001b[39mfrom\u001b[39;00m \u001b[39mcityseer\u001b[39;00m \u001b[39mimport\u001b[39;00m algos, metrics, tools\n",
      "File \u001b[0;32m~/dev/cityseer-api/cityseer/metrics/__init__.py:1\u001b[0m, in \u001b[0;36m<module>\u001b[0;34m\u001b[0m\n\u001b[0;32m----> 1\u001b[0m \u001b[39mfrom\u001b[39;00m \u001b[39mcityseer\u001b[39;00m\u001b[39m.\u001b[39;00m\u001b[39mmetrics\u001b[39;00m \u001b[39mimport\u001b[39;00m layers, networks\n",
      "File \u001b[0;32m~/dev/cityseer-api/cityseer/metrics/layers.py:10\u001b[0m, in \u001b[0;36m<module>\u001b[0;34m\u001b[0m\n\u001b[1;32m      8\u001b[0m \u001b[39mimport\u001b[39;00m \u001b[39mnumpy\u001b[39;00m\u001b[39m.\u001b[39;00m\u001b[39mtyping\u001b[39;00m \u001b[39mas\u001b[39;00m \u001b[39mnpt\u001b[39;00m\n\u001b[1;32m      9\u001b[0m \u001b[39mfrom\u001b[39;00m \u001b[39mnumba_progress\u001b[39;00m \u001b[39mimport\u001b[39;00m ProgressBar  \u001b[39m# type: ignore\u001b[39;00m\n\u001b[0;32m---> 10\u001b[0m \u001b[39mfrom\u001b[39;00m \u001b[39msklearn\u001b[39;00m\u001b[39m.\u001b[39;00m\u001b[39mpreprocessing\u001b[39;00m \u001b[39mimport\u001b[39;00m LabelEncoder  \u001b[39m# type: ignore\u001b[39;00m\n\u001b[1;32m     12\u001b[0m \u001b[39mfrom\u001b[39;00m \u001b[39mcityseer\u001b[39;00m \u001b[39mimport\u001b[39;00m config, structures, types\n\u001b[1;32m     13\u001b[0m \u001b[39mfrom\u001b[39;00m \u001b[39mcityseer\u001b[39;00m\u001b[39m.\u001b[39;00m\u001b[39malgos\u001b[39;00m \u001b[39mimport\u001b[39;00m data\n",
      "File \u001b[0;32m~/dev/cityseer-api/__pypackages__/3.9/lib/sklearn/__init__.py:82\u001b[0m, in \u001b[0;36m<module>\u001b[0;34m\u001b[0m\n\u001b[1;32m     80\u001b[0m \u001b[39mfrom\u001b[39;00m \u001b[39m.\u001b[39;00m \u001b[39mimport\u001b[39;00m _distributor_init  \u001b[39m# noqa: F401\u001b[39;00m\n\u001b[1;32m     81\u001b[0m \u001b[39mfrom\u001b[39;00m \u001b[39m.\u001b[39;00m \u001b[39mimport\u001b[39;00m __check_build  \u001b[39m# noqa: F401\u001b[39;00m\n\u001b[0;32m---> 82\u001b[0m \u001b[39mfrom\u001b[39;00m \u001b[39m.\u001b[39;00m\u001b[39mbase\u001b[39;00m \u001b[39mimport\u001b[39;00m clone\n\u001b[1;32m     83\u001b[0m \u001b[39mfrom\u001b[39;00m \u001b[39m.\u001b[39;00m\u001b[39mutils\u001b[39;00m\u001b[39m.\u001b[39;00m\u001b[39m_show_versions\u001b[39;00m \u001b[39mimport\u001b[39;00m show_versions\n\u001b[1;32m     85\u001b[0m __all__ \u001b[39m=\u001b[39m [\n\u001b[1;32m     86\u001b[0m     \u001b[39m\"\u001b[39m\u001b[39mcalibration\u001b[39m\u001b[39m\"\u001b[39m,\n\u001b[1;32m     87\u001b[0m     \u001b[39m\"\u001b[39m\u001b[39mcluster\u001b[39m\u001b[39m\"\u001b[39m,\n\u001b[0;32m   (...)\u001b[0m\n\u001b[1;32m    128\u001b[0m     \u001b[39m\"\u001b[39m\u001b[39mshow_versions\u001b[39m\u001b[39m\"\u001b[39m,\n\u001b[1;32m    129\u001b[0m ]\n",
      "File \u001b[0;32m~/dev/cityseer-api/__pypackages__/3.9/lib/sklearn/base.py:17\u001b[0m, in \u001b[0;36m<module>\u001b[0;34m\u001b[0m\n\u001b[1;32m     15\u001b[0m \u001b[39mfrom\u001b[39;00m \u001b[39m.\u001b[39;00m \u001b[39mimport\u001b[39;00m __version__\n\u001b[1;32m     16\u001b[0m \u001b[39mfrom\u001b[39;00m \u001b[39m.\u001b[39;00m\u001b[39m_config\u001b[39;00m \u001b[39mimport\u001b[39;00m get_config\n\u001b[0;32m---> 17\u001b[0m \u001b[39mfrom\u001b[39;00m \u001b[39m.\u001b[39;00m\u001b[39mutils\u001b[39;00m \u001b[39mimport\u001b[39;00m _IS_32BIT\n\u001b[1;32m     18\u001b[0m \u001b[39mfrom\u001b[39;00m \u001b[39m.\u001b[39;00m\u001b[39mutils\u001b[39;00m\u001b[39m.\u001b[39;00m\u001b[39m_tags\u001b[39;00m \u001b[39mimport\u001b[39;00m (\n\u001b[1;32m     19\u001b[0m     _DEFAULT_TAGS,\n\u001b[1;32m     20\u001b[0m )\n\u001b[1;32m     21\u001b[0m \u001b[39mfrom\u001b[39;00m \u001b[39m.\u001b[39;00m\u001b[39mutils\u001b[39;00m\u001b[39m.\u001b[39;00m\u001b[39mvalidation\u001b[39;00m \u001b[39mimport\u001b[39;00m check_X_y\n",
      "File \u001b[0;32m~/dev/cityseer-api/__pypackages__/3.9/lib/sklearn/utils/__init__.py:26\u001b[0m, in \u001b[0;36m<module>\u001b[0;34m\u001b[0m\n\u001b[1;32m     24\u001b[0m \u001b[39mfrom\u001b[39;00m \u001b[39m.\u001b[39;00m\u001b[39mmurmurhash\u001b[39;00m \u001b[39mimport\u001b[39;00m murmurhash3_32\n\u001b[1;32m     25\u001b[0m \u001b[39mfrom\u001b[39;00m \u001b[39m.\u001b[39;00m\u001b[39mclass_weight\u001b[39;00m \u001b[39mimport\u001b[39;00m compute_class_weight, compute_sample_weight\n\u001b[0;32m---> 26\u001b[0m \u001b[39mfrom\u001b[39;00m \u001b[39m.\u001b[39;00m \u001b[39mimport\u001b[39;00m _joblib\n\u001b[1;32m     27\u001b[0m \u001b[39mfrom\u001b[39;00m \u001b[39m.\u001b[39;00m\u001b[39m.\u001b[39;00m\u001b[39mexceptions\u001b[39;00m \u001b[39mimport\u001b[39;00m DataConversionWarning\n\u001b[1;32m     28\u001b[0m \u001b[39mfrom\u001b[39;00m \u001b[39m.\u001b[39;00m\u001b[39mdeprecation\u001b[39;00m \u001b[39mimport\u001b[39;00m deprecated\n",
      "File \u001b[0;32m~/dev/cityseer-api/__pypackages__/3.9/lib/sklearn/utils/_joblib.py:7\u001b[0m, in \u001b[0;36m<module>\u001b[0;34m\u001b[0m\n\u001b[1;32m      4\u001b[0m _warnings\u001b[39m.\u001b[39msimplefilter(\u001b[39m\"\u001b[39m\u001b[39mignore\u001b[39m\u001b[39m\"\u001b[39m)\n\u001b[1;32m      5\u001b[0m \u001b[39m# joblib imports may raise DeprecationWarning on certain Python\u001b[39;00m\n\u001b[1;32m      6\u001b[0m \u001b[39m# versions\u001b[39;00m\n\u001b[0;32m----> 7\u001b[0m \u001b[39mimport\u001b[39;00m \u001b[39mjoblib\u001b[39;00m\n\u001b[1;32m      8\u001b[0m \u001b[39mfrom\u001b[39;00m \u001b[39mjoblib\u001b[39;00m \u001b[39mimport\u001b[39;00m logger\n\u001b[1;32m      9\u001b[0m \u001b[39mfrom\u001b[39;00m \u001b[39mjoblib\u001b[39;00m \u001b[39mimport\u001b[39;00m dump, load\n",
      "File \u001b[0;32m~/dev/cityseer-api/__pypackages__/3.9/lib/joblib/__init__.py:120\u001b[0m, in \u001b[0;36m<module>\u001b[0;34m\u001b[0m\n\u001b[1;32m    118\u001b[0m \u001b[39mfrom\u001b[39;00m \u001b[39m.\u001b[39;00m\u001b[39mnumpy_pickle\u001b[39;00m \u001b[39mimport\u001b[39;00m load\n\u001b[1;32m    119\u001b[0m \u001b[39mfrom\u001b[39;00m \u001b[39m.\u001b[39;00m\u001b[39mcompressor\u001b[39;00m \u001b[39mimport\u001b[39;00m register_compressor\n\u001b[0;32m--> 120\u001b[0m \u001b[39mfrom\u001b[39;00m \u001b[39m.\u001b[39;00m\u001b[39mparallel\u001b[39;00m \u001b[39mimport\u001b[39;00m Parallel\n\u001b[1;32m    121\u001b[0m \u001b[39mfrom\u001b[39;00m \u001b[39m.\u001b[39;00m\u001b[39mparallel\u001b[39;00m \u001b[39mimport\u001b[39;00m delayed\n\u001b[1;32m    122\u001b[0m \u001b[39mfrom\u001b[39;00m \u001b[39m.\u001b[39;00m\u001b[39mparallel\u001b[39;00m \u001b[39mimport\u001b[39;00m cpu_count\n",
      "File \u001b[0;32m~/dev/cityseer-api/__pypackages__/3.9/lib/joblib/parallel.py:26\u001b[0m, in \u001b[0;36m<module>\u001b[0;34m\u001b[0m\n\u001b[1;32m     24\u001b[0m \u001b[39mfrom\u001b[39;00m \u001b[39m.\u001b[39;00m\u001b[39mlogger\u001b[39;00m \u001b[39mimport\u001b[39;00m Logger, short_format_time\n\u001b[1;32m     25\u001b[0m \u001b[39mfrom\u001b[39;00m \u001b[39m.\u001b[39;00m\u001b[39mdisk\u001b[39;00m \u001b[39mimport\u001b[39;00m memstr_to_bytes\n\u001b[0;32m---> 26\u001b[0m \u001b[39mfrom\u001b[39;00m \u001b[39m.\u001b[39;00m\u001b[39m_parallel_backends\u001b[39;00m \u001b[39mimport\u001b[39;00m (FallbackToBackend, MultiprocessingBackend,\n\u001b[1;32m     27\u001b[0m                                  ThreadingBackend, SequentialBackend,\n\u001b[1;32m     28\u001b[0m                                  LokyBackend)\n\u001b[1;32m     29\u001b[0m \u001b[39mfrom\u001b[39;00m \u001b[39m.\u001b[39;00m\u001b[39mexternals\u001b[39;00m\u001b[39m.\u001b[39;00m\u001b[39mcloudpickle\u001b[39;00m \u001b[39mimport\u001b[39;00m dumps, loads\n\u001b[1;32m     30\u001b[0m \u001b[39mfrom\u001b[39;00m \u001b[39m.\u001b[39;00m\u001b[39mexternals\u001b[39;00m \u001b[39mimport\u001b[39;00m loky\n",
      "File \u001b[0;32m~/dev/cityseer-api/__pypackages__/3.9/lib/joblib/_parallel_backends.py:17\u001b[0m, in \u001b[0;36m<module>\u001b[0;34m\u001b[0m\n\u001b[1;32m     14\u001b[0m \u001b[39mfrom\u001b[39;00m \u001b[39m.\u001b[39;00m\u001b[39m_multiprocessing_helpers\u001b[39;00m \u001b[39mimport\u001b[39;00m mp\n\u001b[1;32m     16\u001b[0m \u001b[39mif\u001b[39;00m mp \u001b[39mis\u001b[39;00m \u001b[39mnot\u001b[39;00m \u001b[39mNone\u001b[39;00m:\n\u001b[0;32m---> 17\u001b[0m     \u001b[39mfrom\u001b[39;00m \u001b[39m.\u001b[39;00m\u001b[39mpool\u001b[39;00m \u001b[39mimport\u001b[39;00m MemmappingPool\n\u001b[1;32m     18\u001b[0m     \u001b[39mfrom\u001b[39;00m \u001b[39mmultiprocessing\u001b[39;00m\u001b[39m.\u001b[39;00m\u001b[39mpool\u001b[39;00m \u001b[39mimport\u001b[39;00m ThreadPool\n\u001b[1;32m     19\u001b[0m     \u001b[39mfrom\u001b[39;00m \u001b[39m.\u001b[39;00m\u001b[39mexecutor\u001b[39;00m \u001b[39mimport\u001b[39;00m get_memmapping_executor\n",
      "File \u001b[0;32m~/dev/cityseer-api/__pypackages__/3.9/lib/joblib/pool.py:31\u001b[0m, in \u001b[0;36m<module>\u001b[0;34m\u001b[0m\n\u001b[1;32m     28\u001b[0m \u001b[39mfrom\u001b[39;00m \u001b[39mpickle\u001b[39;00m \u001b[39mimport\u001b[39;00m HIGHEST_PROTOCOL\n\u001b[1;32m     29\u001b[0m \u001b[39mfrom\u001b[39;00m \u001b[39mio\u001b[39;00m \u001b[39mimport\u001b[39;00m BytesIO\n\u001b[0;32m---> 31\u001b[0m \u001b[39mfrom\u001b[39;00m \u001b[39m.\u001b[39;00m\u001b[39m_memmapping_reducer\u001b[39;00m \u001b[39mimport\u001b[39;00m get_memmapping_reducers\n\u001b[1;32m     32\u001b[0m \u001b[39mfrom\u001b[39;00m \u001b[39m.\u001b[39;00m\u001b[39m_memmapping_reducer\u001b[39;00m \u001b[39mimport\u001b[39;00m TemporaryResourcesManager\n\u001b[1;32m     33\u001b[0m \u001b[39mfrom\u001b[39;00m \u001b[39m.\u001b[39;00m\u001b[39m_multiprocessing_helpers\u001b[39;00m \u001b[39mimport\u001b[39;00m mp, assert_spawning\n",
      "File \u001b[0;32m~/dev/cityseer-api/__pypackages__/3.9/lib/joblib/_memmapping_reducer.py:37\u001b[0m, in \u001b[0;36m<module>\u001b[0;34m\u001b[0m\n\u001b[1;32m     35\u001b[0m \u001b[39mfrom\u001b[39;00m \u001b[39m.\u001b[39;00m\u001b[39mbackports\u001b[39;00m \u001b[39mimport\u001b[39;00m make_memmap\n\u001b[1;32m     36\u001b[0m \u001b[39mfrom\u001b[39;00m \u001b[39m.\u001b[39;00m\u001b[39mdisk\u001b[39;00m \u001b[39mimport\u001b[39;00m delete_folder\n\u001b[0;32m---> 37\u001b[0m \u001b[39mfrom\u001b[39;00m \u001b[39m.\u001b[39;00m\u001b[39mexternals\u001b[39;00m\u001b[39m.\u001b[39;00m\u001b[39mloky\u001b[39;00m\u001b[39m.\u001b[39;00m\u001b[39mbackend\u001b[39;00m \u001b[39mimport\u001b[39;00m resource_tracker\n\u001b[1;32m     39\u001b[0m \u001b[39m# Some system have a ramdisk mounted by default, we can use it instead of /tmp\u001b[39;00m\n\u001b[1;32m     40\u001b[0m \u001b[39m# as the default folder to dump big arrays to share with subprocesses.\u001b[39;00m\n\u001b[1;32m     41\u001b[0m SYSTEM_SHARED_MEM_FS \u001b[39m=\u001b[39m \u001b[39m'\u001b[39m\u001b[39m/dev/shm\u001b[39m\u001b[39m'\u001b[39m\n",
      "File \u001b[0;32m~/dev/cityseer-api/__pypackages__/3.9/lib/joblib/externals/loky/__init__.py:6\u001b[0m, in \u001b[0;36m<module>\u001b[0;34m\u001b[0m\n\u001b[1;32m      1\u001b[0m \u001b[39mr\u001b[39m\u001b[39m\"\"\"The :mod:`loky` module manages a pool of worker that can be re-used across time.\u001b[39;00m\n\u001b[1;32m      2\u001b[0m \u001b[39mIt provides a robust and dynamic implementation os the\u001b[39;00m\n\u001b[1;32m      3\u001b[0m \u001b[39m:class:`ProcessPoolExecutor` and a function :func:`get_reusable_executor` which\u001b[39;00m\n\u001b[1;32m      4\u001b[0m \u001b[39mhide the pool management under the hood.\u001b[39;00m\n\u001b[1;32m      5\u001b[0m \u001b[39m\"\"\"\u001b[39;00m\n\u001b[0;32m----> 6\u001b[0m \u001b[39mfrom\u001b[39;00m \u001b[39m.\u001b[39;00m\u001b[39m_base\u001b[39;00m \u001b[39mimport\u001b[39;00m Executor, Future\n\u001b[1;32m      7\u001b[0m \u001b[39mfrom\u001b[39;00m \u001b[39m.\u001b[39;00m\u001b[39m_base\u001b[39;00m \u001b[39mimport\u001b[39;00m wait, as_completed\n\u001b[1;32m      8\u001b[0m \u001b[39mfrom\u001b[39;00m \u001b[39m.\u001b[39;00m\u001b[39m_base\u001b[39;00m \u001b[39mimport\u001b[39;00m \u001b[39mTimeoutError\u001b[39;00m, CancelledError\n",
      "File \u001b[0;32m<frozen importlib._bootstrap>:1007\u001b[0m, in \u001b[0;36m_find_and_load\u001b[0;34m(name, import_)\u001b[0m\n",
      "File \u001b[0;32m<frozen importlib._bootstrap>:992\u001b[0m, in \u001b[0;36m_find_and_load_unlocked\u001b[0;34m(name, import_)\u001b[0m\n",
      "\u001b[0;31mKeyboardInterrupt\u001b[0m: "
     ]
    }
   ],
   "source": [
    "# prepare network from OSM\n",
    "from cityseer.tools import graphs, mock\n",
    "\n",
    "# starting point\n",
    "lng, lat = -0.13396079424572427, 51.51371088849723\n",
    "distance = 5000\n",
    "# download from OSM - see docs if you want examples for how to use osmNx for this step\n",
    "G_utm = mock.make_buffered_osm_graph(lng, lat, distance)\n",
    "# simplify - this is not necessary if using \"clean\" graph sources - e.g. OS Open Roads\n",
    "G = graphs.nx_simple_geoms(G_utm)\n",
    "G = graphs.nx_remove_filler_nodes(G)\n",
    "G = graphs.nx_remove_dangling_nodes(G, despine=20, remove_disconnected=True)\n",
    "G = graphs.nx_remove_filler_nodes(G)\n",
    "G1 = graphs.nx_consolidate_nodes(G, buffer_dist=10, min_node_group=3)\n",
    "G2 = graphs.nx_split_opposing_geoms(G1, buffer_dist=15)\n",
    "G3 = graphs.nx_consolidate_nodes(G2, buffer_dist=15, crawl=False, min_node_degree=2, cent_min_degree=4)\n",
    "# decompose for higher resolution analysis\n",
    "G_decomp = graphs.nx_decompose(G3, 25)"
   ]
  },
  {
   "cell_type": "code",
   "execution_count": null,
   "metadata": {
    "collapsed": false,
    "pycharm": {
     "name": "#%%\n"
    }
   },
   "outputs": [],
   "source": [
    "# prepare data layer\n",
    "import pandas as pd\n",
    "import geopandas as gpd\n",
    "import numpy as np\n",
    "from cityseer.metrics import layers\n",
    "\n",
    "# prepare network data structures for cityseer\n",
    "nodes_gdf, network_structure = graphs.network_structure_from_nx(G_decomp, crs=32630)  # UTM zone 30N\n",
    "# load data from URL\n",
    "pubs_data_io = pd.read_csv(\n",
    "    \"https://data.london.gov.uk/download/cultural-infrastructure-map/7e6b0f36-da01-4029-99d7-640d89c4a0a4/Pubs.csv\"\n",
    ")\n",
    "pubs_data_gdf = gpd.GeoDataFrame(\n",
    "    pubs_data_io, crs=27700, geometry=gpd.points_from_xy(pubs_data_io.easting, pubs_data_io.northing)\n",
    ")\n",
    "# convert to the same UTM CRS as the network\n",
    "pubs_data_gdf = pubs_data_gdf.to_crs(32630)  # to match EPSG code for UTM zone 30N per network data\n",
    "# all pubs will have the same landuse category\n",
    "pubs_data_gdf[\"landuse_category\"] = 'pub'\n",
    "pubs_data_gdf.head()\n",
    "# compute pub accessibility\n",
    "nodes_gdf, pubs_data_gdf = layers.compute_accessibilities(\n",
    "    pubs_data_gdf,\n",
    "    landuse_column_label=\"landuse_category\",\n",
    "    accessibility_keys=[\"pub\"],\n",
    "    nodes_gdf=nodes_gdf,\n",
    "    network_structure=network_structure,\n",
    "    distances=[100, 200, 400, 800],\n",
    ")"
   ]
  },
  {
   "cell_type": "code",
   "execution_count": null,
   "metadata": {
    "collapsed": false,
    "pycharm": {
     "name": "#%%\n"
    }
   },
   "outputs": [],
   "source": [
    "# data can be extracted, plotted, or otherwise manipulated directly from the numpy arrays\n",
    "# see the getting started guide if you'd prefer to first convert back to NetworkX\n",
    "from cityseer.metrics import networks\n",
    "\n",
    "import utm\n",
    "from shapely import geometry\n",
    "import matplotlib.pyplot as plt\n",
    "import numpy as np\n",
    "from sklearn.preprocessing import minmax_scale\n",
    "\n",
    "def simple_plot(xs: np.ndarray, ys: np.ndarray, vals: np.ndarray):\n",
    "    \"\"\" \"\"\"\n",
    "    # extents\n",
    "    easting, northing = utm.from_latlon(lat, lng)[:2]\n",
    "    buff = geometry.Point(easting, northing).buffer(3500)\n",
    "    min_x, min_y, max_x, max_y = buff.bounds\n",
    "    # fig\n",
    "    fig, ax = plt.subplots(1, 1, figsize=(8, 8), dpi=200, facecolor=\"white\")\n",
    "    # filter\n",
    "    select = xs > min_x\n",
    "    select = np.logical_and(select, xs < max_x)\n",
    "    select = np.logical_and(select, ys > min_y)\n",
    "    select = np.logical_and(select, ys < max_y)\n",
    "    select_idx = np.where(select)[0]\n",
    "    # remove any extreme outliers\n",
    "    v = np.clip(vals, np.nanpercentile(vals, 0.01), np.nanpercentile(vals, 99.9))\n",
    "    # shape if wanted\n",
    "    c = v**1\n",
    "    c = minmax_scale(c, feature_range=(0, 1))\n",
    "    s = v**1\n",
    "    s = minmax_scale(s, feature_range=(0, 1.5))\n",
    "    # plot\n",
    "    ax.scatter(\n",
    "        xs[select_idx], ys[select_idx], c=c[select_idx], s=s[select_idx], linewidths=0, edgecolors=\"none\", cmap=\"Greens\"\n",
    "    )\n",
    "    # limits\n",
    "    ax.set_xlim(left=min_x, right=max_x)\n",
    "    ax.set_ylim(bottom=min_y, top=max_y)\n",
    "    ax.set_xticks([])\n",
    "    ax.set_yticks([])\n",
    "    ax.set_aspect(1)\n",
    "    ax.set_facecolor(\"white\")\n",
    "    plt.show()\n",
    "\n",
    "\n",
    "for d in [100, 200, 400, 800]:\n",
    "    b = networks.beta_from_distance(d)[0]\n",
    "    avg_d = networks.avg_distance_for_beta(float(b))[0]\n",
    "    print(\n",
    "        f\"\"\"\n",
    "    Distance weighted Pub accessibility:\n",
    "    Avg walking tolerance: {avg_d:.2f}m\n",
    "    Beta: {b} (spatial impedance factor)\n",
    "    Max walking tolerance: {d}m\n",
    "    \"\"\"\n",
    "    )\n",
    "    simple_plot(\n",
    "        network_structure.nodes.xs, network_structure.nodes.ys, nodes_gdf[f\"cc_metric_pub_{d}_weighted\"]\n",
    "    )"
   ]
  }
 ],
 "metadata": {
  "kernelspec": {
   "display_name": "Python 3.9.13 64-bit",
   "language": "python",
   "name": "python3"
  },
  "language_info": {
   "codemirror_mode": {
    "name": "ipython",
    "version": 3
   },
   "file_extension": ".py",
   "mimetype": "text/x-python",
   "name": "python",
   "nbconvert_exporter": "python",
   "pygments_lexer": "ipython3",
   "version": "3.9.13"
  },
  "vscode": {
   "interpreter": {
    "hash": "a665b5d41d17b532ea9890333293a1b812fa0b73c9c25c950b3cedf1bebd0438"
   }
  }
 },
 "nbformat": 4,
 "nbformat_minor": 0
}
