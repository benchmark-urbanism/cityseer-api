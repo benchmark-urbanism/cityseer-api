{
 "cells": [
  {
   "attachments": {},
   "cell_type": "markdown",
   "metadata": {},
   "source": [
    "Pending release notes\n",
    "- graphs must use strings as indices\n",
    "- distances must be int\n",
    "- no more dynamic compilation!\n",
    "- no more dependency on numba - which has lagged official python releases and can be finicky\n",
    "- python based modules are unchanged"
   ]
  },
  {
   "cell_type": "code",
   "execution_count": 1,
   "metadata": {},
   "outputs": [
    {
     "name": "stdout",
     "output_type": "stream",
     "text": [
      "<module 'cityseer.rustalgos' from '/Users/gareth/dev/benchmark-urbanism/cityseer-api/python/cityseer/rustalgos.cpython-310-darwin.so'>\n"
     ]
    }
   ],
   "source": [
    "from cityseer import rustalgos\n",
    "\n",
    "print(rustalgos)\n",
    "# data_entry = cityseer.structures.DataEntry(1, 2)\n",
    "# print(data_entry)\n"
   ]
  },
  {
   "cell_type": "code",
   "execution_count": 2,
   "metadata": {},
   "outputs": [
    {
     "data": {
      "text/plain": [
       "6"
      ]
     },
     "execution_count": 2,
     "metadata": {},
     "output_type": "execute_result"
    }
   ],
   "source": [
    "rustalgos.multiply(2, 3)"
   ]
  },
  {
   "cell_type": "code",
   "execution_count": 3,
   "metadata": {},
   "outputs": [
    {
     "data": {
      "text/plain": [
       "(2, 3)"
      ]
     },
     "execution_count": 3,
     "metadata": {},
     "output_type": "execute_result"
    }
   ],
   "source": [
    "entry = rustalgos.DataEntry(2, 3)\n",
    "entry.xy()"
   ]
  },
  {
   "cell_type": "code",
   "execution_count": 4,
   "metadata": {},
   "outputs": [
    {
     "data": {
      "text/plain": [
       "0"
      ]
     },
     "execution_count": 4,
     "metadata": {},
     "output_type": "execute_result"
    }
   ],
   "source": [
    "map = rustalgos.DataMap()\n",
    "map.len()"
   ]
  },
  {
   "cell_type": "code",
   "execution_count": 5,
   "metadata": {},
   "outputs": [],
   "source": [
    "map.insert(2, 3)"
   ]
  },
  {
   "cell_type": "code",
   "execution_count": 6,
   "metadata": {},
   "outputs": [
    {
     "data": {
      "text/plain": [
       "(2, 3)"
      ]
     },
     "execution_count": 6,
     "metadata": {},
     "output_type": "execute_result"
    }
   ],
   "source": [
    "map.entries[0].xy()"
   ]
  },
  {
   "cell_type": "code",
   "execution_count": 7,
   "metadata": {},
   "outputs": [
    {
     "name": "stdout",
     "output_type": "stream",
     "text": [
      "2\n",
      "4\n",
      "5\n",
      "6\n"
     ]
    }
   ],
   "source": [
    "map.set_nearest_assign(0, 2)\n",
    "print(map.entries[0].nearest_assign)\n",
    "map.set_nearest_assign(0, 4)\n",
    "print(map.entries[0].nearest_assign)\n",
    "map.set_next_nearest_assign(0, 5)\n",
    "print(map.entries[0].next_nearest_assign)\n",
    "map.set_next_nearest_assign(0, 6)\n",
    "print(map.entries[0].next_nearest_assign)"
   ]
  },
  {
   "cell_type": "code",
   "execution_count": 8,
   "metadata": {},
   "outputs": [],
   "source": [
    "network_structure = rustalgos.NetworkStructure()"
   ]
  },
  {
   "cell_type": "code",
   "execution_count": 9,
   "metadata": {},
   "outputs": [
    {
     "name": "stdout",
     "output_type": "stream",
     "text": [
      "0\n",
      "1\n"
     ]
    }
   ],
   "source": [
    "idx1 = network_structure.set_node('boo', 1, 1, False)\n",
    "print(idx1.index)\n",
    "idx2 = network_structure.set_node('baa', 2, 2, False)\n",
    "print(idx2.index)"
   ]
  },
  {
   "cell_type": "code",
   "execution_count": 10,
   "metadata": {},
   "outputs": [
    {
     "name": "stdout",
     "output_type": "stream",
     "text": [
      "0\n"
     ]
    }
   ],
   "source": [
    "e_idx1 = network_structure.add_edge(0, 1, 100, 0, 1, 0, 0)\n",
    "print(e_idx1.index)"
   ]
  },
  {
   "cell_type": "code",
   "execution_count": 11,
   "metadata": {},
   "outputs": [
    {
     "data": {
      "text/plain": [
       "True"
      ]
     },
     "execution_count": 11,
     "metadata": {},
     "output_type": "execute_result"
    }
   ],
   "source": [
    "network_structure.validate()"
   ]
  },
  {
   "cell_type": "code",
   "execution_count": 12,
   "metadata": {},
   "outputs": [
    {
     "name": "stdout",
     "output_type": "stream",
     "text": [
      "1.0\n",
      "False\n"
     ]
    }
   ],
   "source": [
    "node_payload = network_structure.get_node_payload(0)\n",
    "print(node_payload.x)\n",
    "print(node_payload.live)"
   ]
  },
  {
   "cell_type": "code",
   "execution_count": 13,
   "metadata": {},
   "outputs": [
    {
     "name": "stdout",
     "output_type": "stream",
     "text": [
      "100.0\n",
      "0.0\n"
     ]
    }
   ],
   "source": [
    "edge_payload = network_structure.get_edge_payload(0, 1)\n",
    "print(edge_payload.length)\n",
    "print(edge_payload.angle_sum)"
   ]
  }
 ],
 "metadata": {
  "kernelspec": {
   "display_name": ".venv",
   "language": "python",
   "name": "python3"
  },
  "language_info": {
   "codemirror_mode": {
    "name": "ipython",
    "version": 3
   },
   "file_extension": ".py",
   "mimetype": "text/x-python",
   "name": "python",
   "nbconvert_exporter": "python",
   "pygments_lexer": "ipython3",
   "version": "3.10.11"
  },
  "orig_nbformat": 4
 },
 "nbformat": 4,
 "nbformat_minor": 2
}
